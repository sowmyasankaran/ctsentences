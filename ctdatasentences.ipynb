{
  "nbformat": 4,
  "nbformat_minor": 0,
  "metadata": {
    "colab": {
      "provenance": [],
      "collapsed_sections": [
        "_HKTB9mtmDCS",
        "Rtq6wcCfmdiP",
        "zV96-TNAyq2U",
        "sqHp8JCw3PGY",
        "L5946dpQ9XO-",
        "DYmR6L1WRuqZ",
        "zxH_yq8RWquN",
        "YiYxJNtPbFB4",
        "-ZSemxPzKZ_v",
        "rfsVuU_ES1pD",
        "CmU93t37Vg5f",
        "LpMP09yobCU2"
      ],
      "mount_file_id": "16vxg3MpXz6LpMJd_hxZ4phZPIwWTzjOz",
      "authorship_tag": "ABX9TyN8ZXFy830M93tT9CZCSm4v",
      "include_colab_link": true
    },
    "kernelspec": {
      "name": "python3",
      "display_name": "Python 3"
    },
    "language_info": {
      "name": "python"
    }
  },
  "cells": [
    {
      "cell_type": "markdown",
      "metadata": {
        "id": "view-in-github",
        "colab_type": "text"
      },
      "source": [
        "<a href=\"https://colab.research.google.com/github/sowmyasankaran/ctsentences/blob/main/ctdatasentences.ipynb\" target=\"_parent\"><img src=\"https://colab.research.google.com/assets/colab-badge.svg\" alt=\"Open In Colab\"/></a>"
      ]
    },
    {
      "cell_type": "markdown",
      "source": [
        "# **AGE**"
      ],
      "metadata": {
        "id": "_HKTB9mtmDCS"
      }
    },
    {
      "cell_type": "code",
      "execution_count": null,
      "metadata": {
        "colab": {
          "base_uri": "https://localhost:8080/"
        },
        "id": "HE3Fa8n7EFZ7",
        "outputId": "4ff7e388-e118-484d-8bec-8b7866fb6b23"
      },
      "outputs": [
        {
          "output_type": "execute_result",
          "data": {
            "text/plain": [
              "(   Case ID Patient affiliation  Age at Histological Diagnosis   Weight (lbs)  \\\n",
              " 0  AMC-001            Stanford                             34  Not Collected   \n",
              " 1  AMC-002            Stanford                             33  Not Collected   \n",
              " 2  AMC-003            Stanford                             69  Not Collected   \n",
              " 3  AMC-004            Stanford                             80  Not Collected   \n",
              " 4  AMC-005            Stanford                             76  Not Collected   \n",
              " \n",
              "    Gender                 Ethnicity Smoking status Pack Years  \\\n",
              " 0    Male  Not Recorded In Database      Nonsmoker        NaN   \n",
              " 1  Female  Not Recorded In Database      Nonsmoker        NaN   \n",
              " 2  Female  Not Recorded In Database      Nonsmoker        NaN   \n",
              " 3  Female  Not Recorded In Database      Nonsmoker        NaN   \n",
              " 4    Male  Not Recorded In Database         Former         30   \n",
              " \n",
              "    Quit Smoking Year           %GG  ... Recurrence Recurrence Location  \\\n",
              " 0                NaN  Not Assessed  ...        yes             distant   \n",
              " 1                NaN  Not Assessed  ...         no                 NaN   \n",
              " 2                NaN  Not Assessed  ...         no                 NaN   \n",
              " 3                NaN  Not Assessed  ...         no                 NaN   \n",
              " 4             1962.0  Not Assessed  ...        yes             distant   \n",
              " \n",
              "   Date of Recurrence Date of Last Known Alive Survival Status Date of Death  \\\n",
              " 0          10/7/1994                 1/7/1997            Dead      1/7/1997   \n",
              " 1                NaN                3/20/1992           Alive           NaN   \n",
              " 2                NaN                6/19/1996           Alive           NaN   \n",
              " 3                NaN               12/13/1996           Alive           NaN   \n",
              " 4           1/4/1996                 1/7/1997           Alive           NaN   \n",
              " \n",
              "   Time to Death (days)     CT Date Days between CT and surgery       PET Date  \n",
              " 0                872.0   8/10/1994                           9  Not Collected  \n",
              " 1                  NaN   2/19/1992                           3  Not Collected  \n",
              " 2                  NaN   2/23/1995                          28  Not Collected  \n",
              " 3                  NaN  12/26/1992                          47  Not Collected  \n",
              " 4                  NaN   7/21/1994                           2  Not Collected  \n",
              " \n",
              " [5 rows x 40 columns],\n",
              " Index(['Case ID', 'Patient affiliation', 'Age at Histological Diagnosis',\n",
              "        'Weight (lbs)', 'Gender', 'Ethnicity', 'Smoking status', 'Pack Years',\n",
              "        'Quit Smoking Year', '%GG', 'Tumor Location (choice=RUL)',\n",
              "        'Tumor Location (choice=RML)', 'Tumor Location (choice=RLL)',\n",
              "        'Tumor Location (choice=LUL)', 'Tumor Location (choice=LLL)',\n",
              "        'Tumor Location (choice=L Lingula)', 'Tumor Location (choice=Unknown)',\n",
              "        'Histology ', 'Pathological T stage', 'Pathological N stage',\n",
              "        'Pathological M stage', 'Histopathological Grade',\n",
              "        'Lymphovascular invasion',\n",
              "        'Pleural invasion (elastic, visceral, or parietal)',\n",
              "        'EGFR mutation status', 'KRAS mutation status',\n",
              "        'ALK translocation status', 'Adjuvant Treatment', 'Chemotherapy',\n",
              "        'Radiation', 'Recurrence', 'Recurrence Location', 'Date of Recurrence',\n",
              "        'Date of Last Known Alive', 'Survival Status', 'Date of Death',\n",
              "        'Time to Death (days)', 'CT Date', 'Days between CT and surgery',\n",
              "        'PET Date'],\n",
              "       dtype='object'))"
            ]
          },
          "metadata": {},
          "execution_count": 2
        }
      ],
      "source": [
        "import pandas as pd\n",
        "\n",
        "# Load the uploaded CSV file to examine its structure and content\n",
        "file_path = '/content/drive/MyDrive/NSCLCR01Radiogenomic_DATA_LABELS_2018-05-22_1500-shifted.csv'\n",
        "data = pd.read_csv(file_path)\n",
        "\n",
        "# Display the first few rows of the dataset to understand its structure\n",
        "data.head(), data.columns"
      ]
    },
    {
      "cell_type": "code",
      "source": [
        "# Extract the relevant columns: \"Case ID\" and \"Age at Histological Diagnosis\"\n",
        "age_data = data[['Case ID', 'Age at Histological Diagnosis']].dropna()\n",
        "\n",
        "import random\n",
        "\n",
        "\n",
        "\n",
        "# Generate unique sentences for each case\n",
        "sentences = []\n",
        "for _, row in age_data.iterrows():\n",
        "    case_id = row['Case ID']\n",
        "    age = int(row['Age at Histological Diagnosis'])  # Convert age to integer\n",
        "    sentnum = random.randint(1, 50)\n",
        "\n",
        "\n",
        "\n",
        "    if sentnum >= 1 and sentnum <= 5:\n",
        "        phrase = f\"The patient was {age} years old at the time of histological diagnosis.\"\n",
        "        sentences.append(phrase)\n",
        "    if sentnum >= 6 and sentnum <= 10:\n",
        "        phrase = f\"At the time of histological diagnosis, the patient’s age was documented as {age}.\"\n",
        "        sentences.append(phrase)\n",
        "    if sentnum >= 11 and sentnum <= 15:\n",
        "        phrase = f\"The age of the patient was noted as {age} at the time of histological diagnosis.\"\n",
        "        sentences.append(phrase)\n",
        "    if sentnum >= 16 and sentnum <= 20:\n",
        "        phrase = f\"The patient’s age at the time of histological diagnosis was {age}.\"\n",
        "        sentences.append(phrase)\n",
        "    if sentnum >= 21 and sentnum <= 25:\n",
        "        phrase = f\"The patient’s documented age was {age} at the time of histological diagnosis.\"\n",
        "        sentences.append(phrase)\n",
        "    if sentnum >= 26 and sentnum <= 30:\n",
        "        phrase = f\"The patient’s recorded age was {age} when a histological diagnosis was performed.\"\n",
        "        sentences.append(phrase)\n",
        "    if sentnum >= 31 and sentnum <= 35:\n",
        "        phrase = f\"The patient was age {age} at the time of histological diagnosis.\"\n",
        "        sentences.append(phrase)\n",
        "    if sentnum >= 36 and sentnum <= 40:\n",
        "        phrase = f\"The patient’s age at the time of histological diagnosis was recorded as {age}.\"\n",
        "        sentences.append(phrase)\n",
        "    if sentnum >= 41 and sentnum <= 45:\n",
        "        phrase = f\"The patient’s stated age was {age} when a histological diagnosis was performed.\"\n",
        "        sentences.append(phrase)\n",
        "    if sentnum >= 46 and sentnum <= 50:\n",
        "        phrase = f\"The patient’s age at the time of histological diagnosis was {age}.\"\n",
        "        sentences.append(phrase)\n",
        "\n"
      ],
      "metadata": {
        "id": "b00aY658EKFy"
      },
      "execution_count": null,
      "outputs": []
    },
    {
      "cell_type": "code",
      "source": [
        "# Save the full list of sentences to a text file\n",
        "output_file_path = '/content/drive/MyDrive/histodiagnosisdata/histological_diagnosis_ages.txt'\n",
        "with open(output_file_path, 'w') as file:\n",
        "    file.write('\\n'.join(sentences))"
      ],
      "metadata": {
        "id": "g3pccqC1ERsH"
      },
      "execution_count": null,
      "outputs": []
    },
    {
      "cell_type": "markdown",
      "source": [
        "# **WEIGHT**"
      ],
      "metadata": {
        "id": "Rtq6wcCfmdiP"
      }
    },
    {
      "cell_type": "code",
      "source": [
        "import pandas as pd\n",
        "\n",
        "# Load the uploaded CSV file to examine its structure and content\n",
        "file_path = '/content/drive/MyDrive/NSCLCR01Radiogenomic_DATA_LABELS_2018-05-22_1500-shifted.csv'\n",
        "data = pd.read_csv(file_path)\n",
        "\n",
        "# Display the first few rows of the dataset to understand its structure\n",
        "data.head(), data.columns"
      ],
      "metadata": {
        "colab": {
          "base_uri": "https://localhost:8080/"
        },
        "id": "mMoyzKDHmkyo",
        "outputId": "cbec0ebb-4797-4730-cba5-f0967eb13ecc"
      },
      "execution_count": null,
      "outputs": [
        {
          "output_type": "execute_result",
          "data": {
            "text/plain": [
              "(   Case ID Patient affiliation  Age at Histological Diagnosis   Weight (lbs)  \\\n",
              " 0  AMC-001            Stanford                             34  Not Collected   \n",
              " 1  AMC-002            Stanford                             33  Not Collected   \n",
              " 2  AMC-003            Stanford                             69  Not Collected   \n",
              " 3  AMC-004            Stanford                             80  Not Collected   \n",
              " 4  AMC-005            Stanford                             76  Not Collected   \n",
              " \n",
              "    Gender                 Ethnicity Smoking status Pack Years  \\\n",
              " 0    Male  Not Recorded In Database      Nonsmoker        NaN   \n",
              " 1  Female  Not Recorded In Database      Nonsmoker        NaN   \n",
              " 2  Female  Not Recorded In Database      Nonsmoker        NaN   \n",
              " 3  Female  Not Recorded In Database      Nonsmoker        NaN   \n",
              " 4    Male  Not Recorded In Database         Former         30   \n",
              " \n",
              "    Quit Smoking Year           %GG  ... Recurrence Recurrence Location  \\\n",
              " 0                NaN  Not Assessed  ...        yes             distant   \n",
              " 1                NaN  Not Assessed  ...         no                 NaN   \n",
              " 2                NaN  Not Assessed  ...         no                 NaN   \n",
              " 3                NaN  Not Assessed  ...         no                 NaN   \n",
              " 4             1962.0  Not Assessed  ...        yes             distant   \n",
              " \n",
              "   Date of Recurrence Date of Last Known Alive Survival Status Date of Death  \\\n",
              " 0          10/7/1994                 1/7/1997            Dead      1/7/1997   \n",
              " 1                NaN                3/20/1992           Alive           NaN   \n",
              " 2                NaN                6/19/1996           Alive           NaN   \n",
              " 3                NaN               12/13/1996           Alive           NaN   \n",
              " 4           1/4/1996                 1/7/1997           Alive           NaN   \n",
              " \n",
              "   Time to Death (days)     CT Date Days between CT and surgery       PET Date  \n",
              " 0                872.0   8/10/1994                           9  Not Collected  \n",
              " 1                  NaN   2/19/1992                           3  Not Collected  \n",
              " 2                  NaN   2/23/1995                          28  Not Collected  \n",
              " 3                  NaN  12/26/1992                          47  Not Collected  \n",
              " 4                  NaN   7/21/1994                           2  Not Collected  \n",
              " \n",
              " [5 rows x 40 columns],\n",
              " Index(['Case ID', 'Patient affiliation', 'Age at Histological Diagnosis',\n",
              "        'Weight (lbs)', 'Gender', 'Ethnicity', 'Smoking status', 'Pack Years',\n",
              "        'Quit Smoking Year', '%GG', 'Tumor Location (choice=RUL)',\n",
              "        'Tumor Location (choice=RML)', 'Tumor Location (choice=RLL)',\n",
              "        'Tumor Location (choice=LUL)', 'Tumor Location (choice=LLL)',\n",
              "        'Tumor Location (choice=L Lingula)', 'Tumor Location (choice=Unknown)',\n",
              "        'Histology ', 'Pathological T stage', 'Pathological N stage',\n",
              "        'Pathological M stage', 'Histopathological Grade',\n",
              "        'Lymphovascular invasion',\n",
              "        'Pleural invasion (elastic, visceral, or parietal)',\n",
              "        'EGFR mutation status', 'KRAS mutation status',\n",
              "        'ALK translocation status', 'Adjuvant Treatment', 'Chemotherapy',\n",
              "        'Radiation', 'Recurrence', 'Recurrence Location', 'Date of Recurrence',\n",
              "        'Date of Last Known Alive', 'Survival Status', 'Date of Death',\n",
              "        'Time to Death (days)', 'CT Date', 'Days between CT and surgery',\n",
              "        'PET Date'],\n",
              "       dtype='object'))"
            ]
          },
          "metadata": {},
          "execution_count": 9
        }
      ]
    },
    {
      "cell_type": "code",
      "source": [
        "# Extract the relevant columns: \"Case ID\" and \"Weight (lbs)\"\n",
        "weight_data = data[['Case ID', 'Weight (lbs)']].dropna()\n",
        "\n",
        "import random\n",
        "\n",
        "# Generate unique sentences for each case\n",
        "weightsentences = []\n",
        "for _, row in weight_data.iterrows():\n",
        "    case_id = row['Case ID']\n",
        "    weight = row['Weight (lbs)']  # Convert age to integer\n",
        "    sentnum = random.randint(1, 50)\n",
        "\n",
        "\n",
        "\n",
        "    if sentnum >= 1 and sentnum <= 5:\n",
        "        phrase = f\"The patient's weight measured at the time of histological diagnosis was {weight}.\"\n",
        "        weightsentences.append(phrase)\n",
        "    if sentnum >= 6 and sentnum <= 10:\n",
        "        phrase = f\"At the time of histological diagnosis, the patient’s weight was {weight}.\"\n",
        "        weightsentences.append(phrase)\n",
        "    if sentnum >= 11 and sentnum <= 15:\n",
        "        phrase = f\"The patient's weight was {weight} at the time of histological diagnosis.\"\n",
        "        weightsentences.append(phrase)\n",
        "    if sentnum >= 16 and sentnum <= 20:\n",
        "        phrase = f\"The documented weight of the patient was {weight} when a histological diagnosis was performed.\"\n",
        "        weightsentences.append(phrase)\n",
        "    if sentnum >= 21 and sentnum <= 25:\n",
        "        phrase = f\"The patient's weight at the time of histological diagnosis was {weight}.\"\n",
        "        weightsentences.append(phrase)\n",
        "    if sentnum >= 26 and sentnum <= 30:\n",
        "        phrase = f\"The patient's weight, as noted at the time of histological diagnosis, was {weight}.\"\n",
        "        weightsentences.append(phrase)\n",
        "    if sentnum >= 31 and sentnum <= 35:\n",
        "        phrase = f\"The body weight of the patient, as documented during histological diagnosis, was {weight}.\"\n",
        "        weightsentences.append(phrase)\n",
        "    if sentnum >= 36 and sentnum <= 40:\n",
        "        phrase = f\"The patient's weight, as assessed at the time of histological diagnosis, was {weight}.\"\n",
        "        weightsentences.append(phrase)\n",
        "    if sentnum >= 41 and sentnum <= 45:\n",
        "        phrase = f\"The patient's weight, measured at the time of histological diagnosis, was {weight}.\"\n",
        "        weightsentences.append(phrase)\n",
        "    if sentnum >= 46 and sentnum <= 50:\n",
        "        phrase = f\"As of the time of histological diagnosis, the patient’s weight was {weight}.\"\n",
        "        weightsentences.append(phrase)"
      ],
      "metadata": {
        "id": "IgyRVMo2jett"
      },
      "execution_count": null,
      "outputs": []
    },
    {
      "cell_type": "code",
      "source": [
        "# Save the full list of sentences to a text file\n",
        "output_file_path = '/content/drive/MyDrive/histodiagnosisdata/histological_diagnosis_weights.txt'\n",
        "with open(output_file_path, 'w') as file:\n",
        "    file.write('\\n'.join(weightsentences))"
      ],
      "metadata": {
        "id": "TURq8Ijamon3"
      },
      "execution_count": null,
      "outputs": []
    },
    {
      "cell_type": "markdown",
      "source": [
        "# **GENDER**"
      ],
      "metadata": {
        "id": "zV96-TNAyq2U"
      }
    },
    {
      "cell_type": "code",
      "source": [
        "import pandas as pd\n",
        "\n",
        "# Load the uploaded CSV file to examine its structure and content\n",
        "file_path = '/content/drive/MyDrive/NSCLCR01Radiogenomic_DATA_LABELS_2018-05-22_1500-shifted.csv'\n",
        "data = pd.read_csv(file_path)\n",
        "\n",
        "# Display the first few rows of the dataset to understand its structure\n",
        "data.head(), data.columns"
      ],
      "metadata": {
        "colab": {
          "base_uri": "https://localhost:8080/"
        },
        "outputId": "9bd48f06-d316-463e-a131-ee318dee56ed",
        "id": "sMDDjYHPyvpq"
      },
      "execution_count": null,
      "outputs": [
        {
          "output_type": "execute_result",
          "data": {
            "text/plain": [
              "(   Case ID Patient affiliation  Age at Histological Diagnosis   Weight (lbs)  \\\n",
              " 0  AMC-001            Stanford                             34  Not Collected   \n",
              " 1  AMC-002            Stanford                             33  Not Collected   \n",
              " 2  AMC-003            Stanford                             69  Not Collected   \n",
              " 3  AMC-004            Stanford                             80  Not Collected   \n",
              " 4  AMC-005            Stanford                             76  Not Collected   \n",
              " \n",
              "    Gender                 Ethnicity Smoking status Pack Years  \\\n",
              " 0    Male  Not Recorded In Database      Nonsmoker        NaN   \n",
              " 1  Female  Not Recorded In Database      Nonsmoker        NaN   \n",
              " 2  Female  Not Recorded In Database      Nonsmoker        NaN   \n",
              " 3  Female  Not Recorded In Database      Nonsmoker        NaN   \n",
              " 4    Male  Not Recorded In Database         Former         30   \n",
              " \n",
              "    Quit Smoking Year           %GG  ... Recurrence Recurrence Location  \\\n",
              " 0                NaN  Not Assessed  ...        yes             distant   \n",
              " 1                NaN  Not Assessed  ...         no                 NaN   \n",
              " 2                NaN  Not Assessed  ...         no                 NaN   \n",
              " 3                NaN  Not Assessed  ...         no                 NaN   \n",
              " 4             1962.0  Not Assessed  ...        yes             distant   \n",
              " \n",
              "   Date of Recurrence Date of Last Known Alive Survival Status Date of Death  \\\n",
              " 0          10/7/1994                 1/7/1997            Dead      1/7/1997   \n",
              " 1                NaN                3/20/1992           Alive           NaN   \n",
              " 2                NaN                6/19/1996           Alive           NaN   \n",
              " 3                NaN               12/13/1996           Alive           NaN   \n",
              " 4           1/4/1996                 1/7/1997           Alive           NaN   \n",
              " \n",
              "   Time to Death (days)     CT Date Days between CT and surgery       PET Date  \n",
              " 0                872.0   8/10/1994                           9  Not Collected  \n",
              " 1                  NaN   2/19/1992                           3  Not Collected  \n",
              " 2                  NaN   2/23/1995                          28  Not Collected  \n",
              " 3                  NaN  12/26/1992                          47  Not Collected  \n",
              " 4                  NaN   7/21/1994                           2  Not Collected  \n",
              " \n",
              " [5 rows x 40 columns],\n",
              " Index(['Case ID', 'Patient affiliation', 'Age at Histological Diagnosis',\n",
              "        'Weight (lbs)', 'Gender', 'Ethnicity', 'Smoking status', 'Pack Years',\n",
              "        'Quit Smoking Year', '%GG', 'Tumor Location (choice=RUL)',\n",
              "        'Tumor Location (choice=RML)', 'Tumor Location (choice=RLL)',\n",
              "        'Tumor Location (choice=LUL)', 'Tumor Location (choice=LLL)',\n",
              "        'Tumor Location (choice=L Lingula)', 'Tumor Location (choice=Unknown)',\n",
              "        'Histology ', 'Pathological T stage', 'Pathological N stage',\n",
              "        'Pathological M stage', 'Histopathological Grade',\n",
              "        'Lymphovascular invasion',\n",
              "        'Pleural invasion (elastic, visceral, or parietal)',\n",
              "        'EGFR mutation status', 'KRAS mutation status',\n",
              "        'ALK translocation status', 'Adjuvant Treatment', 'Chemotherapy',\n",
              "        'Radiation', 'Recurrence', 'Recurrence Location', 'Date of Recurrence',\n",
              "        'Date of Last Known Alive', 'Survival Status', 'Date of Death',\n",
              "        'Time to Death (days)', 'CT Date', 'Days between CT and surgery',\n",
              "        'PET Date'],\n",
              "       dtype='object'))"
            ]
          },
          "metadata": {},
          "execution_count": 12
        }
      ]
    },
    {
      "cell_type": "code",
      "source": [
        "# Extract the relevant columns: \"Case ID\" and \"Weight (lbs)\"\n",
        "gender_data = data[['Case ID', 'Gender']].dropna()\n",
        "\n",
        "import random\n",
        "\n",
        "# Generate unique sentences for each case\n",
        "gendersentences = []\n",
        "for _, row in gender_data.iterrows():\n",
        "    case_id = row['Case ID']\n",
        "    gender = row['Gender']  # Convert age to integer\n",
        "    sentnum = random.randint(1, 50)\n",
        "\n",
        "\n",
        "\n",
        "    if sentnum >= 1 and sentnum <= 5:\n",
        "        phrase = f\"The patient's gender was documented as {gender}.\"\n",
        "        gendersentences.append(phrase)\n",
        "    if sentnum >= 6 and sentnum <= 10:\n",
        "        phrase = f\"The patient's gender was recorded as {gender}.\"\n",
        "        gendersentences.append(phrase)\n",
        "    if sentnum >= 11 and sentnum <= 15:\n",
        "        phrase = f\"The patient’s gender was noted to be {gender}.\"\n",
        "        gendersentences.append(phrase)\n",
        "    if sentnum >= 16 and sentnum <= 20:\n",
        "        phrase = f\"The patient's reported gender was {gender}.\"\n",
        "        gendersentences.append(phrase)\n",
        "    if sentnum >= 21 and sentnum <= 25:\n",
        "        phrase = f\"The patient's gender was classified as {gender}.\"\n",
        "        gendersentences.append(phrase)\n",
        "    if sentnum >= 26 and sentnum <= 30:\n",
        "        phrase = f\"The patient's gender was stated to be {gender}.\"\n",
        "        gendersentences.append(phrase)\n",
        "    if sentnum >= 31 and sentnum <= 35:\n",
        "        phrase = f\"The patient's gender was {gender}.\"\n",
        "        gendersentences.append(phrase)\n",
        "    if sentnum >= 36 and sentnum <= 40:\n",
        "        phrase = f\"The patient’s gender was reported as {gender}.\"\n",
        "        gendersentences.append(phrase)\n",
        "    if sentnum >= 41 and sentnum <= 45:\n",
        "        phrase = f\"Based on the report, the patient's gender was {gender}.\"\n",
        "        gendersentences.append(phrase)\n",
        "    if sentnum >= 46 and sentnum <= 50:\n",
        "        phrase = f\"The patient's gender was listed as {gender}.\"\n",
        "        gendersentences.append(phrase)"
      ],
      "metadata": {
        "id": "9oy18BeNyvpq"
      },
      "execution_count": null,
      "outputs": []
    },
    {
      "cell_type": "code",
      "source": [
        "# Save the full list of sentences to a text file\n",
        "output_file_path = '/content/drive/MyDrive/histodiagnosisdata/histological_diagnosis_genders.txt'\n",
        "with open(output_file_path, 'w') as file:\n",
        "    file.write('\\n'.join(gendersentences))"
      ],
      "metadata": {
        "id": "xT5CnrWmyvpq"
      },
      "execution_count": null,
      "outputs": []
    },
    {
      "cell_type": "markdown",
      "source": [
        "# **ETHNICITY**"
      ],
      "metadata": {
        "id": "sqHp8JCw3PGY"
      }
    },
    {
      "cell_type": "code",
      "source": [
        "import pandas as pd\n",
        "\n",
        "# Load the uploaded CSV file to examine its structure and content\n",
        "file_path = '/content/drive/MyDrive/NSCLCR01Radiogenomic_DATA_LABELS_2018-05-22_1500-shifted.csv'\n",
        "data = pd.read_csv(file_path)\n",
        "\n",
        "# Display the first few rows of the dataset to understand its structure\n",
        "data.head(), data.columns"
      ],
      "metadata": {
        "colab": {
          "base_uri": "https://localhost:8080/"
        },
        "outputId": "0787eda2-ba82-4ba0-b67f-7796063b86f3",
        "id": "RyB6uo403T5s"
      },
      "execution_count": null,
      "outputs": [
        {
          "output_type": "execute_result",
          "data": {
            "text/plain": [
              "(   Case ID Patient affiliation  Age at Histological Diagnosis   Weight (lbs)  \\\n",
              " 0  AMC-001            Stanford                             34  Not Collected   \n",
              " 1  AMC-002            Stanford                             33  Not Collected   \n",
              " 2  AMC-003            Stanford                             69  Not Collected   \n",
              " 3  AMC-004            Stanford                             80  Not Collected   \n",
              " 4  AMC-005            Stanford                             76  Not Collected   \n",
              " \n",
              "    Gender                 Ethnicity Smoking status Pack Years  \\\n",
              " 0    Male  Not Recorded In Database      Nonsmoker        NaN   \n",
              " 1  Female  Not Recorded In Database      Nonsmoker        NaN   \n",
              " 2  Female  Not Recorded In Database      Nonsmoker        NaN   \n",
              " 3  Female  Not Recorded In Database      Nonsmoker        NaN   \n",
              " 4    Male  Not Recorded In Database         Former         30   \n",
              " \n",
              "    Quit Smoking Year           %GG  ... Recurrence Recurrence Location  \\\n",
              " 0                NaN  Not Assessed  ...        yes             distant   \n",
              " 1                NaN  Not Assessed  ...         no                 NaN   \n",
              " 2                NaN  Not Assessed  ...         no                 NaN   \n",
              " 3                NaN  Not Assessed  ...         no                 NaN   \n",
              " 4             1962.0  Not Assessed  ...        yes             distant   \n",
              " \n",
              "   Date of Recurrence Date of Last Known Alive Survival Status Date of Death  \\\n",
              " 0          10/7/1994                 1/7/1997            Dead      1/7/1997   \n",
              " 1                NaN                3/20/1992           Alive           NaN   \n",
              " 2                NaN                6/19/1996           Alive           NaN   \n",
              " 3                NaN               12/13/1996           Alive           NaN   \n",
              " 4           1/4/1996                 1/7/1997           Alive           NaN   \n",
              " \n",
              "   Time to Death (days)     CT Date Days between CT and surgery       PET Date  \n",
              " 0                872.0   8/10/1994                           9  Not Collected  \n",
              " 1                  NaN   2/19/1992                           3  Not Collected  \n",
              " 2                  NaN   2/23/1995                          28  Not Collected  \n",
              " 3                  NaN  12/26/1992                          47  Not Collected  \n",
              " 4                  NaN   7/21/1994                           2  Not Collected  \n",
              " \n",
              " [5 rows x 40 columns],\n",
              " Index(['Case ID', 'Patient affiliation', 'Age at Histological Diagnosis',\n",
              "        'Weight (lbs)', 'Gender', 'Ethnicity', 'Smoking status', 'Pack Years',\n",
              "        'Quit Smoking Year', '%GG', 'Tumor Location (choice=RUL)',\n",
              "        'Tumor Location (choice=RML)', 'Tumor Location (choice=RLL)',\n",
              "        'Tumor Location (choice=LUL)', 'Tumor Location (choice=LLL)',\n",
              "        'Tumor Location (choice=L Lingula)', 'Tumor Location (choice=Unknown)',\n",
              "        'Histology ', 'Pathological T stage', 'Pathological N stage',\n",
              "        'Pathological M stage', 'Histopathological Grade',\n",
              "        'Lymphovascular invasion',\n",
              "        'Pleural invasion (elastic, visceral, or parietal)',\n",
              "        'EGFR mutation status', 'KRAS mutation status',\n",
              "        'ALK translocation status', 'Adjuvant Treatment', 'Chemotherapy',\n",
              "        'Radiation', 'Recurrence', 'Recurrence Location', 'Date of Recurrence',\n",
              "        'Date of Last Known Alive', 'Survival Status', 'Date of Death',\n",
              "        'Time to Death (days)', 'CT Date', 'Days between CT and surgery',\n",
              "        'PET Date'],\n",
              "       dtype='object'))"
            ]
          },
          "metadata": {},
          "execution_count": 16
        }
      ]
    },
    {
      "cell_type": "code",
      "source": [
        "# Extract the relevant columns: \"Case ID\" and \"Weight (lbs)\"\n",
        "ethn_data = data[['Case ID', 'Ethnicity']].dropna()\n",
        "\n",
        "import random\n",
        "\n",
        "# Generate unique sentences for each case\n",
        "ethnsentences = []\n",
        "for _, row in ethn_data.iterrows():\n",
        "    case_id = row['Case ID']\n",
        "    ethnicity = row['Ethnicity']  # Convert age to integer\n",
        "    sentnum = random.randint(1, 50)\n",
        "\n",
        "\n",
        "\n",
        "    if sentnum >= 1 and sentnum <= 5:\n",
        "        phrase = f\"The patient’s ethnicity was recorded as {ethnicity}.\"\n",
        "        ethnsentences.append(phrase)\n",
        "    if sentnum >= 6 and sentnum <= 10:\n",
        "        phrase = f\"The patient’s ethnicity was noted as {ethnicity}.\"\n",
        "        ethnsentences.append(phrase)\n",
        "    if sentnum >= 11 and sentnum <= 15:\n",
        "        phrase = f\"The patient's ethnicity was {ethnicity}.\"\n",
        "        ethnsentences.append(phrase)\n",
        "    if sentnum >= 16 and sentnum <= 20:\n",
        "        phrase = f\"The patient's reported ethnicity was {ethnicity}.\"\n",
        "        ethnsentences.append(phrase)\n",
        "    if sentnum >= 21 and sentnum <= 25:\n",
        "        phrase = f\"The patient's ethnicity was classified as {ethnicity}.\"\n",
        "        ethnsentences.append(phrase)\n",
        "    if sentnum >= 26 and sentnum <= 30:\n",
        "        phrase = f\"The patient's ethnicity was stated to be {ethnicity}.\"\n",
        "        ethnsentences.append(phrase)\n",
        "    if sentnum >= 31 and sentnum <= 35:\n",
        "        phrase = f\"The ethnicity provided for the patient was {ethnicity}.\"\n",
        "        ethnsentences.append(phrase)\n",
        "    if sentnum >= 36 and sentnum <= 40:\n",
        "        phrase = f\"The patient’s ethnicity was listed as {ethnicity}.\"\n",
        "        ethnsentences.append(phrase)\n",
        "    if sentnum >= 41 and sentnum <= 45:\n",
        "        phrase = f\"The patient's ethnicity was specified as {ethnicity}.\"\n",
        "        ethnsentences.append(phrase)\n",
        "    if sentnum >= 46 and sentnum <= 50:\n",
        "        phrase = f\"The patient’s ethnicity was indicated as {ethnicity}.\"\n",
        "        ethnsentences.append(phrase)"
      ],
      "metadata": {
        "id": "j9ykE1LC3T5s"
      },
      "execution_count": null,
      "outputs": []
    },
    {
      "cell_type": "code",
      "source": [
        "# Save the full list of sentences to a text file\n",
        "output_file_path = '/content/drive/MyDrive/histodiagnosisdata/histological_diagnosis_ethnicities.txt'\n",
        "with open(output_file_path, 'w') as file:\n",
        "    file.write('\\n'.join(ethnsentences))"
      ],
      "metadata": {
        "id": "9B5HKANK3T5s"
      },
      "execution_count": null,
      "outputs": []
    },
    {
      "cell_type": "markdown",
      "source": [
        "# **SMOKING STATUS**"
      ],
      "metadata": {
        "id": "L5946dpQ9XO-"
      }
    },
    {
      "cell_type": "code",
      "source": [
        "import pandas as pd\n",
        "\n",
        "# Load the uploaded CSV file to examine its structure and content\n",
        "file_path = '/content/drive/MyDrive/NSCLCR01Radiogenomic_DATA_LABELS_2018-05-22_1500-shifted.csv'\n",
        "data = pd.read_csv(file_path)\n",
        "\n",
        "# Display the first few rows of the dataset to understand its structure\n",
        "data.head(), data.columns"
      ],
      "metadata": {
        "colab": {
          "base_uri": "https://localhost:8080/"
        },
        "outputId": "41cacae9-becb-4367-fac9-b693f1898b17",
        "id": "sBZu9pI_9cT7"
      },
      "execution_count": null,
      "outputs": [
        {
          "output_type": "execute_result",
          "data": {
            "text/plain": [
              "(   Case ID Patient affiliation  Age at Histological Diagnosis   Weight (lbs)  \\\n",
              " 0  AMC-001            Stanford                             34  Not Collected   \n",
              " 1  AMC-002            Stanford                             33  Not Collected   \n",
              " 2  AMC-003            Stanford                             69  Not Collected   \n",
              " 3  AMC-004            Stanford                             80  Not Collected   \n",
              " 4  AMC-005            Stanford                             76  Not Collected   \n",
              " \n",
              "    Gender                 Ethnicity Smoking status Pack Years  \\\n",
              " 0    Male  Not Recorded In Database      Nonsmoker        NaN   \n",
              " 1  Female  Not Recorded In Database      Nonsmoker        NaN   \n",
              " 2  Female  Not Recorded In Database      Nonsmoker        NaN   \n",
              " 3  Female  Not Recorded In Database      Nonsmoker        NaN   \n",
              " 4    Male  Not Recorded In Database         Former         30   \n",
              " \n",
              "    Quit Smoking Year           %GG  ... Recurrence Recurrence Location  \\\n",
              " 0                NaN  Not Assessed  ...        yes             distant   \n",
              " 1                NaN  Not Assessed  ...         no                 NaN   \n",
              " 2                NaN  Not Assessed  ...         no                 NaN   \n",
              " 3                NaN  Not Assessed  ...         no                 NaN   \n",
              " 4             1962.0  Not Assessed  ...        yes             distant   \n",
              " \n",
              "   Date of Recurrence Date of Last Known Alive Survival Status Date of Death  \\\n",
              " 0          10/7/1994                 1/7/1997            Dead      1/7/1997   \n",
              " 1                NaN                3/20/1992           Alive           NaN   \n",
              " 2                NaN                6/19/1996           Alive           NaN   \n",
              " 3                NaN               12/13/1996           Alive           NaN   \n",
              " 4           1/4/1996                 1/7/1997           Alive           NaN   \n",
              " \n",
              "   Time to Death (days)     CT Date Days between CT and surgery       PET Date  \n",
              " 0                872.0   8/10/1994                           9  Not Collected  \n",
              " 1                  NaN   2/19/1992                           3  Not Collected  \n",
              " 2                  NaN   2/23/1995                          28  Not Collected  \n",
              " 3                  NaN  12/26/1992                          47  Not Collected  \n",
              " 4                  NaN   7/21/1994                           2  Not Collected  \n",
              " \n",
              " [5 rows x 40 columns],\n",
              " Index(['Case ID', 'Patient affiliation', 'Age at Histological Diagnosis',\n",
              "        'Weight (lbs)', 'Gender', 'Ethnicity', 'Smoking status', 'Pack Years',\n",
              "        'Quit Smoking Year', '%GG', 'Tumor Location (choice=RUL)',\n",
              "        'Tumor Location (choice=RML)', 'Tumor Location (choice=RLL)',\n",
              "        'Tumor Location (choice=LUL)', 'Tumor Location (choice=LLL)',\n",
              "        'Tumor Location (choice=L Lingula)', 'Tumor Location (choice=Unknown)',\n",
              "        'Histology ', 'Pathological T stage', 'Pathological N stage',\n",
              "        'Pathological M stage', 'Histopathological Grade',\n",
              "        'Lymphovascular invasion',\n",
              "        'Pleural invasion (elastic, visceral, or parietal)',\n",
              "        'EGFR mutation status', 'KRAS mutation status',\n",
              "        'ALK translocation status', 'Adjuvant Treatment', 'Chemotherapy',\n",
              "        'Radiation', 'Recurrence', 'Recurrence Location', 'Date of Recurrence',\n",
              "        'Date of Last Known Alive', 'Survival Status', 'Date of Death',\n",
              "        'Time to Death (days)', 'CT Date', 'Days between CT and surgery',\n",
              "        'PET Date'],\n",
              "       dtype='object'))"
            ]
          },
          "metadata": {},
          "execution_count": 19
        }
      ]
    },
    {
      "cell_type": "code",
      "source": [
        "# Extract the relevant columns: \"Case ID\" and \"Weight (lbs)\"\n",
        "smoke_data = data[['Case ID', 'Smoking status']].dropna()\n",
        "\n",
        "import random\n",
        "\n",
        "# Generate unique sentences for each case\n",
        "smokesentences = []\n",
        "for _, row in smoke_data.iterrows():\n",
        "    case_id = row['Case ID']\n",
        "    status = row['Smoking status']  # Convert age to integer\n",
        "    sentnum = random.randint(1, 50)\n",
        "\n",
        "\n",
        "\n",
        "    if sentnum >= 1 and sentnum <= 5:\n",
        "        phrase = f\"The patient's smoking status was recorded as {status}.\"\n",
        "        smokesentences.append(phrase)\n",
        "    if sentnum >= 6 and sentnum <= 10:\n",
        "        phrase = f\"The patient's smoking behavior was {status}.\"\n",
        "        smokesentences.append(phrase)\n",
        "    if sentnum >= 11 and sentnum <= 15:\n",
        "        phrase = f\"The patient’s smoking history was noted as {status}.\"\n",
        "        smokesentences.append(phrase)\n",
        "    if sentnum >= 16 and sentnum <= 20:\n",
        "        phrase = f\"The patient was classified as a {status} smoker.\"\n",
        "        smokesentences.append(phrase)\n",
        "    if sentnum >= 21 and sentnum <= 25:\n",
        "        phrase = f\"The patient’s smoking status was indicated as {status}.\"\n",
        "        smokesentences.append(phrase)\n",
        "    if sentnum >= 26 and sentnum <= 30:\n",
        "        phrase = f\"The patient's smoking status was marked as {status}.\"\n",
        "        smokesentences.append(phrase)\n",
        "    if sentnum >= 31 and sentnum <= 35:\n",
        "        phrase = f\"The patient’s smoking status was noted to be {status}.\"\n",
        "        smokesentences.append(phrase)\n",
        "    if sentnum >= 36 and sentnum <= 40:\n",
        "        phrase = f\"The patient's smoking pattern was reported as {status}.\"\n",
        "        smokesentences.append(phrase)\n",
        "    if sentnum >= 41 and sentnum <= 45:\n",
        "        phrase = f\"The patient’s smoking status was identified as {status}.\"\n",
        "        smokesentences.append(phrase)\n",
        "    if sentnum >= 46 and sentnum <= 50:\n",
        "        phrase = f\"The patient was documented as a {status} smoker.\"\n",
        "        smokesentences.append(phrase)"
      ],
      "metadata": {
        "id": "LX8BFOCJ9cT7"
      },
      "execution_count": null,
      "outputs": []
    },
    {
      "cell_type": "code",
      "source": [
        "# Save the full list of sentences to a text file\n",
        "output_file_path = '/content/drive/MyDrive/histodiagnosisdata/histological_diagnosis_smokestatus.txt'\n",
        "with open(output_file_path, 'w') as file:\n",
        "    file.write('\\n'.join(smokesentences))"
      ],
      "metadata": {
        "id": "_WRGztZA9cT7"
      },
      "execution_count": null,
      "outputs": []
    },
    {
      "cell_type": "markdown",
      "source": [
        "# **Number of Pack Years**"
      ],
      "metadata": {
        "id": "DYmR6L1WRuqZ"
      }
    },
    {
      "cell_type": "code",
      "source": [
        "import pandas as pd\n",
        "\n",
        "# Load the uploaded CSV file to examine its structure and content\n",
        "file_path = '/content/drive/MyDrive/NSCLCR01Radiogenomic_DATA_LABELS_2018-05-22_1500-shifted.csv'\n",
        "data = pd.read_csv(file_path)\n",
        "\n",
        "# Display the first few rows of the dataset to understand its structure\n",
        "data.head(), data.columns"
      ],
      "metadata": {
        "colab": {
          "base_uri": "https://localhost:8080/"
        },
        "outputId": "4deeb27d-b2e1-4467-d2bf-1f4678ef8720",
        "id": "8rSvnbGiRxoI"
      },
      "execution_count": null,
      "outputs": [
        {
          "output_type": "execute_result",
          "data": {
            "text/plain": [
              "(   Case ID Patient affiliation  Age at Histological Diagnosis   Weight (lbs)  \\\n",
              " 0  AMC-001            Stanford                             34  Not Collected   \n",
              " 1  AMC-002            Stanford                             33  Not Collected   \n",
              " 2  AMC-003            Stanford                             69  Not Collected   \n",
              " 3  AMC-004            Stanford                             80  Not Collected   \n",
              " 4  AMC-005            Stanford                             76  Not Collected   \n",
              " \n",
              "    Gender                 Ethnicity Smoking status Pack Years  \\\n",
              " 0    Male  Not Recorded In Database      Nonsmoker        NaN   \n",
              " 1  Female  Not Recorded In Database      Nonsmoker        NaN   \n",
              " 2  Female  Not Recorded In Database      Nonsmoker        NaN   \n",
              " 3  Female  Not Recorded In Database      Nonsmoker        NaN   \n",
              " 4    Male  Not Recorded In Database         Former         30   \n",
              " \n",
              "    Quit Smoking Year           %GG  ... Recurrence Recurrence Location  \\\n",
              " 0                NaN  Not Assessed  ...        yes             distant   \n",
              " 1                NaN  Not Assessed  ...         no                 NaN   \n",
              " 2                NaN  Not Assessed  ...         no                 NaN   \n",
              " 3                NaN  Not Assessed  ...         no                 NaN   \n",
              " 4             1962.0  Not Assessed  ...        yes             distant   \n",
              " \n",
              "   Date of Recurrence Date of Last Known Alive Survival Status Date of Death  \\\n",
              " 0          10/7/1994                 1/7/1997            Dead      1/7/1997   \n",
              " 1                NaN                3/20/1992           Alive           NaN   \n",
              " 2                NaN                6/19/1996           Alive           NaN   \n",
              " 3                NaN               12/13/1996           Alive           NaN   \n",
              " 4           1/4/1996                 1/7/1997           Alive           NaN   \n",
              " \n",
              "   Time to Death (days)     CT Date Days between CT and surgery       PET Date  \n",
              " 0                872.0   8/10/1994                           9  Not Collected  \n",
              " 1                  NaN   2/19/1992                           3  Not Collected  \n",
              " 2                  NaN   2/23/1995                          28  Not Collected  \n",
              " 3                  NaN  12/26/1992                          47  Not Collected  \n",
              " 4                  NaN   7/21/1994                           2  Not Collected  \n",
              " \n",
              " [5 rows x 40 columns],\n",
              " Index(['Case ID', 'Patient affiliation', 'Age at Histological Diagnosis',\n",
              "        'Weight (lbs)', 'Gender', 'Ethnicity', 'Smoking status', 'Pack Years',\n",
              "        'Quit Smoking Year', '%GG', 'Tumor Location (choice=RUL)',\n",
              "        'Tumor Location (choice=RML)', 'Tumor Location (choice=RLL)',\n",
              "        'Tumor Location (choice=LUL)', 'Tumor Location (choice=LLL)',\n",
              "        'Tumor Location (choice=L Lingula)', 'Tumor Location (choice=Unknown)',\n",
              "        'Histology ', 'Pathological T stage', 'Pathological N stage',\n",
              "        'Pathological M stage', 'Histopathological Grade',\n",
              "        'Lymphovascular invasion',\n",
              "        'Pleural invasion (elastic, visceral, or parietal)',\n",
              "        'EGFR mutation status', 'KRAS mutation status',\n",
              "        'ALK translocation status', 'Adjuvant Treatment', 'Chemotherapy',\n",
              "        'Radiation', 'Recurrence', 'Recurrence Location', 'Date of Recurrence',\n",
              "        'Date of Last Known Alive', 'Survival Status', 'Date of Death',\n",
              "        'Time to Death (days)', 'CT Date', 'Days between CT and surgery',\n",
              "        'PET Date'],\n",
              "       dtype='object'))"
            ]
          },
          "metadata": {},
          "execution_count": 4
        }
      ]
    },
    {
      "cell_type": "code",
      "source": [
        "# Extract the relevant columns: \"Case ID\" and \"Weight (lbs)\"\n",
        "pack_data = data[['Case ID', 'Pack Years']].copy()\n",
        "\n",
        "pack_data['Pack Years'] = pack_data['Pack Years'].fillna('N/A')\n",
        "\n",
        "import random\n",
        "\n",
        "# Generate unique sentences for each case\n",
        "packsentences = []\n",
        "for _, row in pack_data.iterrows():\n",
        "    case_id = row['Case ID']\n",
        "    pack = row['Pack Years']  # Convert age to integer\n",
        "    sentnum = random.randint(1, 50)\n",
        "\n",
        "\n",
        "\n",
        "    if sentnum >= 1 and sentnum <= 5:\n",
        "        phrase = f\"The patient's number of pack years was {pack}\"\n",
        "        packsentences.append(phrase)\n",
        "    if sentnum >= 6 and sentnum <= 10:\n",
        "        phrase = f\"The patient's pack-year history was {pack}.\"\n",
        "        packsentences.append(phrase)\n",
        "    if sentnum >= 11 and sentnum <= 15:\n",
        "        phrase = f\"The calculated pack years for the patient totaled {pack}.\"\n",
        "        packsentences.append(phrase)\n",
        "    if sentnum >= 16 and sentnum <= 20:\n",
        "        phrase = f\"The patient’s total pack years was calculated to be {pack}.\"\n",
        "        packsentences.append(phrase)\n",
        "    if sentnum >= 21 and sentnum <= 25:\n",
        "        phrase = f\"The patient’s pack-year total was noted as {pack}.\"\n",
        "        packsentences.append(phrase)\n",
        "    if sentnum >= 26 and sentnum <= 30:\n",
        "        phrase = f\"The recorded pack years for the patient were {pack}.\"\n",
        "        packsentences.append(phrase)\n",
        "    if sentnum >= 31 and sentnum <= 35:\n",
        "        phrase = f\"The patient’s cumulative pack years were {pack}.\"\n",
        "        packsentences.append(phrase)\n",
        "    if sentnum >= 36 and sentnum <= 40:\n",
        "        phrase = f\"The patient’s documented pack years were {pack}.\"\n",
        "        packsentences.append(phrase)\n",
        "    if sentnum >= 41 and sentnum <= 45:\n",
        "        phrase = f\"The patient’s cumulative smoking history, in pack years, was {pack}.\"\n",
        "        packsentences.append(phrase)\n",
        "    if sentnum >= 46 and sentnum <= 50:\n",
        "        phrase = f\"The patient’s pack years were recorded as {pack}.\"\n",
        "        packsentences.append(phrase)"
      ],
      "metadata": {
        "id": "ef9LtOPlRxoI"
      },
      "execution_count": null,
      "outputs": []
    },
    {
      "cell_type": "code",
      "source": [
        "# Save the full list of sentences to a text file\n",
        "output_file_path = '/content/drive/MyDrive/histodiagnosisdata/histological_diagnosis_packyears.txt'\n",
        "with open(output_file_path, 'w') as file:\n",
        "    file.write('\\n'.join(packsentences))"
      ],
      "metadata": {
        "id": "rQohlED0RxoI"
      },
      "execution_count": null,
      "outputs": []
    },
    {
      "cell_type": "markdown",
      "source": [
        "# **Quit Smoking**"
      ],
      "metadata": {
        "id": "zxH_yq8RWquN"
      }
    },
    {
      "cell_type": "code",
      "source": [
        "import pandas as pd\n",
        "\n",
        "# Load the uploaded CSV file to examine its structure and content\n",
        "file_path = '/content/drive/MyDrive/NSCLCR01Radiogenomic_DATA_LABELS_2018-05-22_1500-shifted.csv'\n",
        "data = pd.read_csv(file_path)\n",
        "\n",
        "# Display the first few rows of the dataset to understand its structure\n",
        "data.head(), data.columns"
      ],
      "metadata": {
        "colab": {
          "base_uri": "https://localhost:8080/"
        },
        "outputId": "f6669d5e-7696-4701-a6b3-63bce75e7700",
        "id": "Q_ySFKhzWwMA"
      },
      "execution_count": null,
      "outputs": [
        {
          "output_type": "execute_result",
          "data": {
            "text/plain": [
              "(   Case ID Patient affiliation  Age at Histological Diagnosis   Weight (lbs)  \\\n",
              " 0  AMC-001            Stanford                             34  Not Collected   \n",
              " 1  AMC-002            Stanford                             33  Not Collected   \n",
              " 2  AMC-003            Stanford                             69  Not Collected   \n",
              " 3  AMC-004            Stanford                             80  Not Collected   \n",
              " 4  AMC-005            Stanford                             76  Not Collected   \n",
              " \n",
              "    Gender                 Ethnicity Smoking status Pack Years  \\\n",
              " 0    Male  Not Recorded In Database      Nonsmoker        NaN   \n",
              " 1  Female  Not Recorded In Database      Nonsmoker        NaN   \n",
              " 2  Female  Not Recorded In Database      Nonsmoker        NaN   \n",
              " 3  Female  Not Recorded In Database      Nonsmoker        NaN   \n",
              " 4    Male  Not Recorded In Database         Former         30   \n",
              " \n",
              "    Quit Smoking Year           %GG  ... Recurrence Recurrence Location  \\\n",
              " 0                NaN  Not Assessed  ...        yes             distant   \n",
              " 1                NaN  Not Assessed  ...         no                 NaN   \n",
              " 2                NaN  Not Assessed  ...         no                 NaN   \n",
              " 3                NaN  Not Assessed  ...         no                 NaN   \n",
              " 4             1962.0  Not Assessed  ...        yes             distant   \n",
              " \n",
              "   Date of Recurrence Date of Last Known Alive Survival Status Date of Death  \\\n",
              " 0          10/7/1994                 1/7/1997            Dead      1/7/1997   \n",
              " 1                NaN                3/20/1992           Alive           NaN   \n",
              " 2                NaN                6/19/1996           Alive           NaN   \n",
              " 3                NaN               12/13/1996           Alive           NaN   \n",
              " 4           1/4/1996                 1/7/1997           Alive           NaN   \n",
              " \n",
              "   Time to Death (days)     CT Date Days between CT and surgery       PET Date  \n",
              " 0                872.0   8/10/1994                           9  Not Collected  \n",
              " 1                  NaN   2/19/1992                           3  Not Collected  \n",
              " 2                  NaN   2/23/1995                          28  Not Collected  \n",
              " 3                  NaN  12/26/1992                          47  Not Collected  \n",
              " 4                  NaN   7/21/1994                           2  Not Collected  \n",
              " \n",
              " [5 rows x 40 columns],\n",
              " Index(['Case ID', 'Patient affiliation', 'Age at Histological Diagnosis',\n",
              "        'Weight (lbs)', 'Gender', 'Ethnicity', 'Smoking status', 'Pack Years',\n",
              "        'Quit Smoking Year', '%GG', 'Tumor Location (choice=RUL)',\n",
              "        'Tumor Location (choice=RML)', 'Tumor Location (choice=RLL)',\n",
              "        'Tumor Location (choice=LUL)', 'Tumor Location (choice=LLL)',\n",
              "        'Tumor Location (choice=L Lingula)', 'Tumor Location (choice=Unknown)',\n",
              "        'Histology ', 'Pathological T stage', 'Pathological N stage',\n",
              "        'Pathological M stage', 'Histopathological Grade',\n",
              "        'Lymphovascular invasion',\n",
              "        'Pleural invasion (elastic, visceral, or parietal)',\n",
              "        'EGFR mutation status', 'KRAS mutation status',\n",
              "        'ALK translocation status', 'Adjuvant Treatment', 'Chemotherapy',\n",
              "        'Radiation', 'Recurrence', 'Recurrence Location', 'Date of Recurrence',\n",
              "        'Date of Last Known Alive', 'Survival Status', 'Date of Death',\n",
              "        'Time to Death (days)', 'CT Date', 'Days between CT and surgery',\n",
              "        'PET Date'],\n",
              "       dtype='object'))"
            ]
          },
          "metadata": {},
          "execution_count": 8
        }
      ]
    },
    {
      "cell_type": "code",
      "source": [
        "# Extract the relevant columns: \"Case ID\" and \"Weight (lbs)\"\n",
        "quit_data = data[['Case ID', 'Quit Smoking Year']].copy()\n",
        "\n",
        "quit_data['Quit Smoking Year'] = quit_data['Quit Smoking Year'].fillna('N/A')\n",
        "\n",
        "import random\n",
        "\n",
        "# Generate unique sentences for each case\n",
        "quitsentences = []\n",
        "for _, row in quit_data.iterrows():\n",
        "    case_id = row['Case ID']\n",
        "    year = row['Quit Smoking Year']  # Convert age to integer\n",
        "    sentnum = random.randint(1, 50)\n",
        "\n",
        "\n",
        "\n",
        "    if sentnum >= 1 and sentnum <= 5:\n",
        "        phrase = f\"The year the patient quit smoking was {year}.\"\n",
        "        quitsentences.append(phrase)\n",
        "    if sentnum >= 6 and sentnum <= 10:\n",
        "        phrase = f\"The patient stopped smoking in {year}.\"\n",
        "        quitsentences.append(phrase)\n",
        "    if sentnum >= 11 and sentnum <= 15:\n",
        "        phrase = f\"The year the patient ceased smoking was {year}.\"\n",
        "        quitsentences.append(phrase)\n",
        "    if sentnum >= 16 and sentnum <= 20:\n",
        "        phrase = f\"The year the patient quit smoking was {year}.\"\n",
        "        quitsentences.append(phrase)\n",
        "    if sentnum >= 21 and sentnum <= 25:\n",
        "        phrase = f\"The year the patient gave up smoking was {year}.\"\n",
        "        quitsentences.append(phrase)\n",
        "    if sentnum >= 26 and sentnum <= 30:\n",
        "        phrase = f\"The patient’s last year of smoking was {year}.\"\n",
        "        quitsentences.append(phrase)\n",
        "    if sentnum >= 31 and sentnum <= 35:\n",
        "        phrase = f\"The patient last smoked in {year}.\"\n",
        "        quitsentences.append(phrase)\n",
        "    if sentnum >= 36 and sentnum <= 40:\n",
        "        phrase = f\"The recorded year the patient quit smoking was {year}.\"\n",
        "        quitsentences.append(phrase)\n",
        "    if sentnum >= 41 and sentnum <= 45:\n",
        "        phrase = f\"The year the patient quit smoking was recorded as {year}.\"\n",
        "        quitsentences.append(phrase)\n",
        "    if sentnum >= 46 and sentnum <= 50:\n",
        "        phrase = f\"The year the patient quit smoking was documented as {year}.\"\n",
        "        quitsentences.append(phrase)"
      ],
      "metadata": {
        "id": "uLoHbMUnWwMB"
      },
      "execution_count": null,
      "outputs": []
    },
    {
      "cell_type": "code",
      "source": [
        "# Save the full list of sentences to a text file\n",
        "output_file_path = '/content/drive/MyDrive/histodiagnosisdata/histological_diagnosis_quitsmoking.txt'\n",
        "with open(output_file_path, 'w') as file:\n",
        "    file.write('\\n'.join(quitsentences))"
      ],
      "metadata": {
        "id": "QawP_Wz9WwMC"
      },
      "execution_count": null,
      "outputs": []
    },
    {
      "cell_type": "markdown",
      "source": [
        "# **GG%**"
      ],
      "metadata": {
        "id": "YiYxJNtPbFB4"
      }
    },
    {
      "cell_type": "code",
      "source": [
        "import pandas as pd\n",
        "\n",
        "# Load the uploaded CSV file to examine its structure and content\n",
        "file_path = '/content/drive/MyDrive/NSCLCR01Radiogenomic_DATA_LABELS_2018-05-22_1500-shifted.csv'\n",
        "data = pd.read_csv(file_path)\n",
        "\n",
        "# Display the first few rows of the dataset to understand its structure\n",
        "data.head(), data.columns"
      ],
      "metadata": {
        "colab": {
          "base_uri": "https://localhost:8080/"
        },
        "outputId": "baba3dd6-e797-4d7e-c899-efe035c7f308",
        "id": "hu0FUQ_FbKlj"
      },
      "execution_count": null,
      "outputs": [
        {
          "output_type": "execute_result",
          "data": {
            "text/plain": [
              "(   Case ID Patient affiliation  Age at Histological Diagnosis   Weight (lbs)  \\\n",
              " 0  AMC-001            Stanford                             34  Not Collected   \n",
              " 1  AMC-002            Stanford                             33  Not Collected   \n",
              " 2  AMC-003            Stanford                             69  Not Collected   \n",
              " 3  AMC-004            Stanford                             80  Not Collected   \n",
              " 4  AMC-005            Stanford                             76  Not Collected   \n",
              " \n",
              "    Gender                 Ethnicity Smoking status Pack Years  \\\n",
              " 0    Male  Not Recorded In Database      Nonsmoker        NaN   \n",
              " 1  Female  Not Recorded In Database      Nonsmoker        NaN   \n",
              " 2  Female  Not Recorded In Database      Nonsmoker        NaN   \n",
              " 3  Female  Not Recorded In Database      Nonsmoker        NaN   \n",
              " 4    Male  Not Recorded In Database         Former         30   \n",
              " \n",
              "    Quit Smoking Year           %GG  ... Recurrence Recurrence Location  \\\n",
              " 0                NaN  Not Assessed  ...        yes             distant   \n",
              " 1                NaN  Not Assessed  ...         no                 NaN   \n",
              " 2                NaN  Not Assessed  ...         no                 NaN   \n",
              " 3                NaN  Not Assessed  ...         no                 NaN   \n",
              " 4             1962.0  Not Assessed  ...        yes             distant   \n",
              " \n",
              "   Date of Recurrence Date of Last Known Alive Survival Status Date of Death  \\\n",
              " 0          10/7/1994                 1/7/1997            Dead      1/7/1997   \n",
              " 1                NaN                3/20/1992           Alive           NaN   \n",
              " 2                NaN                6/19/1996           Alive           NaN   \n",
              " 3                NaN               12/13/1996           Alive           NaN   \n",
              " 4           1/4/1996                 1/7/1997           Alive           NaN   \n",
              " \n",
              "   Time to Death (days)     CT Date Days between CT and surgery       PET Date  \n",
              " 0                872.0   8/10/1994                           9  Not Collected  \n",
              " 1                  NaN   2/19/1992                           3  Not Collected  \n",
              " 2                  NaN   2/23/1995                          28  Not Collected  \n",
              " 3                  NaN  12/26/1992                          47  Not Collected  \n",
              " 4                  NaN   7/21/1994                           2  Not Collected  \n",
              " \n",
              " [5 rows x 40 columns],\n",
              " Index(['Case ID', 'Patient affiliation', 'Age at Histological Diagnosis',\n",
              "        'Weight (lbs)', 'Gender', 'Ethnicity', 'Smoking status', 'Pack Years',\n",
              "        'Quit Smoking Year', '%GG', 'Tumor Location (choice=RUL)',\n",
              "        'Tumor Location (choice=RML)', 'Tumor Location (choice=RLL)',\n",
              "        'Tumor Location (choice=LUL)', 'Tumor Location (choice=LLL)',\n",
              "        'Tumor Location (choice=L Lingula)', 'Tumor Location (choice=Unknown)',\n",
              "        'Histology ', 'Pathological T stage', 'Pathological N stage',\n",
              "        'Pathological M stage', 'Histopathological Grade',\n",
              "        'Lymphovascular invasion',\n",
              "        'Pleural invasion (elastic, visceral, or parietal)',\n",
              "        'EGFR mutation status', 'KRAS mutation status',\n",
              "        'ALK translocation status', 'Adjuvant Treatment', 'Chemotherapy',\n",
              "        'Radiation', 'Recurrence', 'Recurrence Location', 'Date of Recurrence',\n",
              "        'Date of Last Known Alive', 'Survival Status', 'Date of Death',\n",
              "        'Time to Death (days)', 'CT Date', 'Days between CT and surgery',\n",
              "        'PET Date'],\n",
              "       dtype='object'))"
            ]
          },
          "metadata": {},
          "execution_count": 12
        }
      ]
    },
    {
      "cell_type": "code",
      "source": [
        "# Extract the relevant columns: \"Case ID\" and \"Weight (lbs)\"\n",
        "gg_data = data[['Case ID', '%GG']].copy()\n",
        "\n",
        "gg_data['%GG'] = gg_data['%GG'].fillna('N/A')\n",
        "\n",
        "import random\n",
        "\n",
        "# Generate unique sentences for each case\n",
        "ggsentences = []\n",
        "for _, row in gg_data.iterrows():\n",
        "    case_id = row['Case ID']\n",
        "    gg = row['%GG']  # Convert age to integer\n",
        "    sentnum = random.randint(1, 50)\n",
        "\n",
        "\n",
        "\n",
        "    if sentnum >= 1 and sentnum <= 5:\n",
        "        phrase = f\"The GG% of the CT was {gg}\"\n",
        "        ggsentences.append(phrase)\n",
        "    if sentnum >= 6 and sentnum <= 10:\n",
        "        phrase = f\"The GG% observed on the CT was {gg}.\"\n",
        "        ggsentences.append(phrase)\n",
        "    if sentnum >= 11 and sentnum <= 15:\n",
        "        phrase = f\"The GG% recorded in the CT was {gg}.\"\n",
        "        ggsentences.append(phrase)\n",
        "    if sentnum >= 16 and sentnum <= 20:\n",
        "        phrase = f\"The GG% of the CT scan was documented as {gg}.\"\n",
        "        ggsentences.append(phrase)\n",
        "    if sentnum >= 21 and sentnum <= 25:\n",
        "        phrase = f\"The GG% calculated from the CT was {gg}.\"\n",
        "        ggsentences.append(phrase)\n",
        "    if sentnum >= 26 and sentnum <= 30:\n",
        "        phrase = f\"The CT scan showed a GG% of {gg}.\"\n",
        "        ggsentences.append(phrase)\n",
        "    if sentnum >= 31 and sentnum <= 35:\n",
        "        phrase = f\"The GG% identified on the CT scan was {gg}.\"\n",
        "        ggsentences.append(phrase)\n",
        "    if sentnum >= 36 and sentnum <= 40:\n",
        "        phrase = f\"The GG% as seen on the CT was {gg}.\"\n",
        "        ggsentences.append(phrase)\n",
        "    if sentnum >= 41 and sentnum <= 45:\n",
        "        phrase = f\"The reported GG% from the CT was {gg}.\"\n",
        "        ggsentences.append(phrase)\n",
        "    if sentnum >= 46 and sentnum <= 50:\n",
        "        phrase = f\"The value of GG% on the CT scan was {gg}.\"\n",
        "        ggsentences.append(phrase)"
      ],
      "metadata": {
        "id": "8mzQIzbJbKlk"
      },
      "execution_count": null,
      "outputs": []
    },
    {
      "cell_type": "code",
      "source": [
        "# Save the full list of sentences to a text file\n",
        "output_file_path = '/content/drive/MyDrive/histodiagnosisdata/histological_diagnosis_ggpercent.txt'\n",
        "with open(output_file_path, 'w') as file:\n",
        "    file.write('\\n'.join(ggsentences))"
      ],
      "metadata": {
        "id": "iJw7yOENbKlk"
      },
      "execution_count": null,
      "outputs": []
    },
    {
      "cell_type": "markdown",
      "source": [
        "# **Tumor Locations**"
      ],
      "metadata": {
        "id": "-ZSemxPzKZ_v"
      }
    },
    {
      "cell_type": "markdown",
      "source": [
        "**RUL**"
      ],
      "metadata": {
        "id": "LAvRTPiJKdFl"
      }
    },
    {
      "cell_type": "code",
      "source": [
        "import pandas as pd\n",
        "\n",
        "# Load the uploaded CSV file to examine its structure and content\n",
        "file_path = '/content/drive/MyDrive/NSCLCR01Radiogenomic_DATA_LABELS_2018-05-22_1500-shifted.csv'\n",
        "data = pd.read_csv(file_path)\n",
        "\n",
        "# Display the first few rows of the dataset to understand its structure\n",
        "data.head(), data.columns"
      ],
      "metadata": {
        "colab": {
          "base_uri": "https://localhost:8080/"
        },
        "outputId": "61a6fd96-f024-4136-955f-a90027d96680",
        "id": "SSA5vBYrKfTo"
      },
      "execution_count": null,
      "outputs": [
        {
          "output_type": "execute_result",
          "data": {
            "text/plain": [
              "(   Case ID Patient affiliation  Age at Histological Diagnosis   Weight (lbs)  \\\n",
              " 0  AMC-001            Stanford                             34  Not Collected   \n",
              " 1  AMC-002            Stanford                             33  Not Collected   \n",
              " 2  AMC-003            Stanford                             69  Not Collected   \n",
              " 3  AMC-004            Stanford                             80  Not Collected   \n",
              " 4  AMC-005            Stanford                             76  Not Collected   \n",
              " \n",
              "    Gender                 Ethnicity Smoking status Pack Years  \\\n",
              " 0    Male  Not Recorded In Database      Nonsmoker        NaN   \n",
              " 1  Female  Not Recorded In Database      Nonsmoker        NaN   \n",
              " 2  Female  Not Recorded In Database      Nonsmoker        NaN   \n",
              " 3  Female  Not Recorded In Database      Nonsmoker        NaN   \n",
              " 4    Male  Not Recorded In Database         Former         30   \n",
              " \n",
              "    Quit Smoking Year           %GG  ... Recurrence Recurrence Location  \\\n",
              " 0                NaN  Not Assessed  ...        yes             distant   \n",
              " 1                NaN  Not Assessed  ...         no                 NaN   \n",
              " 2                NaN  Not Assessed  ...         no                 NaN   \n",
              " 3                NaN  Not Assessed  ...         no                 NaN   \n",
              " 4             1962.0  Not Assessed  ...        yes             distant   \n",
              " \n",
              "   Date of Recurrence Date of Last Known Alive Survival Status Date of Death  \\\n",
              " 0          10/7/1994                 1/7/1997            Dead      1/7/1997   \n",
              " 1                NaN                3/20/1992           Alive           NaN   \n",
              " 2                NaN                6/19/1996           Alive           NaN   \n",
              " 3                NaN               12/13/1996           Alive           NaN   \n",
              " 4           1/4/1996                 1/7/1997           Alive           NaN   \n",
              " \n",
              "   Time to Death (days)     CT Date Days between CT and surgery       PET Date  \n",
              " 0                872.0   8/10/1994                           9  Not Collected  \n",
              " 1                  NaN   2/19/1992                           3  Not Collected  \n",
              " 2                  NaN   2/23/1995                          28  Not Collected  \n",
              " 3                  NaN  12/26/1992                          47  Not Collected  \n",
              " 4                  NaN   7/21/1994                           2  Not Collected  \n",
              " \n",
              " [5 rows x 40 columns],\n",
              " Index(['Case ID', 'Patient affiliation', 'Age at Histological Diagnosis',\n",
              "        'Weight (lbs)', 'Gender', 'Ethnicity', 'Smoking status', 'Pack Years',\n",
              "        'Quit Smoking Year', '%GG', 'Tumor Location (choice=RUL)',\n",
              "        'Tumor Location (choice=RML)', 'Tumor Location (choice=RLL)',\n",
              "        'Tumor Location (choice=LUL)', 'Tumor Location (choice=LLL)',\n",
              "        'Tumor Location (choice=L Lingula)', 'Tumor Location (choice=Unknown)',\n",
              "        'Histology ', 'Pathological T stage', 'Pathological N stage',\n",
              "        'Pathological M stage', 'Histopathological Grade',\n",
              "        'Lymphovascular invasion',\n",
              "        'Pleural invasion (elastic, visceral, or parietal)',\n",
              "        'EGFR mutation status', 'KRAS mutation status',\n",
              "        'ALK translocation status', 'Adjuvant Treatment', 'Chemotherapy',\n",
              "        'Radiation', 'Recurrence', 'Recurrence Location', 'Date of Recurrence',\n",
              "        'Date of Last Known Alive', 'Survival Status', 'Date of Death',\n",
              "        'Time to Death (days)', 'CT Date', 'Days between CT and surgery',\n",
              "        'PET Date'],\n",
              "       dtype='object'))"
            ]
          },
          "metadata": {},
          "execution_count": 16
        }
      ]
    },
    {
      "cell_type": "code",
      "source": [
        "# Extract the relevant columns: \"Case ID\" and \"Weight (lbs)\"\n",
        "rul_data = data[['Case ID', 'Tumor Location (choice=RUL)']].copy()\n",
        "\n",
        "rul_data['Tumor Location (choice=RUL)'] = rul_data['Tumor Location (choice=RUL)'].fillna('N/A')\n",
        "\n",
        "import random\n",
        "\n",
        "# Generate unique sentences for each case\n",
        "rulsentences = []\n",
        "for _, row in rul_data.iterrows():\n",
        "    case_id = row['Case ID']\n",
        "    rul = row['Tumor Location (choice=RUL)']  # Convert age to integer\n",
        "    sentnum = random.randint(1, 50)\n",
        "\n",
        "\n",
        "\n",
        "    if sentnum >= 1 and sentnum <= 5:\n",
        "        phrase = f\"the RUL tumor in the CT was {rul}\"\n",
        "        rulsentences.append(phrase)\n",
        "    if sentnum >= 6 and sentnum <= 10:\n",
        "        phrase = f\"The RUL tumor was {rul} on the CT.\"\n",
        "        rulsentences.append(phrase)\n",
        "    if sentnum >= 11 and sentnum <= 15:\n",
        "        phrase = f\"The RUL tumor observed on the CT scan was {rul}.\"\n",
        "        rulsentences.append(phrase)\n",
        "    if sentnum >= 16 and sentnum <= 20:\n",
        "        phrase = f\"The RUL tumor, as seen on the CT, was {rul} during this examination.\"\n",
        "        rulsentences.append(phrase)\n",
        "    if sentnum >= 21 and sentnum <= 25:\n",
        "        phrase = f\"The findings indicated that the RUL tumor had been {rul}.\"\n",
        "        rulsentences.append(phrase)\n",
        "    if sentnum >= 26 and sentnum <= 30:\n",
        "        phrase = f\"On CT imaging, the RUL tumor was noted as {rul}.\"\n",
        "        rulsentences.append(phrase)\n",
        "    if sentnum >= 31 and sentnum <= 35:\n",
        "        phrase = f\"The RUL tumor identified on the CT was {rul}.\"\n",
        "        rulsentences.append(phrase)\n",
        "    if sentnum >= 36 and sentnum <= 40:\n",
        "        phrase = f\"The RUL tumor in the CT scan was noted as {rul}.\"\n",
        "        rulsentences.append(phrase)\n",
        "    if sentnum >= 41 and sentnum <= 45:\n",
        "        phrase = f\"On the CT, the RUL tumor was documented as {rul}.\"\n",
        "        rulsentences.append(phrase)\n",
        "    if sentnum >= 46 and sentnum <= 50:\n",
        "        phrase = f\"The RUL tumor recorded in the CT was {rul}.\"\n",
        "        rulsentences.append(phrase)"
      ],
      "metadata": {
        "id": "fjaqd5HpKfTp"
      },
      "execution_count": null,
      "outputs": []
    },
    {
      "cell_type": "code",
      "source": [
        "# Save the full list of sentences to a text file\n",
        "output_file_path = '/content/drive/MyDrive/histodiagnosisdata/histological_diagnosis_tumorRUL.txt'\n",
        "with open(output_file_path, 'w') as file:\n",
        "    file.write('\\n'.join(rulsentences))"
      ],
      "metadata": {
        "id": "-OAn4NNDKfTp"
      },
      "execution_count": null,
      "outputs": []
    },
    {
      "cell_type": "markdown",
      "source": [
        "**RML**"
      ],
      "metadata": {
        "id": "fA2T2dAANLhK"
      }
    },
    {
      "cell_type": "code",
      "source": [
        "import pandas as pd\n",
        "\n",
        "# Load the uploaded CSV file to examine its structure and content\n",
        "file_path = '/content/drive/MyDrive/NSCLCR01Radiogenomic_DATA_LABELS_2018-05-22_1500-shifted.csv'\n",
        "data = pd.read_csv(file_path)\n",
        "\n",
        "# Display the first few rows of the dataset to understand its structure\n",
        "data.head(), data.columns"
      ],
      "metadata": {
        "colab": {
          "base_uri": "https://localhost:8080/"
        },
        "outputId": "871561c5-e5c3-445f-c4cb-2c0498c6fd10",
        "id": "21D1ry62OdpA"
      },
      "execution_count": null,
      "outputs": [
        {
          "output_type": "execute_result",
          "data": {
            "text/plain": [
              "(   Case ID Patient affiliation  Age at Histological Diagnosis   Weight (lbs)  \\\n",
              " 0  AMC-001            Stanford                             34  Not Collected   \n",
              " 1  AMC-002            Stanford                             33  Not Collected   \n",
              " 2  AMC-003            Stanford                             69  Not Collected   \n",
              " 3  AMC-004            Stanford                             80  Not Collected   \n",
              " 4  AMC-005            Stanford                             76  Not Collected   \n",
              " \n",
              "    Gender                 Ethnicity Smoking status Pack Years  \\\n",
              " 0    Male  Not Recorded In Database      Nonsmoker        NaN   \n",
              " 1  Female  Not Recorded In Database      Nonsmoker        NaN   \n",
              " 2  Female  Not Recorded In Database      Nonsmoker        NaN   \n",
              " 3  Female  Not Recorded In Database      Nonsmoker        NaN   \n",
              " 4    Male  Not Recorded In Database         Former         30   \n",
              " \n",
              "    Quit Smoking Year           %GG  ... Recurrence Recurrence Location  \\\n",
              " 0                NaN  Not Assessed  ...        yes             distant   \n",
              " 1                NaN  Not Assessed  ...         no                 NaN   \n",
              " 2                NaN  Not Assessed  ...         no                 NaN   \n",
              " 3                NaN  Not Assessed  ...         no                 NaN   \n",
              " 4             1962.0  Not Assessed  ...        yes             distant   \n",
              " \n",
              "   Date of Recurrence Date of Last Known Alive Survival Status Date of Death  \\\n",
              " 0          10/7/1994                 1/7/1997            Dead      1/7/1997   \n",
              " 1                NaN                3/20/1992           Alive           NaN   \n",
              " 2                NaN                6/19/1996           Alive           NaN   \n",
              " 3                NaN               12/13/1996           Alive           NaN   \n",
              " 4           1/4/1996                 1/7/1997           Alive           NaN   \n",
              " \n",
              "   Time to Death (days)     CT Date Days between CT and surgery       PET Date  \n",
              " 0                872.0   8/10/1994                           9  Not Collected  \n",
              " 1                  NaN   2/19/1992                           3  Not Collected  \n",
              " 2                  NaN   2/23/1995                          28  Not Collected  \n",
              " 3                  NaN  12/26/1992                          47  Not Collected  \n",
              " 4                  NaN   7/21/1994                           2  Not Collected  \n",
              " \n",
              " [5 rows x 40 columns],\n",
              " Index(['Case ID', 'Patient affiliation', 'Age at Histological Diagnosis',\n",
              "        'Weight (lbs)', 'Gender', 'Ethnicity', 'Smoking status', 'Pack Years',\n",
              "        'Quit Smoking Year', '%GG', 'Tumor Location (choice=RUL)',\n",
              "        'Tumor Location (choice=RML)', 'Tumor Location (choice=RLL)',\n",
              "        'Tumor Location (choice=LUL)', 'Tumor Location (choice=LLL)',\n",
              "        'Tumor Location (choice=L Lingula)', 'Tumor Location (choice=Unknown)',\n",
              "        'Histology ', 'Pathological T stage', 'Pathological N stage',\n",
              "        'Pathological M stage', 'Histopathological Grade',\n",
              "        'Lymphovascular invasion',\n",
              "        'Pleural invasion (elastic, visceral, or parietal)',\n",
              "        'EGFR mutation status', 'KRAS mutation status',\n",
              "        'ALK translocation status', 'Adjuvant Treatment', 'Chemotherapy',\n",
              "        'Radiation', 'Recurrence', 'Recurrence Location', 'Date of Recurrence',\n",
              "        'Date of Last Known Alive', 'Survival Status', 'Date of Death',\n",
              "        'Time to Death (days)', 'CT Date', 'Days between CT and surgery',\n",
              "        'PET Date'],\n",
              "       dtype='object'))"
            ]
          },
          "metadata": {},
          "execution_count": 19
        }
      ]
    },
    {
      "cell_type": "code",
      "source": [
        "# Extract the relevant columns: \"Case ID\" and \"Weight (lbs)\"\n",
        "rml_data = data[['Case ID', 'Tumor Location (choice=RML)']].copy()\n",
        "\n",
        "rml_data['Tumor Location (choice=RML)'] = rml_data['Tumor Location (choice=RML)'].fillna('N/A')\n",
        "\n",
        "import random\n",
        "\n",
        "# Generate unique sentences for each case\n",
        "rmlsentences = []\n",
        "for _, row in rml_data.iterrows():\n",
        "    case_id = row['Case ID']\n",
        "    rml = row['Tumor Location (choice=RML)']  # Convert age to integer\n",
        "    sentnum = random.randint(1, 50)\n",
        "\n",
        "\n",
        "\n",
        "    if sentnum >= 1 and sentnum <= 5:\n",
        "        phrase = f\"the RML tumor in the CT was {rml}\"\n",
        "        rmlsentences.append(phrase)\n",
        "    if sentnum >= 6 and sentnum <= 10:\n",
        "        phrase = f\"The RML tumor was {rml} on the CT.\"\n",
        "        rmlsentences.append(phrase)\n",
        "    if sentnum >= 11 and sentnum <= 15:\n",
        "        phrase = f\"The RML tumor observed on the CT scan was {rml}.\"\n",
        "        rmlsentences.append(phrase)\n",
        "    if sentnum >= 16 and sentnum <= 20:\n",
        "        phrase = f\"The RML tumor, as seen on the CT, was {rml} during this examination.\"\n",
        "        rmlsentences.append(phrase)\n",
        "    if sentnum >= 21 and sentnum <= 25:\n",
        "        phrase = f\"The findings indicated that the RML tumor had been {rml}.\"\n",
        "        rmlsentences.append(phrase)\n",
        "    if sentnum >= 26 and sentnum <= 30:\n",
        "        phrase = f\"On CT imaging, the RML tumor was noted as {rml}.\"\n",
        "        rmlsentences.append(phrase)\n",
        "    if sentnum >= 31 and sentnum <= 35:\n",
        "        phrase = f\"The RML tumor identified on the CT was {rml}.\"\n",
        "        rmlsentences.append(phrase)\n",
        "    if sentnum >= 36 and sentnum <= 40:\n",
        "        phrase = f\"The RML tumor in the CT scan was noted as {rml}.\"\n",
        "        rmlsentences.append(phrase)\n",
        "    if sentnum >= 41 and sentnum <= 45:\n",
        "        phrase = f\"On the CT, the RML tumor was documented as {rml}.\"\n",
        "        rmlsentences.append(phrase)\n",
        "    if sentnum >= 46 and sentnum <= 50:\n",
        "        phrase = f\"The RML tumor recorded in the CT was {rml}.\"\n",
        "        rmlsentences.append(phrase)"
      ],
      "metadata": {
        "id": "qMCQla31OdpB"
      },
      "execution_count": null,
      "outputs": []
    },
    {
      "cell_type": "code",
      "source": [
        "# Save the full list of sentences to a text file\n",
        "output_file_path = '/content/drive/MyDrive/histodiagnosisdata/histological_diagnosis_tumorRML.txt'\n",
        "with open(output_file_path, 'w') as file:\n",
        "    file.write('\\n'.join(rmlsentences))"
      ],
      "metadata": {
        "id": "k1DEQEprOdpB"
      },
      "execution_count": null,
      "outputs": []
    },
    {
      "cell_type": "markdown",
      "source": [
        "**RLL**"
      ],
      "metadata": {
        "id": "8TvCNMCnOl53"
      }
    },
    {
      "cell_type": "code",
      "source": [
        "import pandas as pd\n",
        "\n",
        "# Load the uploaded CSV file to examine its structure and content\n",
        "file_path = '/content/drive/MyDrive/NSCLCR01Radiogenomic_DATA_LABELS_2018-05-22_1500-shifted.csv'\n",
        "data = pd.read_csv(file_path)\n",
        "\n",
        "# Display the first few rows of the dataset to understand its structure\n",
        "data.head(), data.columns"
      ],
      "metadata": {
        "colab": {
          "base_uri": "https://localhost:8080/"
        },
        "outputId": "1234b28f-1601-41a7-b8cc-75244c0ff1aa",
        "id": "DJw8A-tiNSwT"
      },
      "execution_count": null,
      "outputs": [
        {
          "output_type": "execute_result",
          "data": {
            "text/plain": [
              "(   Case ID Patient affiliation  Age at Histological Diagnosis   Weight (lbs)  \\\n",
              " 0  AMC-001            Stanford                             34  Not Collected   \n",
              " 1  AMC-002            Stanford                             33  Not Collected   \n",
              " 2  AMC-003            Stanford                             69  Not Collected   \n",
              " 3  AMC-004            Stanford                             80  Not Collected   \n",
              " 4  AMC-005            Stanford                             76  Not Collected   \n",
              " \n",
              "    Gender                 Ethnicity Smoking status Pack Years  \\\n",
              " 0    Male  Not Recorded In Database      Nonsmoker        NaN   \n",
              " 1  Female  Not Recorded In Database      Nonsmoker        NaN   \n",
              " 2  Female  Not Recorded In Database      Nonsmoker        NaN   \n",
              " 3  Female  Not Recorded In Database      Nonsmoker        NaN   \n",
              " 4    Male  Not Recorded In Database         Former         30   \n",
              " \n",
              "    Quit Smoking Year           %GG  ... Recurrence Recurrence Location  \\\n",
              " 0                NaN  Not Assessed  ...        yes             distant   \n",
              " 1                NaN  Not Assessed  ...         no                 NaN   \n",
              " 2                NaN  Not Assessed  ...         no                 NaN   \n",
              " 3                NaN  Not Assessed  ...         no                 NaN   \n",
              " 4             1962.0  Not Assessed  ...        yes             distant   \n",
              " \n",
              "   Date of Recurrence Date of Last Known Alive Survival Status Date of Death  \\\n",
              " 0          10/7/1994                 1/7/1997            Dead      1/7/1997   \n",
              " 1                NaN                3/20/1992           Alive           NaN   \n",
              " 2                NaN                6/19/1996           Alive           NaN   \n",
              " 3                NaN               12/13/1996           Alive           NaN   \n",
              " 4           1/4/1996                 1/7/1997           Alive           NaN   \n",
              " \n",
              "   Time to Death (days)     CT Date Days between CT and surgery       PET Date  \n",
              " 0                872.0   8/10/1994                           9  Not Collected  \n",
              " 1                  NaN   2/19/1992                           3  Not Collected  \n",
              " 2                  NaN   2/23/1995                          28  Not Collected  \n",
              " 3                  NaN  12/26/1992                          47  Not Collected  \n",
              " 4                  NaN   7/21/1994                           2  Not Collected  \n",
              " \n",
              " [5 rows x 40 columns],\n",
              " Index(['Case ID', 'Patient affiliation', 'Age at Histological Diagnosis',\n",
              "        'Weight (lbs)', 'Gender', 'Ethnicity', 'Smoking status', 'Pack Years',\n",
              "        'Quit Smoking Year', '%GG', 'Tumor Location (choice=RUL)',\n",
              "        'Tumor Location (choice=RML)', 'Tumor Location (choice=RLL)',\n",
              "        'Tumor Location (choice=LUL)', 'Tumor Location (choice=LLL)',\n",
              "        'Tumor Location (choice=L Lingula)', 'Tumor Location (choice=Unknown)',\n",
              "        'Histology ', 'Pathological T stage', 'Pathological N stage',\n",
              "        'Pathological M stage', 'Histopathological Grade',\n",
              "        'Lymphovascular invasion',\n",
              "        'Pleural invasion (elastic, visceral, or parietal)',\n",
              "        'EGFR mutation status', 'KRAS mutation status',\n",
              "        'ALK translocation status', 'Adjuvant Treatment', 'Chemotherapy',\n",
              "        'Radiation', 'Recurrence', 'Recurrence Location', 'Date of Recurrence',\n",
              "        'Date of Last Known Alive', 'Survival Status', 'Date of Death',\n",
              "        'Time to Death (days)', 'CT Date', 'Days between CT and surgery',\n",
              "        'PET Date'],\n",
              "       dtype='object'))"
            ]
          },
          "metadata": {},
          "execution_count": 23
        }
      ]
    },
    {
      "cell_type": "code",
      "source": [
        "# Extract the relevant columns: \"Case ID\" and \"Weight (lbs)\"\n",
        "rll_data = data[['Case ID', 'Tumor Location (choice=RLL)']].copy()\n",
        "\n",
        "rll_data['Tumor Location (choice=RLL)'] = rll_data['Tumor Location (choice=RLL)'].fillna('N/A')\n",
        "\n",
        "import random\n",
        "\n",
        "# Generate unique sentences for each case\n",
        "rllsentences = []\n",
        "for _, row in rll_data.iterrows():\n",
        "    case_id = row['Case ID']\n",
        "    rll = row['Tumor Location (choice=RLL)']  # Convert age to integer\n",
        "    sentnum = random.randint(1, 50)\n",
        "\n",
        "\n",
        "\n",
        "    if sentnum >= 1 and sentnum <= 5:\n",
        "        phrase = f\"the RML tumor in the CT was {rll}\"\n",
        "        rllsentences.append(phrase)\n",
        "    if sentnum >= 6 and sentnum <= 10:\n",
        "        phrase = f\"The RML tumor was {rll} on the CT.\"\n",
        "        rllsentences.append(phrase)\n",
        "    if sentnum >= 11 and sentnum <= 15:\n",
        "        phrase = f\"The RML tumor observed on the CT scan was {rll}.\"\n",
        "        rllsentences.append(phrase)\n",
        "    if sentnum >= 16 and sentnum <= 20:\n",
        "        phrase = f\"The RML tumor, as seen on the CT, was {rll} during this examination.\"\n",
        "        rllsentences.append(phrase)\n",
        "    if sentnum >= 21 and sentnum <= 25:\n",
        "        phrase = f\"The findings indicated that the RML tumor had been {rll}.\"\n",
        "        rllsentences.append(phrase)\n",
        "    if sentnum >= 26 and sentnum <= 30:\n",
        "        phrase = f\"On CT imaging, the RML tumor was noted as {rll}.\"\n",
        "        rllsentences.append(phrase)\n",
        "    if sentnum >= 31 and sentnum <= 35:\n",
        "        phrase = f\"The RML tumor identified on the CT was {rll}.\"\n",
        "        rllsentences.append(phrase)\n",
        "    if sentnum >= 36 and sentnum <= 40:\n",
        "        phrase = f\"The RML tumor in the CT scan was noted as {rll}.\"\n",
        "        rllsentences.append(phrase)\n",
        "    if sentnum >= 41 and sentnum <= 45:\n",
        "        phrase = f\"On the CT, the RML tumor was documented as {rll}.\"\n",
        "        rllsentences.append(phrase)\n",
        "    if sentnum >= 46 and sentnum <= 50:\n",
        "        phrase = f\"The RML tumor recorded in the CT was {rll}.\"\n",
        "        rllsentences.append(phrase)"
      ],
      "metadata": {
        "id": "1TQKQCy6NSwU"
      },
      "execution_count": null,
      "outputs": []
    },
    {
      "cell_type": "code",
      "source": [
        "# Save the full list of sentences to a text file\n",
        "output_file_path = '/content/drive/MyDrive/histodiagnosisdata/histological_diagnosis_tumorRLL.txt'\n",
        "with open(output_file_path, 'w') as file:\n",
        "    file.write('\\n'.join(rllsentences))"
      ],
      "metadata": {
        "id": "L9HTWfk3NSwU"
      },
      "execution_count": null,
      "outputs": []
    },
    {
      "cell_type": "markdown",
      "source": [
        "**LUL**"
      ],
      "metadata": {
        "id": "ZnXBxNkkPssA"
      }
    },
    {
      "cell_type": "code",
      "source": [
        "import pandas as pd\n",
        "\n",
        "# Load the uploaded CSV file to examine its structure and content\n",
        "file_path = '/content/drive/MyDrive/NSCLCR01Radiogenomic_DATA_LABELS_2018-05-22_1500-shifted.csv'\n",
        "data = pd.read_csv(file_path)\n",
        "\n",
        "# Display the first few rows of the dataset to understand its structure\n",
        "data.head(), data.columns"
      ],
      "metadata": {
        "colab": {
          "base_uri": "https://localhost:8080/"
        },
        "outputId": "97c2a932-59cb-4d10-c642-fb1a62022a4e",
        "id": "Oj08nE4OPwXi"
      },
      "execution_count": null,
      "outputs": [
        {
          "output_type": "execute_result",
          "data": {
            "text/plain": [
              "(   Case ID Patient affiliation  Age at Histological Diagnosis   Weight (lbs)  \\\n",
              " 0  AMC-001            Stanford                             34  Not Collected   \n",
              " 1  AMC-002            Stanford                             33  Not Collected   \n",
              " 2  AMC-003            Stanford                             69  Not Collected   \n",
              " 3  AMC-004            Stanford                             80  Not Collected   \n",
              " 4  AMC-005            Stanford                             76  Not Collected   \n",
              " \n",
              "    Gender                 Ethnicity Smoking status Pack Years  \\\n",
              " 0    Male  Not Recorded In Database      Nonsmoker        NaN   \n",
              " 1  Female  Not Recorded In Database      Nonsmoker        NaN   \n",
              " 2  Female  Not Recorded In Database      Nonsmoker        NaN   \n",
              " 3  Female  Not Recorded In Database      Nonsmoker        NaN   \n",
              " 4    Male  Not Recorded In Database         Former         30   \n",
              " \n",
              "    Quit Smoking Year           %GG  ... Recurrence Recurrence Location  \\\n",
              " 0                NaN  Not Assessed  ...        yes             distant   \n",
              " 1                NaN  Not Assessed  ...         no                 NaN   \n",
              " 2                NaN  Not Assessed  ...         no                 NaN   \n",
              " 3                NaN  Not Assessed  ...         no                 NaN   \n",
              " 4             1962.0  Not Assessed  ...        yes             distant   \n",
              " \n",
              "   Date of Recurrence Date of Last Known Alive Survival Status Date of Death  \\\n",
              " 0          10/7/1994                 1/7/1997            Dead      1/7/1997   \n",
              " 1                NaN                3/20/1992           Alive           NaN   \n",
              " 2                NaN                6/19/1996           Alive           NaN   \n",
              " 3                NaN               12/13/1996           Alive           NaN   \n",
              " 4           1/4/1996                 1/7/1997           Alive           NaN   \n",
              " \n",
              "   Time to Death (days)     CT Date Days between CT and surgery       PET Date  \n",
              " 0                872.0   8/10/1994                           9  Not Collected  \n",
              " 1                  NaN   2/19/1992                           3  Not Collected  \n",
              " 2                  NaN   2/23/1995                          28  Not Collected  \n",
              " 3                  NaN  12/26/1992                          47  Not Collected  \n",
              " 4                  NaN   7/21/1994                           2  Not Collected  \n",
              " \n",
              " [5 rows x 40 columns],\n",
              " Index(['Case ID', 'Patient affiliation', 'Age at Histological Diagnosis',\n",
              "        'Weight (lbs)', 'Gender', 'Ethnicity', 'Smoking status', 'Pack Years',\n",
              "        'Quit Smoking Year', '%GG', 'Tumor Location (choice=RUL)',\n",
              "        'Tumor Location (choice=RML)', 'Tumor Location (choice=RLL)',\n",
              "        'Tumor Location (choice=LUL)', 'Tumor Location (choice=LLL)',\n",
              "        'Tumor Location (choice=L Lingula)', 'Tumor Location (choice=Unknown)',\n",
              "        'Histology ', 'Pathological T stage', 'Pathological N stage',\n",
              "        'Pathological M stage', 'Histopathological Grade',\n",
              "        'Lymphovascular invasion',\n",
              "        'Pleural invasion (elastic, visceral, or parietal)',\n",
              "        'EGFR mutation status', 'KRAS mutation status',\n",
              "        'ALK translocation status', 'Adjuvant Treatment', 'Chemotherapy',\n",
              "        'Radiation', 'Recurrence', 'Recurrence Location', 'Date of Recurrence',\n",
              "        'Date of Last Known Alive', 'Survival Status', 'Date of Death',\n",
              "        'Time to Death (days)', 'CT Date', 'Days between CT and surgery',\n",
              "        'PET Date'],\n",
              "       dtype='object'))"
            ]
          },
          "metadata": {},
          "execution_count": 38
        }
      ]
    },
    {
      "cell_type": "code",
      "source": [
        "# Extract the relevant columns: \"Case ID\" and \"Weight (lbs)\"\n",
        "lul_data = data[['Case ID', 'Tumor Location (choice=LUL)']].copy()\n",
        "\n",
        "lul_data['Tumor Location (choice=LUL)'] = lul_data['Tumor Location (choice=LUL)'].fillna('N/A')\n",
        "\n",
        "import random\n",
        "\n",
        "# Generate unique sentences for each case\n",
        "lulsentences = []\n",
        "for _, row in lul_data.iterrows():\n",
        "    case_id = row['Case ID']\n",
        "    lul = row['Tumor Location (choice=LUL)']  # Convert age to integer\n",
        "    sentnum = random.randint(1, 50)\n",
        "\n",
        "\n",
        "\n",
        "    if sentnum >= 1 and sentnum <= 5:\n",
        "        phrase = f\"the LUL tumor in the CT was {lul}\"\n",
        "        lulsentences.append(phrase)\n",
        "    if sentnum >= 6 and sentnum <= 10:\n",
        "        phrase = f\"The LUL tumor was {lul} on the CT.\"\n",
        "        lulsentences.append(phrase)\n",
        "    if sentnum >= 11 and sentnum <= 15:\n",
        "        phrase = f\"The LUL tumor observed on the CT scan was {lul}.\"\n",
        "        lulsentences.append(phrase)\n",
        "    if sentnum >= 16 and sentnum <= 20:\n",
        "        phrase = f\"The LUL tumor, as seen on the CT, was {lul} during this examination.\"\n",
        "        lulsentences.append(phrase)\n",
        "    if sentnum >= 21 and sentnum <= 25:\n",
        "        phrase = f\"The findings indicated that the LUL tumor had been {lul}.\"\n",
        "        lulsentences.append(phrase)\n",
        "    if sentnum >= 26 and sentnum <= 30:\n",
        "        phrase = f\"On CT imaging, the LUL tumor was noted as {lul}.\"\n",
        "        lulsentences.append(phrase)\n",
        "    if sentnum >= 31 and sentnum <= 35:\n",
        "        phrase = f\"The LUL tumor identified on the CT was {lul}.\"\n",
        "        lulsentences.append(phrase)\n",
        "    if sentnum >= 36 and sentnum <= 40:\n",
        "        phrase = f\"The LUL tumor in the CT scan was noted as {lul}.\"\n",
        "        lulsentences.append(phrase)\n",
        "    if sentnum >= 41 and sentnum <= 45:\n",
        "        phrase = f\"On the CT, the LUL tumor was documented as {lul}.\"\n",
        "        lulsentences.append(phrase)\n",
        "    if sentnum >= 46 and sentnum <= 50:\n",
        "        phrase = f\"The LUL tumor recorded in the CT was {lul}.\"\n",
        "        lulsentences.append(phrase)"
      ],
      "metadata": {
        "id": "9xpihOYMPwXj"
      },
      "execution_count": null,
      "outputs": []
    },
    {
      "cell_type": "code",
      "source": [
        "# Save the full list of sentences to a text file\n",
        "output_file_path = '/content/drive/MyDrive/histodiagnosisdata/histological_diagnosis_tumorLUL.txt'\n",
        "with open(output_file_path, 'w') as file:\n",
        "    file.write('\\n'.join(lulsentences))"
      ],
      "metadata": {
        "id": "27Hu-1VGPwXj"
      },
      "execution_count": null,
      "outputs": []
    },
    {
      "cell_type": "markdown",
      "source": [
        "**LLL**"
      ],
      "metadata": {
        "id": "b7P33zAwaD93"
      }
    },
    {
      "cell_type": "code",
      "source": [
        "import pandas as pd\n",
        "\n",
        "# Load the uploaded CSV file to examine its structure and content\n",
        "file_path = '/content/drive/MyDrive/NSCLCR01Radiogenomic_DATA_LABELS_2018-05-22_1500-shifted.csv'\n",
        "data = pd.read_csv(file_path)\n",
        "\n",
        "# Display the first few rows of the dataset to understand its structure\n",
        "data.head(), data.columns"
      ],
      "metadata": {
        "colab": {
          "base_uri": "https://localhost:8080/"
        },
        "outputId": "766c9a2c-c763-40b8-e2cd-7fb26403850c",
        "id": "soRcapf1aFNH"
      },
      "execution_count": null,
      "outputs": [
        {
          "output_type": "execute_result",
          "data": {
            "text/plain": [
              "(   Case ID Patient affiliation  Age at Histological Diagnosis   Weight (lbs)  \\\n",
              " 0  AMC-001            Stanford                             34  Not Collected   \n",
              " 1  AMC-002            Stanford                             33  Not Collected   \n",
              " 2  AMC-003            Stanford                             69  Not Collected   \n",
              " 3  AMC-004            Stanford                             80  Not Collected   \n",
              " 4  AMC-005            Stanford                             76  Not Collected   \n",
              " \n",
              "    Gender                 Ethnicity Smoking status Pack Years  \\\n",
              " 0    Male  Not Recorded In Database      Nonsmoker        NaN   \n",
              " 1  Female  Not Recorded In Database      Nonsmoker        NaN   \n",
              " 2  Female  Not Recorded In Database      Nonsmoker        NaN   \n",
              " 3  Female  Not Recorded In Database      Nonsmoker        NaN   \n",
              " 4    Male  Not Recorded In Database         Former         30   \n",
              " \n",
              "    Quit Smoking Year           %GG  ... Recurrence Recurrence Location  \\\n",
              " 0                NaN  Not Assessed  ...        yes             distant   \n",
              " 1                NaN  Not Assessed  ...         no                 NaN   \n",
              " 2                NaN  Not Assessed  ...         no                 NaN   \n",
              " 3                NaN  Not Assessed  ...         no                 NaN   \n",
              " 4             1962.0  Not Assessed  ...        yes             distant   \n",
              " \n",
              "   Date of Recurrence Date of Last Known Alive Survival Status Date of Death  \\\n",
              " 0          10/7/1994                 1/7/1997            Dead      1/7/1997   \n",
              " 1                NaN                3/20/1992           Alive           NaN   \n",
              " 2                NaN                6/19/1996           Alive           NaN   \n",
              " 3                NaN               12/13/1996           Alive           NaN   \n",
              " 4           1/4/1996                 1/7/1997           Alive           NaN   \n",
              " \n",
              "   Time to Death (days)     CT Date Days between CT and surgery       PET Date  \n",
              " 0                872.0   8/10/1994                           9  Not Collected  \n",
              " 1                  NaN   2/19/1992                           3  Not Collected  \n",
              " 2                  NaN   2/23/1995                          28  Not Collected  \n",
              " 3                  NaN  12/26/1992                          47  Not Collected  \n",
              " 4                  NaN   7/21/1994                           2  Not Collected  \n",
              " \n",
              " [5 rows x 40 columns],\n",
              " Index(['Case ID', 'Patient affiliation', 'Age at Histological Diagnosis',\n",
              "        'Weight (lbs)', 'Gender', 'Ethnicity', 'Smoking status', 'Pack Years',\n",
              "        'Quit Smoking Year', '%GG', 'Tumor Location (choice=RUL)',\n",
              "        'Tumor Location (choice=RML)', 'Tumor Location (choice=RLL)',\n",
              "        'Tumor Location (choice=LUL)', 'Tumor Location (choice=LLL)',\n",
              "        'Tumor Location (choice=L Lingula)', 'Tumor Location (choice=Unknown)',\n",
              "        'Histology ', 'Pathological T stage', 'Pathological N stage',\n",
              "        'Pathological M stage', 'Histopathological Grade',\n",
              "        'Lymphovascular invasion',\n",
              "        'Pleural invasion (elastic, visceral, or parietal)',\n",
              "        'EGFR mutation status', 'KRAS mutation status',\n",
              "        'ALK translocation status', 'Adjuvant Treatment', 'Chemotherapy',\n",
              "        'Radiation', 'Recurrence', 'Recurrence Location', 'Date of Recurrence',\n",
              "        'Date of Last Known Alive', 'Survival Status', 'Date of Death',\n",
              "        'Time to Death (days)', 'CT Date', 'Days between CT and surgery',\n",
              "        'PET Date'],\n",
              "       dtype='object'))"
            ]
          },
          "metadata": {},
          "execution_count": 41
        }
      ]
    },
    {
      "cell_type": "code",
      "source": [
        "# Extract the relevant columns: \"Case ID\" and \"Weight (lbs)\"\n",
        "lll_data = data[['Case ID', 'Tumor Location (choice=LLL)']].copy()\n",
        "\n",
        "lll_data['Tumor Location (choice=LLL)'] = lll_data['Tumor Location (choice=LLL)'].fillna('N/A')\n",
        "\n",
        "import random\n",
        "\n",
        "# Generate unique sentences for each case\n",
        "lllsentences = []\n",
        "for _, row in lll_data.iterrows():\n",
        "    case_id = row['Case ID']\n",
        "    lll = row['Tumor Location (choice=LLL)']  # Convert age to integer\n",
        "    sentnum = random.randint(1, 50)\n",
        "\n",
        "\n",
        "\n",
        "    if sentnum >= 1 and sentnum <= 5:\n",
        "        phrase = f\"The LLL tumor in the CT was {lll}\"\n",
        "        lllsentences.append(phrase)\n",
        "    if sentnum >= 6 and sentnum <= 10:\n",
        "        phrase = f\"The LLL tumor was {lll} on the CT.\"\n",
        "        lllsentences.append(phrase)\n",
        "    if sentnum >= 11 and sentnum <= 15:\n",
        "        phrase = f\"The LLL tumor observed on the CT scan was {lll}.\"\n",
        "        lllsentences.append(phrase)\n",
        "    if sentnum >= 16 and sentnum <= 20:\n",
        "        phrase = f\"The LLL tumor, as seen on the CT, was {lll} during this examination.\"\n",
        "        lllsentences.append(phrase)\n",
        "    if sentnum >= 21 and sentnum <= 25:\n",
        "        phrase = f\"The findings indicated that the LLL tumor had been {lll}.\"\n",
        "        lllsentences.append(phrase)\n",
        "    if sentnum >= 26 and sentnum <= 30:\n",
        "        phrase = f\"On CT imaging, the LLL tumor was noted as {lll}.\"\n",
        "        lllsentences.append(phrase)\n",
        "    if sentnum >= 31 and sentnum <= 35:\n",
        "        phrase = f\"The LLL tumor identified on the CT was {lll}.\"\n",
        "        lllsentences.append(phrase)\n",
        "    if sentnum >= 36 and sentnum <= 40:\n",
        "        phrase = f\"The LLL tumor in the CT scan was noted as {lll}.\"\n",
        "        lllsentences.append(phrase)\n",
        "    if sentnum >= 41 and sentnum <= 45:\n",
        "        phrase = f\"On the CT, the LLL tumor was documented as {lll}.\"\n",
        "        lllsentences.append(phrase)\n",
        "    if sentnum >= 46 and sentnum <= 50:\n",
        "        phrase = f\"The LLL tumor recorded in the CT was {lll}.\"\n",
        "        lllsentences.append(phrase)"
      ],
      "metadata": {
        "id": "VRt4uFVqaFNI"
      },
      "execution_count": null,
      "outputs": []
    },
    {
      "cell_type": "code",
      "source": [
        "# Save the full list of sentences to a text file\n",
        "output_file_path = '/content/drive/MyDrive/histodiagnosisdata/histological_diagnosis_tumorLLL.txt'\n",
        "with open(output_file_path, 'w') as file:\n",
        "    file.write('\\n'.join(lllsentences))"
      ],
      "metadata": {
        "id": "rH-_bdnjaFNJ"
      },
      "execution_count": null,
      "outputs": []
    },
    {
      "cell_type": "markdown",
      "source": [
        "**L Lingula**"
      ],
      "metadata": {
        "id": "kaL02sgXa849"
      }
    },
    {
      "cell_type": "code",
      "source": [
        "import pandas as pd\n",
        "\n",
        "# Load the uploaded CSV file to examine its structure and content\n",
        "file_path = '/content/drive/MyDrive/NSCLCR01Radiogenomic_DATA_LABELS_2018-05-22_1500-shifted.csv'\n",
        "data = pd.read_csv(file_path)\n",
        "\n",
        "# Display the first few rows of the dataset to understand its structure\n",
        "data.head(), data.columns"
      ],
      "metadata": {
        "colab": {
          "base_uri": "https://localhost:8080/"
        },
        "outputId": "16b463eb-f756-4952-a5f6-1b05985001cd",
        "id": "G-dirDcMbAaq"
      },
      "execution_count": null,
      "outputs": [
        {
          "output_type": "execute_result",
          "data": {
            "text/plain": [
              "(   Case ID Patient affiliation  Age at Histological Diagnosis   Weight (lbs)  \\\n",
              " 0  AMC-001            Stanford                             34  Not Collected   \n",
              " 1  AMC-002            Stanford                             33  Not Collected   \n",
              " 2  AMC-003            Stanford                             69  Not Collected   \n",
              " 3  AMC-004            Stanford                             80  Not Collected   \n",
              " 4  AMC-005            Stanford                             76  Not Collected   \n",
              " \n",
              "    Gender                 Ethnicity Smoking status Pack Years  \\\n",
              " 0    Male  Not Recorded In Database      Nonsmoker        NaN   \n",
              " 1  Female  Not Recorded In Database      Nonsmoker        NaN   \n",
              " 2  Female  Not Recorded In Database      Nonsmoker        NaN   \n",
              " 3  Female  Not Recorded In Database      Nonsmoker        NaN   \n",
              " 4    Male  Not Recorded In Database         Former         30   \n",
              " \n",
              "    Quit Smoking Year           %GG  ... Recurrence Recurrence Location  \\\n",
              " 0                NaN  Not Assessed  ...        yes             distant   \n",
              " 1                NaN  Not Assessed  ...         no                 NaN   \n",
              " 2                NaN  Not Assessed  ...         no                 NaN   \n",
              " 3                NaN  Not Assessed  ...         no                 NaN   \n",
              " 4             1962.0  Not Assessed  ...        yes             distant   \n",
              " \n",
              "   Date of Recurrence Date of Last Known Alive Survival Status Date of Death  \\\n",
              " 0          10/7/1994                 1/7/1997            Dead      1/7/1997   \n",
              " 1                NaN                3/20/1992           Alive           NaN   \n",
              " 2                NaN                6/19/1996           Alive           NaN   \n",
              " 3                NaN               12/13/1996           Alive           NaN   \n",
              " 4           1/4/1996                 1/7/1997           Alive           NaN   \n",
              " \n",
              "   Time to Death (days)     CT Date Days between CT and surgery       PET Date  \n",
              " 0                872.0   8/10/1994                           9  Not Collected  \n",
              " 1                  NaN   2/19/1992                           3  Not Collected  \n",
              " 2                  NaN   2/23/1995                          28  Not Collected  \n",
              " 3                  NaN  12/26/1992                          47  Not Collected  \n",
              " 4                  NaN   7/21/1994                           2  Not Collected  \n",
              " \n",
              " [5 rows x 40 columns],\n",
              " Index(['Case ID', 'Patient affiliation', 'Age at Histological Diagnosis',\n",
              "        'Weight (lbs)', 'Gender', 'Ethnicity', 'Smoking status', 'Pack Years',\n",
              "        'Quit Smoking Year', '%GG', 'Tumor Location (choice=RUL)',\n",
              "        'Tumor Location (choice=RML)', 'Tumor Location (choice=RLL)',\n",
              "        'Tumor Location (choice=LUL)', 'Tumor Location (choice=LLL)',\n",
              "        'Tumor Location (choice=L Lingula)', 'Tumor Location (choice=Unknown)',\n",
              "        'Histology ', 'Pathological T stage', 'Pathological N stage',\n",
              "        'Pathological M stage', 'Histopathological Grade',\n",
              "        'Lymphovascular invasion',\n",
              "        'Pleural invasion (elastic, visceral, or parietal)',\n",
              "        'EGFR mutation status', 'KRAS mutation status',\n",
              "        'ALK translocation status', 'Adjuvant Treatment', 'Chemotherapy',\n",
              "        'Radiation', 'Recurrence', 'Recurrence Location', 'Date of Recurrence',\n",
              "        'Date of Last Known Alive', 'Survival Status', 'Date of Death',\n",
              "        'Time to Death (days)', 'CT Date', 'Days between CT and surgery',\n",
              "        'PET Date'],\n",
              "       dtype='object'))"
            ]
          },
          "metadata": {},
          "execution_count": 44
        }
      ]
    },
    {
      "cell_type": "code",
      "source": [
        "# Extract the relevant columns: \"Case ID\" and \"Tumor Location (choice=L Lingula)\"\n",
        "lling_data = data[['Case ID', 'Tumor Location (choice=L Lingula)']].copy()\n",
        "\n",
        "# Fill missing values with 'N/A'\n",
        "lling_data['Tumor Location (choice=L Lingula)'] = lling_data['Tumor Location (choice=L Lingula)'].fillna('N/A')\n",
        "\n",
        "import random\n",
        "\n",
        "# Generate unique sentences for each case\n",
        "llingsentences = []\n",
        "for _, row in lling_data.iterrows():\n",
        "    case_id = row['Case ID']\n",
        "    lling = row['Tumor Location (choice=L Lingula)']\n",
        "    sentnum = random.randint(1, 50)\n",
        "\n",
        "    # Generate sentences based on random numbers\n",
        "    if sentnum >= 1 and sentnum <= 5:\n",
        "        phrase = f\"The L Lingula tumor in the CT was {lling}.\"\n",
        "        llingsentences.append(phrase)\n",
        "    if sentnum >= 6 and sentnum <= 10:\n",
        "        phrase = f\"The L Lingula tumor was {lling} on the CT.\"\n",
        "        llingsentences.append(phrase)\n",
        "    if sentnum >= 11 and sentnum <= 15:\n",
        "        phrase = f\"The L Lingula tumor observed on the CT scan was {lling}.\"\n",
        "        llingsentences.append(phrase)\n",
        "    if sentnum >= 16 and sentnum <= 20:\n",
        "        phrase = f\"The L Lingula tumor, as seen on the CT, was {lling} during this examination.\"\n",
        "        llingsentences.append(phrase)\n",
        "    if sentnum >= 21 and sentnum <= 25:\n",
        "        phrase = f\"The findings indicated that the L Lingula tumor had been {lling}.\"\n",
        "        llingsentences.append(phrase)\n",
        "    if sentnum >= 26 and sentnum <= 30:\n",
        "        phrase = f\"On CT imaging, the L Lingula tumor was noted as {lling}.\"\n",
        "        llingsentences.append(phrase)\n",
        "    if sentnum >= 31 and sentnum <= 35:\n",
        "        phrase = f\"The L Lingula tumor identified on the CT was {lling}.\"\n",
        "        llingsentences.append(phrase)\n",
        "    if sentnum >= 36 and sentnum <= 40:\n",
        "        phrase = f\"The L Lingula tumor in the CT scan was noted as {lling}.\"\n",
        "        llingsentences.append(phrase)\n",
        "    if sentnum >= 41 and sentnum <= 45:\n",
        "        phrase = f\"On the CT, the L Lingula tumor was documented as {lling}.\"\n",
        "        llingsentences.append(phrase)\n",
        "    if sentnum >= 46 and sentnum <= 50:\n",
        "        phrase = f\"The L Lingula tumor recorded in the CT was {lling}.\"\n",
        "        llingsentences.append(phrase)"
      ],
      "metadata": {
        "id": "DbllRk7ybAar"
      },
      "execution_count": null,
      "outputs": []
    },
    {
      "cell_type": "code",
      "source": [
        "# Save the full list of sentences to a text file\n",
        "output_file_path = '/content/drive/MyDrive/histodiagnosisdata/histological_diagnosis_tumorLLing.txt'\n",
        "with open(output_file_path, 'w') as file:\n",
        "    file.write('\\n'.join(llingsentences))"
      ],
      "metadata": {
        "id": "Irep5EDHbAar"
      },
      "execution_count": null,
      "outputs": []
    },
    {
      "cell_type": "markdown",
      "source": [
        "**Unknown**"
      ],
      "metadata": {
        "id": "_AO5Bzcfcgta"
      }
    },
    {
      "cell_type": "code",
      "source": [
        "import pandas as pd\n",
        "\n",
        "# Load the uploaded CSV file to examine its structure and content\n",
        "file_path = '/content/drive/MyDrive/NSCLCR01Radiogenomic_DATA_LABELS_2018-05-22_1500-shifted.csv'\n",
        "data = pd.read_csv(file_path)\n",
        "\n",
        "# Display the first few rows of the dataset to understand its structure\n",
        "data.head(), data.columns"
      ],
      "metadata": {
        "colab": {
          "base_uri": "https://localhost:8080/"
        },
        "outputId": "8d1b2076-d5d4-4a38-ded4-90910e7b82a0",
        "id": "jkKah897ciaz"
      },
      "execution_count": null,
      "outputs": [
        {
          "output_type": "execute_result",
          "data": {
            "text/plain": [
              "(   Case ID Patient affiliation  Age at Histological Diagnosis   Weight (lbs)  \\\n",
              " 0  AMC-001            Stanford                             34  Not Collected   \n",
              " 1  AMC-002            Stanford                             33  Not Collected   \n",
              " 2  AMC-003            Stanford                             69  Not Collected   \n",
              " 3  AMC-004            Stanford                             80  Not Collected   \n",
              " 4  AMC-005            Stanford                             76  Not Collected   \n",
              " \n",
              "    Gender                 Ethnicity Smoking status Pack Years  \\\n",
              " 0    Male  Not Recorded In Database      Nonsmoker        NaN   \n",
              " 1  Female  Not Recorded In Database      Nonsmoker        NaN   \n",
              " 2  Female  Not Recorded In Database      Nonsmoker        NaN   \n",
              " 3  Female  Not Recorded In Database      Nonsmoker        NaN   \n",
              " 4    Male  Not Recorded In Database         Former         30   \n",
              " \n",
              "    Quit Smoking Year           %GG  ... Recurrence Recurrence Location  \\\n",
              " 0                NaN  Not Assessed  ...        yes             distant   \n",
              " 1                NaN  Not Assessed  ...         no                 NaN   \n",
              " 2                NaN  Not Assessed  ...         no                 NaN   \n",
              " 3                NaN  Not Assessed  ...         no                 NaN   \n",
              " 4             1962.0  Not Assessed  ...        yes             distant   \n",
              " \n",
              "   Date of Recurrence Date of Last Known Alive Survival Status Date of Death  \\\n",
              " 0          10/7/1994                 1/7/1997            Dead      1/7/1997   \n",
              " 1                NaN                3/20/1992           Alive           NaN   \n",
              " 2                NaN                6/19/1996           Alive           NaN   \n",
              " 3                NaN               12/13/1996           Alive           NaN   \n",
              " 4           1/4/1996                 1/7/1997           Alive           NaN   \n",
              " \n",
              "   Time to Death (days)     CT Date Days between CT and surgery       PET Date  \n",
              " 0                872.0   8/10/1994                           9  Not Collected  \n",
              " 1                  NaN   2/19/1992                           3  Not Collected  \n",
              " 2                  NaN   2/23/1995                          28  Not Collected  \n",
              " 3                  NaN  12/26/1992                          47  Not Collected  \n",
              " 4                  NaN   7/21/1994                           2  Not Collected  \n",
              " \n",
              " [5 rows x 40 columns],\n",
              " Index(['Case ID', 'Patient affiliation', 'Age at Histological Diagnosis',\n",
              "        'Weight (lbs)', 'Gender', 'Ethnicity', 'Smoking status', 'Pack Years',\n",
              "        'Quit Smoking Year', '%GG', 'Tumor Location (choice=RUL)',\n",
              "        'Tumor Location (choice=RML)', 'Tumor Location (choice=RLL)',\n",
              "        'Tumor Location (choice=LUL)', 'Tumor Location (choice=LLL)',\n",
              "        'Tumor Location (choice=L Lingula)', 'Tumor Location (choice=Unknown)',\n",
              "        'Histology ', 'Pathological T stage', 'Pathological N stage',\n",
              "        'Pathological M stage', 'Histopathological Grade',\n",
              "        'Lymphovascular invasion',\n",
              "        'Pleural invasion (elastic, visceral, or parietal)',\n",
              "        'EGFR mutation status', 'KRAS mutation status',\n",
              "        'ALK translocation status', 'Adjuvant Treatment', 'Chemotherapy',\n",
              "        'Radiation', 'Recurrence', 'Recurrence Location', 'Date of Recurrence',\n",
              "        'Date of Last Known Alive', 'Survival Status', 'Date of Death',\n",
              "        'Time to Death (days)', 'CT Date', 'Days between CT and surgery',\n",
              "        'PET Date'],\n",
              "       dtype='object'))"
            ]
          },
          "metadata": {},
          "execution_count": 47
        }
      ]
    },
    {
      "cell_type": "code",
      "source": [
        "# Extract the relevant columns: \"Case ID\" and \"Tumor Location (choice=Unknown)\"\n",
        "unk_data = data[['Case ID', 'Tumor Location (choice=Unknown)']].copy()\n",
        "\n",
        "# Fill missing values with 'N/A'\n",
        "unk_data['Tumor Location (choice=Unknown)'] = unk_data['Tumor Location (choice=Unknown)'].fillna('N/A')\n",
        "\n",
        "import random\n",
        "\n",
        "# Generate unique sentences for each case\n",
        "unksentences = []\n",
        "for _, row in unk_data.iterrows():\n",
        "    case_id = row['Case ID']\n",
        "    unk = row['Tumor Location (choice=Unknown)']\n",
        "    sentnum = random.randint(1, 50)\n",
        "\n",
        "    # Generate sentences based on random numbers\n",
        "    if sentnum >= 1 and sentnum <= 5:\n",
        "        phrase = f\"The Unknown tumor in the CT was {unk}.\"\n",
        "        unksentences.append(phrase)\n",
        "    if sentnum >= 6 and sentnum <= 10:\n",
        "        phrase = f\"The Unknown tumor was {unk} on the CT.\"\n",
        "        unksentences.append(phrase)\n",
        "    if sentnum >= 11 and sentnum <= 15:\n",
        "        phrase = f\"The Unknown tumor observed on the CT scan was {unk}.\"\n",
        "        unksentences.append(phrase)\n",
        "    if sentnum >= 16 and sentnum <= 20:\n",
        "        phrase = f\"The Unknown tumor, as seen on the CT, was {unk} during this examination.\"\n",
        "        unksentences.append(phrase)\n",
        "    if sentnum >= 21 and sentnum <= 25:\n",
        "        phrase = f\"The findings indicated that the Unknown tumor had been {unk}.\"\n",
        "        unksentences.append(phrase)\n",
        "    if sentnum >= 26 and sentnum <= 30:\n",
        "        phrase = f\"On CT imaging, the Unknown tumor was noted as {unk}.\"\n",
        "        unksentences.append(phrase)\n",
        "    if sentnum >= 31 and sentnum <= 35:\n",
        "        phrase = f\"The Unknown tumor identified on the CT was {unk}.\"\n",
        "        unksentences.append(phrase)\n",
        "    if sentnum >= 36 and sentnum <= 40:\n",
        "        phrase = f\"The Unknown tumor in the CT scan was noted as {unk}.\"\n",
        "        unksentences.append(phrase)\n",
        "    if sentnum >= 41 and sentnum <= 45:\n",
        "        phrase = f\"On the CT, the Unknown tumor was documented as {unk}.\"\n",
        "        unksentences.append(phrase)\n",
        "    if sentnum >= 46 and sentnum <= 50:\n",
        "        phrase = f\"The Unknown tumor recorded in the CT was {unk}.\"\n",
        "        unksentences.append(phrase)"
      ],
      "metadata": {
        "id": "xlvLj0X5ciaz"
      },
      "execution_count": null,
      "outputs": []
    },
    {
      "cell_type": "code",
      "source": [
        "# Save the full list of sentences to a text file\n",
        "output_file_path = '/content/drive/MyDrive/histodiagnosisdata/histological_diagnosis_tumorUnknown.txt'\n",
        "with open(output_file_path, 'w') as file:\n",
        "    file.write('\\n'.join(unksentences))"
      ],
      "metadata": {
        "id": "HQ65_cSGciaz"
      },
      "execution_count": null,
      "outputs": []
    },
    {
      "cell_type": "markdown",
      "source": [
        "# **Histology**"
      ],
      "metadata": {
        "id": "rfsVuU_ES1pD"
      }
    },
    {
      "cell_type": "code",
      "source": [
        "import pandas as pd\n",
        "\n",
        "# Load the uploaded CSV file to examine its structure and content\n",
        "file_path = '/content/drive/MyDrive/NSCLCR01Radiogenomic_DATA_LABELS_2018-05-22_1500-shifted.csv'\n",
        "data = pd.read_csv(file_path)\n",
        "\n",
        "# Display the first few rows of the dataset to understand its structure\n",
        "data.head(), data.columns"
      ],
      "metadata": {
        "colab": {
          "base_uri": "https://localhost:8080/"
        },
        "outputId": "c11061e0-013b-4bb1-d9fa-79e1ccfd8c54",
        "id": "SnEyGpwaS_1J"
      },
      "execution_count": null,
      "outputs": [
        {
          "output_type": "execute_result",
          "data": {
            "text/plain": [
              "(   Case ID Patient affiliation  Age at Histological Diagnosis   Weight (lbs)  \\\n",
              " 0  AMC-001            Stanford                             34  Not Collected   \n",
              " 1  AMC-002            Stanford                             33  Not Collected   \n",
              " 2  AMC-003            Stanford                             69  Not Collected   \n",
              " 3  AMC-004            Stanford                             80  Not Collected   \n",
              " 4  AMC-005            Stanford                             76  Not Collected   \n",
              " \n",
              "    Gender                 Ethnicity Smoking status Pack Years  \\\n",
              " 0    Male  Not Recorded In Database      Nonsmoker        NaN   \n",
              " 1  Female  Not Recorded In Database      Nonsmoker        NaN   \n",
              " 2  Female  Not Recorded In Database      Nonsmoker        NaN   \n",
              " 3  Female  Not Recorded In Database      Nonsmoker        NaN   \n",
              " 4    Male  Not Recorded In Database         Former         30   \n",
              " \n",
              "    Quit Smoking Year           %GG  ... Recurrence Recurrence Location  \\\n",
              " 0                NaN  Not Assessed  ...        yes             distant   \n",
              " 1                NaN  Not Assessed  ...         no                 NaN   \n",
              " 2                NaN  Not Assessed  ...         no                 NaN   \n",
              " 3                NaN  Not Assessed  ...         no                 NaN   \n",
              " 4             1962.0  Not Assessed  ...        yes             distant   \n",
              " \n",
              "   Date of Recurrence Date of Last Known Alive Survival Status Date of Death  \\\n",
              " 0          10/7/1994                 1/7/1997            Dead      1/7/1997   \n",
              " 1                NaN                3/20/1992           Alive           NaN   \n",
              " 2                NaN                6/19/1996           Alive           NaN   \n",
              " 3                NaN               12/13/1996           Alive           NaN   \n",
              " 4           1/4/1996                 1/7/1997           Alive           NaN   \n",
              " \n",
              "   Time to Death (days)     CT Date Days between CT and surgery       PET Date  \n",
              " 0                872.0   8/10/1994                           9  Not Collected  \n",
              " 1                  NaN   2/19/1992                           3  Not Collected  \n",
              " 2                  NaN   2/23/1995                          28  Not Collected  \n",
              " 3                  NaN  12/26/1992                          47  Not Collected  \n",
              " 4                  NaN   7/21/1994                           2  Not Collected  \n",
              " \n",
              " [5 rows x 40 columns],\n",
              " Index(['Case ID', 'Patient affiliation', 'Age at Histological Diagnosis',\n",
              "        'Weight (lbs)', 'Gender', 'Ethnicity', 'Smoking status', 'Pack Years',\n",
              "        'Quit Smoking Year', '%GG', 'Tumor Location (choice=RUL)',\n",
              "        'Tumor Location (choice=RML)', 'Tumor Location (choice=RLL)',\n",
              "        'Tumor Location (choice=LUL)', 'Tumor Location (choice=LLL)',\n",
              "        'Tumor Location (choice=L Lingula)', 'Tumor Location (choice=Unknown)',\n",
              "        'Histology ', 'Pathological T stage', 'Pathological N stage',\n",
              "        'Pathological M stage', 'Histopathological Grade',\n",
              "        'Lymphovascular invasion',\n",
              "        'Pleural invasion (elastic, visceral, or parietal)',\n",
              "        'EGFR mutation status', 'KRAS mutation status',\n",
              "        'ALK translocation status', 'Adjuvant Treatment', 'Chemotherapy',\n",
              "        'Radiation', 'Recurrence', 'Recurrence Location', 'Date of Recurrence',\n",
              "        'Date of Last Known Alive', 'Survival Status', 'Date of Death',\n",
              "        'Time to Death (days)', 'CT Date', 'Days between CT and surgery',\n",
              "        'PET Date'],\n",
              "       dtype='object'))"
            ]
          },
          "metadata": {},
          "execution_count": 1
        }
      ]
    },
    {
      "cell_type": "code",
      "source": [
        "# Extract the relevant columns: \"Case ID\" and \"Histology\"\n",
        "histo_data = data[['Case ID', 'Histology ']].copy()\n",
        "\n",
        "# Fill missing values with 'N/A'\n",
        "histo_data['Histology '] = histo_data['Histology '].fillna('N/A')\n",
        "\n",
        "import random\n",
        "\n",
        "# Generate unique sentences for each case\n",
        "histosentences = []\n",
        "for _, row in histo_data.iterrows():\n",
        "    case_id = row['Case ID']\n",
        "    histo = row['Histology ']\n",
        "    sentnum = random.randint(1, 50)\n",
        "\n",
        "    # Generate sentences based on random numbers\n",
        "    if sentnum >= 1 and sentnum <= 5:\n",
        "        phrase = f\"Through the histology, the type of cancer was determined to be {histo}.\"\n",
        "        histosentences.append(phrase)\n",
        "    if sentnum >= 6 and sentnum <= 10:\n",
        "        phrase = f\"Histological analysis identified the cancer type as {histo}.\"\n",
        "        histosentences.append(phrase)\n",
        "    if sentnum >= 11 and sentnum <= 15:\n",
        "        phrase = f\"Based on the histology, the cancer was classified as {histo}.\"\n",
        "        histosentences.append(phrase)\n",
        "    if sentnum >= 16 and sentnum <= 20:\n",
        "        phrase = f\"The type of cancer, determined through histology, was {histo}.\"\n",
        "        histosentences.append(phrase)\n",
        "    if sentnum >= 21 and sentnum <= 25:\n",
        "        phrase = f\"Through histological examination, the cancer was diagnosed as {histo}.\"\n",
        "        histosentences.append(phrase)\n",
        "    if sentnum >= 26 and sentnum <= 30:\n",
        "        phrase = f\"The histological findings indicated the cancer type was {histo}.\"\n",
        "        histosentences.append(phrase)\n",
        "    if sentnum >= 31 and sentnum <= 35:\n",
        "        phrase = f\"Using histology, the cancer type was identified as {histo}.\"\n",
        "        histosentences.append(phrase)\n",
        "    if sentnum >= 36 and sentnum <= 40:\n",
        "        phrase = f\"Histological testing revealed the cancer type as {histo}.\"\n",
        "        histosentences.append(phrase)\n",
        "    if sentnum >= 41 and sentnum <= 45:\n",
        "        phrase = f\"From the histology results, the cancer was determined to be {histo}.\"\n",
        "        histosentences.append(phrase)\n",
        "    if sentnum >= 46 and sentnum <= 50:\n",
        "        phrase = f\"The cancer was determined to be {histo}, as per the histological findings.\"\n",
        "        histosentences.append(phrase)"
      ],
      "metadata": {
        "id": "KYSqwkw6S_1L"
      },
      "execution_count": null,
      "outputs": []
    },
    {
      "cell_type": "code",
      "source": [
        "# Save the full list of sentences to a text file\n",
        "output_file_path = '/content/drive/MyDrive/histodiagnosisdata/histological_diagnosis_histology.txt'\n",
        "with open(output_file_path, 'w') as file:\n",
        "    file.write('\\n'.join(histosentences))"
      ],
      "metadata": {
        "id": "fEJTSjexS_1L"
      },
      "execution_count": null,
      "outputs": []
    },
    {
      "cell_type": "markdown",
      "source": [
        "# **Pathological Stages**"
      ],
      "metadata": {
        "id": "CmU93t37Vg5f"
      }
    },
    {
      "cell_type": "markdown",
      "source": [
        "**Pathological T stage**"
      ],
      "metadata": {
        "id": "H4rx45LWVnHD"
      }
    },
    {
      "cell_type": "code",
      "source": [
        "import pandas as pd\n",
        "\n",
        "# Load the uploaded CSV file to examine its structure and content\n",
        "file_path = '/content/drive/MyDrive/NSCLCR01Radiogenomic_DATA_LABELS_2018-05-22_1500-shifted.csv'\n",
        "data = pd.read_csv(file_path)\n",
        "\n",
        "# Display the first few rows of the dataset to understand its structure\n",
        "data.head(), data.columns"
      ],
      "metadata": {
        "colab": {
          "base_uri": "https://localhost:8080/"
        },
        "outputId": "63513534-419d-4984-c28d-15548609676c",
        "id": "xLuCYCs2Vqfp"
      },
      "execution_count": null,
      "outputs": [
        {
          "output_type": "execute_result",
          "data": {
            "text/plain": [
              "(   Case ID Patient affiliation  Age at Histological Diagnosis   Weight (lbs)  \\\n",
              " 0  AMC-001            Stanford                             34  Not Collected   \n",
              " 1  AMC-002            Stanford                             33  Not Collected   \n",
              " 2  AMC-003            Stanford                             69  Not Collected   \n",
              " 3  AMC-004            Stanford                             80  Not Collected   \n",
              " 4  AMC-005            Stanford                             76  Not Collected   \n",
              " \n",
              "    Gender                 Ethnicity Smoking status Pack Years  \\\n",
              " 0    Male  Not Recorded In Database      Nonsmoker        NaN   \n",
              " 1  Female  Not Recorded In Database      Nonsmoker        NaN   \n",
              " 2  Female  Not Recorded In Database      Nonsmoker        NaN   \n",
              " 3  Female  Not Recorded In Database      Nonsmoker        NaN   \n",
              " 4    Male  Not Recorded In Database         Former         30   \n",
              " \n",
              "    Quit Smoking Year           %GG  ... Recurrence Recurrence Location  \\\n",
              " 0                NaN  Not Assessed  ...        yes             distant   \n",
              " 1                NaN  Not Assessed  ...         no                 NaN   \n",
              " 2                NaN  Not Assessed  ...         no                 NaN   \n",
              " 3                NaN  Not Assessed  ...         no                 NaN   \n",
              " 4             1962.0  Not Assessed  ...        yes             distant   \n",
              " \n",
              "   Date of Recurrence Date of Last Known Alive Survival Status Date of Death  \\\n",
              " 0          10/7/1994                 1/7/1997            Dead      1/7/1997   \n",
              " 1                NaN                3/20/1992           Alive           NaN   \n",
              " 2                NaN                6/19/1996           Alive           NaN   \n",
              " 3                NaN               12/13/1996           Alive           NaN   \n",
              " 4           1/4/1996                 1/7/1997           Alive           NaN   \n",
              " \n",
              "   Time to Death (days)     CT Date Days between CT and surgery       PET Date  \n",
              " 0                872.0   8/10/1994                           9  Not Collected  \n",
              " 1                  NaN   2/19/1992                           3  Not Collected  \n",
              " 2                  NaN   2/23/1995                          28  Not Collected  \n",
              " 3                  NaN  12/26/1992                          47  Not Collected  \n",
              " 4                  NaN   7/21/1994                           2  Not Collected  \n",
              " \n",
              " [5 rows x 40 columns],\n",
              " Index(['Case ID', 'Patient affiliation', 'Age at Histological Diagnosis',\n",
              "        'Weight (lbs)', 'Gender', 'Ethnicity', 'Smoking status', 'Pack Years',\n",
              "        'Quit Smoking Year', '%GG', 'Tumor Location (choice=RUL)',\n",
              "        'Tumor Location (choice=RML)', 'Tumor Location (choice=RLL)',\n",
              "        'Tumor Location (choice=LUL)', 'Tumor Location (choice=LLL)',\n",
              "        'Tumor Location (choice=L Lingula)', 'Tumor Location (choice=Unknown)',\n",
              "        'Histology ', 'Pathological T stage', 'Pathological N stage',\n",
              "        'Pathological M stage', 'Histopathological Grade',\n",
              "        'Lymphovascular invasion',\n",
              "        'Pleural invasion (elastic, visceral, or parietal)',\n",
              "        'EGFR mutation status', 'KRAS mutation status',\n",
              "        'ALK translocation status', 'Adjuvant Treatment', 'Chemotherapy',\n",
              "        'Radiation', 'Recurrence', 'Recurrence Location', 'Date of Recurrence',\n",
              "        'Date of Last Known Alive', 'Survival Status', 'Date of Death',\n",
              "        'Time to Death (days)', 'CT Date', 'Days between CT and surgery',\n",
              "        'PET Date'],\n",
              "       dtype='object'))"
            ]
          },
          "metadata": {},
          "execution_count": 7
        }
      ]
    },
    {
      "cell_type": "code",
      "source": [
        "# Extract the relevant columns: \"Case ID\" and \"Pathological T stage\"\n",
        "tstage_data = data[['Case ID', 'Pathological T stage']].copy()\n",
        "\n",
        "# Fill missing values with 'N/A'\n",
        "tstage_data['Pathological T stage'] = tstage_data['Pathological T stage'].fillna('N/A')\n",
        "\n",
        "import random\n",
        "\n",
        "# Generate unique sentences for each case\n",
        "tstagesentences = []\n",
        "for _, row in tstage_data.iterrows():\n",
        "    case_id = row['Case ID']\n",
        "    tstage = row['Pathological T stage']\n",
        "    sentnum = random.randint(1, 50)\n",
        "\n",
        "    # Generate sentences based on random numbers\n",
        "    if sentnum >= 1 and sentnum <= 5:\n",
        "        phrase = f\"The pathological T stage was {tstage}.\"\n",
        "        tstagesentences.append(phrase)\n",
        "    if sentnum >= 6 and sentnum <= 10:\n",
        "        phrase = f\"The pathological T stage was identified as {tstage}.\"\n",
        "        tstagesentences.append(phrase)\n",
        "    if sentnum >= 11 and sentnum <= 15:\n",
        "        phrase = f\"Pathological analysis determined the T stage to be {tstage}.\"\n",
        "        tstagesentences.append(phrase)\n",
        "    if sentnum >= 16 and sentnum <= 20:\n",
        "        phrase = f\"The T stage, based on pathology, was {tstage}.\"\n",
        "        tstagesentences.append(phrase)\n",
        "    if sentnum >= 21 and sentnum <= 25:\n",
        "        phrase = f\"Pathological evaluation revealed the T stage as {tstage}.\"\n",
        "        tstagesentences.append(phrase)\n",
        "    if sentnum >= 26 and sentnum <= 30:\n",
        "        phrase = f\"The T stage determined through pathology was {tstage}.\"\n",
        "        tstagesentences.append(phrase)\n",
        "    if sentnum >= 31 and sentnum <= 35:\n",
        "        phrase = f\"The pathological findings indicated the T stage was {tstage}.\"\n",
        "        tstagesentences.append(phrase)\n",
        "    if sentnum >= 36 and sentnum <= 40:\n",
        "        phrase = f\"Based on the pathology report, the T stage was {tstage}.\"\n",
        "        tstagesentences.append(phrase)\n",
        "    if sentnum >= 41 and sentnum <= 45:\n",
        "        phrase = f\"The pathological analysis concluded the T stage to be {tstage}.\"\n",
        "        tstagesentences.append(phrase)\n",
        "    if sentnum >= 46 and sentnum <= 50:\n",
        "        phrase = f\"The T stage determined by pathological examination was {tstage}.\"\n",
        "        tstagesentences.append(phrase)"
      ],
      "metadata": {
        "id": "r60fL1hVVqfq"
      },
      "execution_count": null,
      "outputs": []
    },
    {
      "cell_type": "code",
      "source": [
        "# Save the full list of sentences to a text file\n",
        "output_file_path = '/content/drive/MyDrive/histodiagnosisdata/histological_diagnosis_tstage.txt'\n",
        "with open(output_file_path, 'w') as file:\n",
        "    file.write('\\n'.join(tstagesentences))"
      ],
      "metadata": {
        "id": "A7qC3wgCVqfq"
      },
      "execution_count": null,
      "outputs": []
    },
    {
      "cell_type": "markdown",
      "source": [
        "**Pathological N stage**"
      ],
      "metadata": {
        "id": "hKIBgPe9Xybo"
      }
    },
    {
      "cell_type": "code",
      "source": [
        "import pandas as pd\n",
        "\n",
        "# Load the uploaded CSV file to examine its structure and content\n",
        "file_path = '/content/drive/MyDrive/NSCLCR01Radiogenomic_DATA_LABELS_2018-05-22_1500-shifted.csv'\n",
        "data = pd.read_csv(file_path)\n",
        "\n",
        "# Display the first few rows of the dataset to understand its structure\n",
        "data.head(), data.columns"
      ],
      "metadata": {
        "colab": {
          "base_uri": "https://localhost:8080/"
        },
        "outputId": "692eaa76-f0b9-4d8b-9e3f-a1a91eb066c3",
        "id": "kgN2LCdoX3kl"
      },
      "execution_count": null,
      "outputs": [
        {
          "output_type": "execute_result",
          "data": {
            "text/plain": [
              "(   Case ID Patient affiliation  Age at Histological Diagnosis   Weight (lbs)  \\\n",
              " 0  AMC-001            Stanford                             34  Not Collected   \n",
              " 1  AMC-002            Stanford                             33  Not Collected   \n",
              " 2  AMC-003            Stanford                             69  Not Collected   \n",
              " 3  AMC-004            Stanford                             80  Not Collected   \n",
              " 4  AMC-005            Stanford                             76  Not Collected   \n",
              " \n",
              "    Gender                 Ethnicity Smoking status Pack Years  \\\n",
              " 0    Male  Not Recorded In Database      Nonsmoker        NaN   \n",
              " 1  Female  Not Recorded In Database      Nonsmoker        NaN   \n",
              " 2  Female  Not Recorded In Database      Nonsmoker        NaN   \n",
              " 3  Female  Not Recorded In Database      Nonsmoker        NaN   \n",
              " 4    Male  Not Recorded In Database         Former         30   \n",
              " \n",
              "    Quit Smoking Year           %GG  ... Recurrence Recurrence Location  \\\n",
              " 0                NaN  Not Assessed  ...        yes             distant   \n",
              " 1                NaN  Not Assessed  ...         no                 NaN   \n",
              " 2                NaN  Not Assessed  ...         no                 NaN   \n",
              " 3                NaN  Not Assessed  ...         no                 NaN   \n",
              " 4             1962.0  Not Assessed  ...        yes             distant   \n",
              " \n",
              "   Date of Recurrence Date of Last Known Alive Survival Status Date of Death  \\\n",
              " 0          10/7/1994                 1/7/1997            Dead      1/7/1997   \n",
              " 1                NaN                3/20/1992           Alive           NaN   \n",
              " 2                NaN                6/19/1996           Alive           NaN   \n",
              " 3                NaN               12/13/1996           Alive           NaN   \n",
              " 4           1/4/1996                 1/7/1997           Alive           NaN   \n",
              " \n",
              "   Time to Death (days)     CT Date Days between CT and surgery       PET Date  \n",
              " 0                872.0   8/10/1994                           9  Not Collected  \n",
              " 1                  NaN   2/19/1992                           3  Not Collected  \n",
              " 2                  NaN   2/23/1995                          28  Not Collected  \n",
              " 3                  NaN  12/26/1992                          47  Not Collected  \n",
              " 4                  NaN   7/21/1994                           2  Not Collected  \n",
              " \n",
              " [5 rows x 40 columns],\n",
              " Index(['Case ID', 'Patient affiliation', 'Age at Histological Diagnosis',\n",
              "        'Weight (lbs)', 'Gender', 'Ethnicity', 'Smoking status', 'Pack Years',\n",
              "        'Quit Smoking Year', '%GG', 'Tumor Location (choice=RUL)',\n",
              "        'Tumor Location (choice=RML)', 'Tumor Location (choice=RLL)',\n",
              "        'Tumor Location (choice=LUL)', 'Tumor Location (choice=LLL)',\n",
              "        'Tumor Location (choice=L Lingula)', 'Tumor Location (choice=Unknown)',\n",
              "        'Histology ', 'Pathological T stage', 'Pathological N stage',\n",
              "        'Pathological M stage', 'Histopathological Grade',\n",
              "        'Lymphovascular invasion',\n",
              "        'Pleural invasion (elastic, visceral, or parietal)',\n",
              "        'EGFR mutation status', 'KRAS mutation status',\n",
              "        'ALK translocation status', 'Adjuvant Treatment', 'Chemotherapy',\n",
              "        'Radiation', 'Recurrence', 'Recurrence Location', 'Date of Recurrence',\n",
              "        'Date of Last Known Alive', 'Survival Status', 'Date of Death',\n",
              "        'Time to Death (days)', 'CT Date', 'Days between CT and surgery',\n",
              "        'PET Date'],\n",
              "       dtype='object'))"
            ]
          },
          "metadata": {},
          "execution_count": 13
        }
      ]
    },
    {
      "cell_type": "code",
      "source": [
        "# Extract the relevant columns: \"Case ID\" and \"Pathological N stage\"\n",
        "nstage_data = data[['Case ID', 'Pathological N stage']].copy()\n",
        "\n",
        "# Fill missing values with 'N/A'\n",
        "nstage_data['Pathological N stage'] = nstage_data['Pathological N stage'].fillna('N/A')\n",
        "\n",
        "import random\n",
        "\n",
        "# Generate unique sentences for each case\n",
        "nstagesentences = []\n",
        "for _, row in nstage_data.iterrows():\n",
        "    case_id = row['Case ID']\n",
        "    nstage = row['Pathological N stage']\n",
        "    sentnum = random.randint(1, 50)\n",
        "\n",
        "    # Generate sentences based on random numbers\n",
        "    if sentnum >= 1 and sentnum <= 5:\n",
        "        phrase = f\"The pathological N stage was {nstage}.\"\n",
        "        nstagesentences.append(phrase)\n",
        "    if sentnum >= 6 and sentnum <= 10:\n",
        "        phrase = f\"The pathological N stage was identified as {nstage}.\"\n",
        "        nstagesentences.append(phrase)\n",
        "    if sentnum >= 11 and sentnum <= 15:\n",
        "        phrase = f\"Pathological analysis determined the N stage to be {nstage}.\"\n",
        "        nstagesentences.append(phrase)\n",
        "    if sentnum >= 16 and sentnum <= 20:\n",
        "        phrase = f\"The N stage, based on pathology, was {nstage}.\"\n",
        "        nstagesentences.append(phrase)\n",
        "    if sentnum >= 21 and sentnum <= 25:\n",
        "        phrase = f\"Pathological evaluation revealed the N stage as {nstage}.\"\n",
        "        nstagesentences.append(phrase)\n",
        "    if sentnum >= 26 and sentnum <= 30:\n",
        "        phrase = f\"The N stage determined through pathology was {nstage}.\"\n",
        "        nstagesentences.append(phrase)\n",
        "    if sentnum >= 31 and sentnum <= 35:\n",
        "        phrase = f\"The pathological findings indicated the N stage was {nstage}.\"\n",
        "        nstagesentences.append(phrase)\n",
        "    if sentnum >= 36 and sentnum <= 40:\n",
        "        phrase = f\"Based on the pathology report, the N stage was {nstage}.\"\n",
        "        nstagesentences.append(phrase)\n",
        "    if sentnum >= 41 and sentnum <= 45:\n",
        "        phrase = f\"The pathological analysis concluded the N stage to be {nstage}.\"\n",
        "        nstagesentences.append(phrase)\n",
        "    if sentnum >= 46 and sentnum <= 50:\n",
        "        phrase = f\"The N stage determined by pathological examination was {nstage}.\"\n",
        "        nstagesentences.append(phrase)"
      ],
      "metadata": {
        "id": "No-otg-dX3km"
      },
      "execution_count": null,
      "outputs": []
    },
    {
      "cell_type": "code",
      "source": [
        "# Save the full list of sentences to a text file\n",
        "output_file_path = '/content/drive/MyDrive/histodiagnosisdata/histological_diagnosis_nstage.txt'\n",
        "with open(output_file_path, 'w') as file:\n",
        "    file.write('\\n'.join(nstagesentences))"
      ],
      "metadata": {
        "id": "HqV0qMTYX3kn"
      },
      "execution_count": null,
      "outputs": []
    },
    {
      "cell_type": "markdown",
      "source": [
        "**Pathological M stage**"
      ],
      "metadata": {
        "id": "BCLrCvQhZp1j"
      }
    },
    {
      "cell_type": "code",
      "source": [
        "import pandas as pd\n",
        "\n",
        "# Load the uploaded CSV file to examine its structure and content\n",
        "file_path = '/content/drive/MyDrive/NSCLCR01Radiogenomic_DATA_LABELS_2018-05-22_1500-shifted.csv'\n",
        "data = pd.read_csv(file_path)\n",
        "\n",
        "# Display the first few rows of the dataset to understand its structure\n",
        "data.head(), data.columns"
      ],
      "metadata": {
        "colab": {
          "base_uri": "https://localhost:8080/"
        },
        "outputId": "ce743e18-acae-4f3a-d496-bc14f6f3b8b0",
        "id": "BvIJLTBeZuhm"
      },
      "execution_count": null,
      "outputs": [
        {
          "output_type": "execute_result",
          "data": {
            "text/plain": [
              "(   Case ID Patient affiliation  Age at Histological Diagnosis   Weight (lbs)  \\\n",
              " 0  AMC-001            Stanford                             34  Not Collected   \n",
              " 1  AMC-002            Stanford                             33  Not Collected   \n",
              " 2  AMC-003            Stanford                             69  Not Collected   \n",
              " 3  AMC-004            Stanford                             80  Not Collected   \n",
              " 4  AMC-005            Stanford                             76  Not Collected   \n",
              " \n",
              "    Gender                 Ethnicity Smoking status Pack Years  \\\n",
              " 0    Male  Not Recorded In Database      Nonsmoker        NaN   \n",
              " 1  Female  Not Recorded In Database      Nonsmoker        NaN   \n",
              " 2  Female  Not Recorded In Database      Nonsmoker        NaN   \n",
              " 3  Female  Not Recorded In Database      Nonsmoker        NaN   \n",
              " 4    Male  Not Recorded In Database         Former         30   \n",
              " \n",
              "    Quit Smoking Year           %GG  ... Recurrence Recurrence Location  \\\n",
              " 0                NaN  Not Assessed  ...        yes             distant   \n",
              " 1                NaN  Not Assessed  ...         no                 NaN   \n",
              " 2                NaN  Not Assessed  ...         no                 NaN   \n",
              " 3                NaN  Not Assessed  ...         no                 NaN   \n",
              " 4             1962.0  Not Assessed  ...        yes             distant   \n",
              " \n",
              "   Date of Recurrence Date of Last Known Alive Survival Status Date of Death  \\\n",
              " 0          10/7/1994                 1/7/1997            Dead      1/7/1997   \n",
              " 1                NaN                3/20/1992           Alive           NaN   \n",
              " 2                NaN                6/19/1996           Alive           NaN   \n",
              " 3                NaN               12/13/1996           Alive           NaN   \n",
              " 4           1/4/1996                 1/7/1997           Alive           NaN   \n",
              " \n",
              "   Time to Death (days)     CT Date Days between CT and surgery       PET Date  \n",
              " 0                872.0   8/10/1994                           9  Not Collected  \n",
              " 1                  NaN   2/19/1992                           3  Not Collected  \n",
              " 2                  NaN   2/23/1995                          28  Not Collected  \n",
              " 3                  NaN  12/26/1992                          47  Not Collected  \n",
              " 4                  NaN   7/21/1994                           2  Not Collected  \n",
              " \n",
              " [5 rows x 40 columns],\n",
              " Index(['Case ID', 'Patient affiliation', 'Age at Histological Diagnosis',\n",
              "        'Weight (lbs)', 'Gender', 'Ethnicity', 'Smoking status', 'Pack Years',\n",
              "        'Quit Smoking Year', '%GG', 'Tumor Location (choice=RUL)',\n",
              "        'Tumor Location (choice=RML)', 'Tumor Location (choice=RLL)',\n",
              "        'Tumor Location (choice=LUL)', 'Tumor Location (choice=LLL)',\n",
              "        'Tumor Location (choice=L Lingula)', 'Tumor Location (choice=Unknown)',\n",
              "        'Histology ', 'Pathological T stage', 'Pathological N stage',\n",
              "        'Pathological M stage', 'Histopathological Grade',\n",
              "        'Lymphovascular invasion',\n",
              "        'Pleural invasion (elastic, visceral, or parietal)',\n",
              "        'EGFR mutation status', 'KRAS mutation status',\n",
              "        'ALK translocation status', 'Adjuvant Treatment', 'Chemotherapy',\n",
              "        'Radiation', 'Recurrence', 'Recurrence Location', 'Date of Recurrence',\n",
              "        'Date of Last Known Alive', 'Survival Status', 'Date of Death',\n",
              "        'Time to Death (days)', 'CT Date', 'Days between CT and surgery',\n",
              "        'PET Date'],\n",
              "       dtype='object'))"
            ]
          },
          "metadata": {},
          "execution_count": 14
        }
      ]
    },
    {
      "cell_type": "code",
      "source": [
        "# Extract the relevant columns: \"Case ID\" and \"Pathological M stage\"\n",
        "mstage_data = data[['Case ID', 'Pathological M stage']].copy()\n",
        "\n",
        "# Fill missing values with 'N/A'\n",
        "mstage_data['Pathological M stage'] = mstage_data['Pathological M stage'].fillna('N/A')\n",
        "\n",
        "import random\n",
        "\n",
        "# Generate unique sentences for each case\n",
        "mstagesentences = []\n",
        "for _, row in mstage_data.iterrows():\n",
        "    case_id = row['Case ID']\n",
        "    mstage = row['Pathological M stage']\n",
        "    sentnum = random.randint(1, 50)\n",
        "\n",
        "    # Generate sentences based on random numbers\n",
        "    if sentnum >= 1 and sentnum <= 5:\n",
        "        phrase = f\"The pathological M stage was {mstage}.\"\n",
        "        mstagesentences.append(phrase)\n",
        "    if sentnum >= 6 and sentnum <= 10:\n",
        "        phrase = f\"The pathological M stage was identified as {mstage}.\"\n",
        "        mstagesentences.append(phrase)\n",
        "    if sentnum >= 11 and sentnum <= 15:\n",
        "        phrase = f\"Pathological analysis determined the M stage to be {mstage}.\"\n",
        "        mstagesentences.append(phrase)\n",
        "    if sentnum >= 16 and sentnum <= 20:\n",
        "        phrase = f\"The M stage, based on pathology, was {mstage}.\"\n",
        "        mstagesentences.append(phrase)\n",
        "    if sentnum >= 21 and sentnum <= 25:\n",
        "        phrase = f\"Pathological evaluation revealed the M stage as {mstage}.\"\n",
        "        mstagesentences.append(phrase)\n",
        "    if sentnum >= 26 and sentnum <= 30:\n",
        "        phrase = f\"The M stage determined through pathology was {mstage}.\"\n",
        "        mstagesentences.append(phrase)\n",
        "    if sentnum >= 31 and sentnum <= 35:\n",
        "        phrase = f\"The pathological findings indicated the M stage was {mstage}.\"\n",
        "        mstagesentences.append(phrase)\n",
        "    if sentnum >= 36 and sentnum <= 40:\n",
        "        phrase = f\"Based on the pathology report, the M stage was {mstage}.\"\n",
        "        mstagesentences.append(phrase)\n",
        "    if sentnum >= 41 and sentnum <= 45:\n",
        "        phrase = f\"The pathological analysis concluded the M stage to be {mstage}.\"\n",
        "        mstagesentences.append(phrase)\n",
        "    if sentnum >= 46 and sentnum <= 50:\n",
        "        phrase = f\"The M stage determined by pathological examination was {mstage}.\"\n",
        "        mstagesentences.append(phrase)"
      ],
      "metadata": {
        "id": "yK_hrr9WZuhn"
      },
      "execution_count": null,
      "outputs": []
    },
    {
      "cell_type": "code",
      "source": [
        "# Save the full list of sentences to a text file\n",
        "output_file_path = '/content/drive/MyDrive/histodiagnosisdata/histological_diagnosis_mstage.txt'\n",
        "with open(output_file_path, 'w') as file:\n",
        "    file.write('\\n'.join(mstagesentences))"
      ],
      "metadata": {
        "id": "6NG_jPXwZuhn"
      },
      "execution_count": null,
      "outputs": []
    },
    {
      "cell_type": "markdown",
      "source": [
        "# **Histopathological Grade**"
      ],
      "metadata": {
        "id": "LpMP09yobCU2"
      }
    },
    {
      "cell_type": "code",
      "source": [
        "import pandas as pd\n",
        "\n",
        "# Load the uploaded CSV file to examine its structure and content\n",
        "file_path = '/content/drive/MyDrive/NSCLCR01Radiogenomic_DATA_LABELS_2018-05-22_1500-shifted.csv'\n",
        "data = pd.read_csv(file_path)\n",
        "\n",
        "# Display the first few rows of the dataset to understand its structure\n",
        "data.head(), data.columns"
      ],
      "metadata": {
        "colab": {
          "base_uri": "https://localhost:8080/"
        },
        "outputId": "7382c3f7-4885-42ac-8147-7def0552508d",
        "id": "39Mh7a6-bHSI"
      },
      "execution_count": null,
      "outputs": [
        {
          "output_type": "execute_result",
          "data": {
            "text/plain": [
              "(   Case ID Patient affiliation  Age at Histological Diagnosis   Weight (lbs)  \\\n",
              " 0  AMC-001            Stanford                             34  Not Collected   \n",
              " 1  AMC-002            Stanford                             33  Not Collected   \n",
              " 2  AMC-003            Stanford                             69  Not Collected   \n",
              " 3  AMC-004            Stanford                             80  Not Collected   \n",
              " 4  AMC-005            Stanford                             76  Not Collected   \n",
              " \n",
              "    Gender                 Ethnicity Smoking status Pack Years  \\\n",
              " 0    Male  Not Recorded In Database      Nonsmoker        NaN   \n",
              " 1  Female  Not Recorded In Database      Nonsmoker        NaN   \n",
              " 2  Female  Not Recorded In Database      Nonsmoker        NaN   \n",
              " 3  Female  Not Recorded In Database      Nonsmoker        NaN   \n",
              " 4    Male  Not Recorded In Database         Former         30   \n",
              " \n",
              "    Quit Smoking Year           %GG  ... Recurrence Recurrence Location  \\\n",
              " 0                NaN  Not Assessed  ...        yes             distant   \n",
              " 1                NaN  Not Assessed  ...         no                 NaN   \n",
              " 2                NaN  Not Assessed  ...         no                 NaN   \n",
              " 3                NaN  Not Assessed  ...         no                 NaN   \n",
              " 4             1962.0  Not Assessed  ...        yes             distant   \n",
              " \n",
              "   Date of Recurrence Date of Last Known Alive Survival Status Date of Death  \\\n",
              " 0          10/7/1994                 1/7/1997            Dead      1/7/1997   \n",
              " 1                NaN                3/20/1992           Alive           NaN   \n",
              " 2                NaN                6/19/1996           Alive           NaN   \n",
              " 3                NaN               12/13/1996           Alive           NaN   \n",
              " 4           1/4/1996                 1/7/1997           Alive           NaN   \n",
              " \n",
              "   Time to Death (days)     CT Date Days between CT and surgery       PET Date  \n",
              " 0                872.0   8/10/1994                           9  Not Collected  \n",
              " 1                  NaN   2/19/1992                           3  Not Collected  \n",
              " 2                  NaN   2/23/1995                          28  Not Collected  \n",
              " 3                  NaN  12/26/1992                          47  Not Collected  \n",
              " 4                  NaN   7/21/1994                           2  Not Collected  \n",
              " \n",
              " [5 rows x 40 columns],\n",
              " Index(['Case ID', 'Patient affiliation', 'Age at Histological Diagnosis',\n",
              "        'Weight (lbs)', 'Gender', 'Ethnicity', 'Smoking status', 'Pack Years',\n",
              "        'Quit Smoking Year', '%GG', 'Tumor Location (choice=RUL)',\n",
              "        'Tumor Location (choice=RML)', 'Tumor Location (choice=RLL)',\n",
              "        'Tumor Location (choice=LUL)', 'Tumor Location (choice=LLL)',\n",
              "        'Tumor Location (choice=L Lingula)', 'Tumor Location (choice=Unknown)',\n",
              "        'Histology ', 'Pathological T stage', 'Pathological N stage',\n",
              "        'Pathological M stage', 'Histopathological Grade',\n",
              "        'Lymphovascular invasion',\n",
              "        'Pleural invasion (elastic, visceral, or parietal)',\n",
              "        'EGFR mutation status', 'KRAS mutation status',\n",
              "        'ALK translocation status', 'Adjuvant Treatment', 'Chemotherapy',\n",
              "        'Radiation', 'Recurrence', 'Recurrence Location', 'Date of Recurrence',\n",
              "        'Date of Last Known Alive', 'Survival Status', 'Date of Death',\n",
              "        'Time to Death (days)', 'CT Date', 'Days between CT and surgery',\n",
              "        'PET Date'],\n",
              "       dtype='object'))"
            ]
          },
          "metadata": {},
          "execution_count": 20
        }
      ]
    },
    {
      "cell_type": "code",
      "source": [
        "# Extract the relevant columns: \"Case ID\" and \"Histopathological Grade\"\n",
        "grade_data = data[['Case ID', 'Histopathological Grade']].copy()\n",
        "\n",
        "# Fill missing values with 'N/A'\n",
        "grade_data['Histopathological Grade'] = grade_data['Histopathological Grade'].fillna('N/A')\n",
        "\n",
        "import random\n",
        "\n",
        "# Generate unique sentences for each case\n",
        "gradesentences = []\n",
        "for _, row in grade_data.iterrows():\n",
        "    case_id = row['Case ID']\n",
        "    grade = row['Histopathological Grade']\n",
        "    sentnum = random.randint(1, 50)\n",
        "\n",
        "    # Generate sentences based on random numbers\n",
        "    if sentnum >= 1 and sentnum <= 5:\n",
        "        phrase = f\"The histopathological grade was '{grade}'.\"\n",
        "        gradesentences.append(phrase)\n",
        "    if sentnum >= 6 and sentnum <= 10:\n",
        "        phrase = f\"The histopathological grade was identified as '{grade}'.\"\n",
        "        gradesentences.append(phrase)\n",
        "    if sentnum >= 11 and sentnum <= 15:\n",
        "        phrase = f\"Pathological analysis determined the histological grade to be '{grade}'.\"\n",
        "        gradesentences.append(phrase)\n",
        "    if sentnum >= 16 and sentnum <= 20:\n",
        "        phrase = f\"The histological grade, based on pathology, was '{grade}'.\"\n",
        "        gradesentences.append(phrase)\n",
        "    if sentnum >= 21 and sentnum <= 25:\n",
        "        phrase = f\"Pathological evaluation revealed the histological grade as '{grade}'.\"\n",
        "        gradesentences.append(phrase)\n",
        "    if sentnum >= 26 and sentnum <= 30:\n",
        "        phrase = f\"The histological grade determined was '{grade}'.\"\n",
        "        gradesentences.append(phrase)\n",
        "    if sentnum >= 31 and sentnum <= 35:\n",
        "        phrase = f\"The pathological findings indicated the histological grade was '{grade}'.\"\n",
        "        gradesentences.append(phrase)\n",
        "    if sentnum >= 36 and sentnum <= 40:\n",
        "        phrase = f\"Based on the pathology report, the histological grade was '{grade}'.\"\n",
        "        gradesentences.append(phrase)\n",
        "    if sentnum >= 41 and sentnum <= 45:\n",
        "        phrase = f\"The pathological analysis concluded the histological grade to be '{grade}'.\"\n",
        "        gradesentences.append(phrase)\n",
        "    if sentnum >= 46 and sentnum <= 50:\n",
        "        phrase = f\"The histological grade determined by pathological examination was '{grade}'.\"\n",
        "        gradesentences.append(phrase)"
      ],
      "metadata": {
        "id": "8l2HSq1ebHSI"
      },
      "execution_count": null,
      "outputs": []
    },
    {
      "cell_type": "code",
      "source": [
        "# Save the full list of sentences to a text file\n",
        "output_file_path = '/content/drive/MyDrive/histodiagnosisdata/histological_diagnosis_grade.txt'\n",
        "with open(output_file_path, 'w') as file:\n",
        "    file.write('\\n'.join(gradesentences))"
      ],
      "metadata": {
        "id": "EbR79jY0bHSJ"
      },
      "execution_count": null,
      "outputs": []
    },
    {
      "cell_type": "markdown",
      "source": [
        "# **Lymphovascular invasion**"
      ],
      "metadata": {
        "id": "2TbpEQNqc3aw"
      }
    },
    {
      "cell_type": "code",
      "source": [
        "import pandas as pd\n",
        "\n",
        "# Load the uploaded CSV file to examine its structure and content\n",
        "file_path = '/content/drive/MyDrive/NSCLCR01Radiogenomic_DATA_LABELS_2018-05-22_1500-shifted.csv'\n",
        "data = pd.read_csv(file_path)\n",
        "\n",
        "# Display the first few rows of the dataset to understand its structure\n",
        "data.head(), data.columns"
      ],
      "metadata": {
        "colab": {
          "base_uri": "https://localhost:8080/"
        },
        "outputId": "5907d2de-4785-4e23-a018-d5f3ce9ded7e",
        "id": "yLxNl81bdIxo"
      },
      "execution_count": null,
      "outputs": [
        {
          "output_type": "execute_result",
          "data": {
            "text/plain": [
              "(   Case ID Patient affiliation  Age at Histological Diagnosis   Weight (lbs)  \\\n",
              " 0  AMC-001            Stanford                             34  Not Collected   \n",
              " 1  AMC-002            Stanford                             33  Not Collected   \n",
              " 2  AMC-003            Stanford                             69  Not Collected   \n",
              " 3  AMC-004            Stanford                             80  Not Collected   \n",
              " 4  AMC-005            Stanford                             76  Not Collected   \n",
              " \n",
              "    Gender                 Ethnicity Smoking status Pack Years  \\\n",
              " 0    Male  Not Recorded In Database      Nonsmoker        NaN   \n",
              " 1  Female  Not Recorded In Database      Nonsmoker        NaN   \n",
              " 2  Female  Not Recorded In Database      Nonsmoker        NaN   \n",
              " 3  Female  Not Recorded In Database      Nonsmoker        NaN   \n",
              " 4    Male  Not Recorded In Database         Former         30   \n",
              " \n",
              "    Quit Smoking Year           %GG  ... Recurrence Recurrence Location  \\\n",
              " 0                NaN  Not Assessed  ...        yes             distant   \n",
              " 1                NaN  Not Assessed  ...         no                 NaN   \n",
              " 2                NaN  Not Assessed  ...         no                 NaN   \n",
              " 3                NaN  Not Assessed  ...         no                 NaN   \n",
              " 4             1962.0  Not Assessed  ...        yes             distant   \n",
              " \n",
              "   Date of Recurrence Date of Last Known Alive Survival Status Date of Death  \\\n",
              " 0          10/7/1994                 1/7/1997            Dead      1/7/1997   \n",
              " 1                NaN                3/20/1992           Alive           NaN   \n",
              " 2                NaN                6/19/1996           Alive           NaN   \n",
              " 3                NaN               12/13/1996           Alive           NaN   \n",
              " 4           1/4/1996                 1/7/1997           Alive           NaN   \n",
              " \n",
              "   Time to Death (days)     CT Date Days between CT and surgery       PET Date  \n",
              " 0                872.0   8/10/1994                           9  Not Collected  \n",
              " 1                  NaN   2/19/1992                           3  Not Collected  \n",
              " 2                  NaN   2/23/1995                          28  Not Collected  \n",
              " 3                  NaN  12/26/1992                          47  Not Collected  \n",
              " 4                  NaN   7/21/1994                           2  Not Collected  \n",
              " \n",
              " [5 rows x 40 columns],\n",
              " Index(['Case ID', 'Patient affiliation', 'Age at Histological Diagnosis',\n",
              "        'Weight (lbs)', 'Gender', 'Ethnicity', 'Smoking status', 'Pack Years',\n",
              "        'Quit Smoking Year', '%GG', 'Tumor Location (choice=RUL)',\n",
              "        'Tumor Location (choice=RML)', 'Tumor Location (choice=RLL)',\n",
              "        'Tumor Location (choice=LUL)', 'Tumor Location (choice=LLL)',\n",
              "        'Tumor Location (choice=L Lingula)', 'Tumor Location (choice=Unknown)',\n",
              "        'Histology ', 'Pathological T stage', 'Pathological N stage',\n",
              "        'Pathological M stage', 'Histopathological Grade',\n",
              "        'Lymphovascular invasion',\n",
              "        'Pleural invasion (elastic, visceral, or parietal)',\n",
              "        'EGFR mutation status', 'KRAS mutation status',\n",
              "        'ALK translocation status', 'Adjuvant Treatment', 'Chemotherapy',\n",
              "        'Radiation', 'Recurrence', 'Recurrence Location', 'Date of Recurrence',\n",
              "        'Date of Last Known Alive', 'Survival Status', 'Date of Death',\n",
              "        'Time to Death (days)', 'CT Date', 'Days between CT and surgery',\n",
              "        'PET Date'],\n",
              "       dtype='object'))"
            ]
          },
          "metadata": {},
          "execution_count": 23
        }
      ]
    },
    {
      "cell_type": "code",
      "source": [
        "# Extract the relevant columns: \"Case ID\" and \"Lymphovascular invasion\"\n",
        "lymph_data = data[['Case ID', 'Lymphovascular invasion']].copy()\n",
        "\n",
        "# Fill missing values with 'N/A'\n",
        "lymph_data['Lymphovascular invasion'] = lymph_data['Lymphovascular invasion'].fillna('N/A')\n",
        "\n",
        "import random\n",
        "\n",
        "# Generate unique sentences for each case\n",
        "lymphsentences = []\n",
        "for _, row in lymph_data.iterrows():\n",
        "    case_id = row['Case ID']\n",
        "    lymph = row['Lymphovascular invasion']\n",
        "    sentnum = random.randint(1, 50)\n",
        "\n",
        "    # Generate sentences based on random numbers\n",
        "    if sentnum >= 1 and sentnum <= 5:\n",
        "        phrase = f\"Upon investigation for lymphovascular invasion, the result was {lymph}.\"\n",
        "        lymphsentences.append(phrase)\n",
        "    if sentnum >= 6 and sentnum <= 10:\n",
        "        phrase = f\"The examination for lymphovascular invasion revealed {lymph}.\"\n",
        "        lymphsentences.append(phrase)\n",
        "    if sentnum >= 11 and sentnum <= 15:\n",
        "        phrase = f\"When assessed for lymphovascular invasion, it was determined to be {lymph}.\"\n",
        "        lymphsentences.append(phrase)\n",
        "    if sentnum >= 16 and sentnum <= 20:\n",
        "        phrase = f\"Lymphovascular invasion was examined, and the outcome was {lymph}.\"\n",
        "        lymphsentences.append(phrase)\n",
        "    if sentnum >= 21 and sentnum <= 25:\n",
        "        phrase = f\"Upon examining for lymphovascular invasion, it was {lymph}.\"\n",
        "        lymphsentences.append(phrase)\n",
        "    if sentnum >= 26 and sentnum <= 30:\n",
        "        phrase = f\"The investigation of lymphovascular invasion revealed a result of {lymph}.\"\n",
        "        lymphsentences.append(phrase)\n",
        "    if sentnum >= 31 and sentnum <= 35:\n",
        "        phrase = f\"When tested for lymphovascular invasion, it was found to be {lymph}.\"\n",
        "        lymphsentences.append(phrase)\n",
        "    if sentnum >= 36 and sentnum <= 40:\n",
        "        phrase = f\"The review of lymphovascular invasion showed that it was {lymph}.\"\n",
        "        lymphsentences.append(phrase)\n",
        "    if sentnum >= 41 and sentnum <= 45:\n",
        "        phrase = f\"The assessment of lymphovascular invasion showed that it was {lymph}.\"\n",
        "        lymphsentences.append(phrase)\n",
        "    if sentnum >= 46 and sentnum <= 50:\n",
        "        phrase = f\"Upon testing for lymphovascular invasion, the finding was {lymph}.\"\n",
        "        lymphsentences.append(phrase)"
      ],
      "metadata": {
        "id": "IZikitK5dIxp"
      },
      "execution_count": null,
      "outputs": []
    },
    {
      "cell_type": "code",
      "source": [
        "# Save the full list of sentences to a text file\n",
        "output_file_path = '/content/drive/MyDrive/histodiagnosisdata/histological_diagnosis_lymph.txt'\n",
        "with open(output_file_path, 'w') as file:\n",
        "    file.write('\\n'.join(lymphsentences))"
      ],
      "metadata": {
        "id": "n9l65wOYdIxp"
      },
      "execution_count": null,
      "outputs": []
    },
    {
      "cell_type": "markdown",
      "source": [
        "# **Pleural invasion (elastic, visceral, or parietal)**"
      ],
      "metadata": {
        "id": "YbRC-v3Xe1J8"
      }
    },
    {
      "cell_type": "code",
      "source": [
        "import pandas as pd\n",
        "\n",
        "# Load the uploaded CSV file to examine its structure and content\n",
        "file_path = '/content/drive/MyDrive/NSCLCR01Radiogenomic_DATA_LABELS_2018-05-22_1500-shifted.csv'\n",
        "data = pd.read_csv(file_path)\n",
        "\n",
        "# Display the first few rows of the dataset to understand its structure\n",
        "data.head(), data.columns"
      ],
      "metadata": {
        "colab": {
          "base_uri": "https://localhost:8080/"
        },
        "outputId": "7f0b1dcf-7354-42e9-e0e6-bf22acc90ebb",
        "id": "Cq4V0tpve3mW"
      },
      "execution_count": null,
      "outputs": [
        {
          "output_type": "execute_result",
          "data": {
            "text/plain": [
              "(   Case ID Patient affiliation  Age at Histological Diagnosis   Weight (lbs)  \\\n",
              " 0  AMC-001            Stanford                             34  Not Collected   \n",
              " 1  AMC-002            Stanford                             33  Not Collected   \n",
              " 2  AMC-003            Stanford                             69  Not Collected   \n",
              " 3  AMC-004            Stanford                             80  Not Collected   \n",
              " 4  AMC-005            Stanford                             76  Not Collected   \n",
              " \n",
              "    Gender                 Ethnicity Smoking status Pack Years  \\\n",
              " 0    Male  Not Recorded In Database      Nonsmoker        NaN   \n",
              " 1  Female  Not Recorded In Database      Nonsmoker        NaN   \n",
              " 2  Female  Not Recorded In Database      Nonsmoker        NaN   \n",
              " 3  Female  Not Recorded In Database      Nonsmoker        NaN   \n",
              " 4    Male  Not Recorded In Database         Former         30   \n",
              " \n",
              "    Quit Smoking Year           %GG  ... Recurrence Recurrence Location  \\\n",
              " 0                NaN  Not Assessed  ...        yes             distant   \n",
              " 1                NaN  Not Assessed  ...         no                 NaN   \n",
              " 2                NaN  Not Assessed  ...         no                 NaN   \n",
              " 3                NaN  Not Assessed  ...         no                 NaN   \n",
              " 4             1962.0  Not Assessed  ...        yes             distant   \n",
              " \n",
              "   Date of Recurrence Date of Last Known Alive Survival Status Date of Death  \\\n",
              " 0          10/7/1994                 1/7/1997            Dead      1/7/1997   \n",
              " 1                NaN                3/20/1992           Alive           NaN   \n",
              " 2                NaN                6/19/1996           Alive           NaN   \n",
              " 3                NaN               12/13/1996           Alive           NaN   \n",
              " 4           1/4/1996                 1/7/1997           Alive           NaN   \n",
              " \n",
              "   Time to Death (days)     CT Date Days between CT and surgery       PET Date  \n",
              " 0                872.0   8/10/1994                           9  Not Collected  \n",
              " 1                  NaN   2/19/1992                           3  Not Collected  \n",
              " 2                  NaN   2/23/1995                          28  Not Collected  \n",
              " 3                  NaN  12/26/1992                          47  Not Collected  \n",
              " 4                  NaN   7/21/1994                           2  Not Collected  \n",
              " \n",
              " [5 rows x 40 columns],\n",
              " Index(['Case ID', 'Patient affiliation', 'Age at Histological Diagnosis',\n",
              "        'Weight (lbs)', 'Gender', 'Ethnicity', 'Smoking status', 'Pack Years',\n",
              "        'Quit Smoking Year', '%GG', 'Tumor Location (choice=RUL)',\n",
              "        'Tumor Location (choice=RML)', 'Tumor Location (choice=RLL)',\n",
              "        'Tumor Location (choice=LUL)', 'Tumor Location (choice=LLL)',\n",
              "        'Tumor Location (choice=L Lingula)', 'Tumor Location (choice=Unknown)',\n",
              "        'Histology ', 'Pathological T stage', 'Pathological N stage',\n",
              "        'Pathological M stage', 'Histopathological Grade',\n",
              "        'Lymphovascular invasion',\n",
              "        'Pleural invasion (elastic, visceral, or parietal)',\n",
              "        'EGFR mutation status', 'KRAS mutation status',\n",
              "        'ALK translocation status', 'Adjuvant Treatment', 'Chemotherapy',\n",
              "        'Radiation', 'Recurrence', 'Recurrence Location', 'Date of Recurrence',\n",
              "        'Date of Last Known Alive', 'Survival Status', 'Date of Death',\n",
              "        'Time to Death (days)', 'CT Date', 'Days between CT and surgery',\n",
              "        'PET Date'],\n",
              "       dtype='object'))"
            ]
          },
          "metadata": {},
          "execution_count": 26
        }
      ]
    },
    {
      "cell_type": "code",
      "source": [
        "# Extract the relevant columns: \"Case ID\" and \"Pleural invasion (elastic, visceral, or parietal)\"\n",
        "pleur_data = data[['Case ID', 'Pleural invasion (elastic, visceral, or parietal)']].copy()\n",
        "\n",
        "# Fill missing values with 'N/A'\n",
        "pleur_data['Pleural invasion (elastic, visceral, or parietal)'] = pleur_data['Pleural invasion (elastic, visceral, or parietal)'].fillna('N/A')\n",
        "\n",
        "import random\n",
        "\n",
        "# Generate unique sentences for each case\n",
        "pleursentences = []\n",
        "for _, row in pleur_data.iterrows():\n",
        "    case_id = row['Case ID']\n",
        "    pleur = row['Pleural invasion (elastic, visceral, or parietal)']\n",
        "    sentnum = random.randint(1, 50)\n",
        "\n",
        "    # Generate sentences based on random numbers\n",
        "    if sentnum >= 1 and sentnum <= 5:\n",
        "        phrase = f\"When investigating pleural invasion, the result was {pleur}.\"\n",
        "        pleursentences.append(phrase)\n",
        "    if sentnum >= 6 and sentnum <= 10:\n",
        "        phrase = f\"The investigation for pleural invasion showed a {pleur} result.\"\n",
        "        pleursentences.append(phrase)\n",
        "    if sentnum >= 11 and sentnum <= 15:\n",
        "        phrase = f\"Upon evaluation for pleural invasion, the result was {pleur}.\"\n",
        "        pleursentences.append(phrase)\n",
        "    if sentnum >= 16 and sentnum <= 20:\n",
        "        phrase = f\"Upon assessing pleural invasion, it was determined to be {pleur}.\"\n",
        "        pleursentences.append(phrase)\n",
        "    if sentnum >= 21 and sentnum <= 25:\n",
        "        phrase = f\"The pleural invasion test returned a {pleur} result.\"\n",
        "        pleursentences.append(phrase)\n",
        "    if sentnum >= 26 and sentnum <= 30:\n",
        "        phrase = f\"The pleural invasion test returned a {pleur} result.\"\n",
        "        pleursentences.append(phrase)\n",
        "    if sentnum >= 31 and sentnum <= 35:\n",
        "        phrase = f\"Based on the evaluation for pleural invasion, the result was {pleur}.\"\n",
        "        pleursentences.append(phrase)\n",
        "    if sentnum >= 36 and sentnum <= 40:\n",
        "        phrase = f\"The result for pleural invasion was {pleur} upon review.\"\n",
        "        pleursentences.append(phrase)\n",
        "    if sentnum >= 41 and sentnum <= 45:\n",
        "        phrase = f\"When tested for pleural invasion, it was {pleur}.\"\n",
        "        pleursentences.append(phrase)\n",
        "    if sentnum >= 46 and sentnum <= 50:\n",
        "        phrase = f\"Upon reviewing the pleural invasion assessment, the result was {pleur}.\"\n",
        "        pleursentences.append(phrase)"
      ],
      "metadata": {
        "id": "PiM4_tToe3mX"
      },
      "execution_count": null,
      "outputs": []
    },
    {
      "cell_type": "code",
      "source": [
        "# Save the full list of sentences to a text file\n",
        "output_file_path = '/content/drive/MyDrive/histodiagnosisdata/histological_diagnosis_pleur.txt'\n",
        "with open(output_file_path, 'w') as file:\n",
        "    file.write('\\n'.join(pleursentences))"
      ],
      "metadata": {
        "id": "i7boE8YSe3mX"
      },
      "execution_count": null,
      "outputs": []
    },
    {
      "cell_type": "markdown",
      "source": [
        "# **EGFR Mutation Status**"
      ],
      "metadata": {
        "id": "nn1vt2lWhFMW"
      }
    },
    {
      "cell_type": "code",
      "source": [
        "import pandas as pd\n",
        "\n",
        "# Load the uploaded CSV file to examine its structure and content\n",
        "file_path = '/content/drive/MyDrive/NSCLCR01Radiogenomic_DATA_LABELS_2018-05-22_1500-shifted.csv'\n",
        "data = pd.read_csv(file_path)\n",
        "\n",
        "# Display the first few rows of the dataset to understand its structure\n",
        "data.head(), data.columns"
      ],
      "metadata": {
        "colab": {
          "base_uri": "https://localhost:8080/"
        },
        "outputId": "ed212d37-214b-4ccc-fd61-eaccd021db0f",
        "id": "Qy5E711shJIn"
      },
      "execution_count": null,
      "outputs": [
        {
          "output_type": "execute_result",
          "data": {
            "text/plain": [
              "(   Case ID Patient affiliation  Age at Histological Diagnosis   Weight (lbs)  \\\n",
              " 0  AMC-001            Stanford                             34  Not Collected   \n",
              " 1  AMC-002            Stanford                             33  Not Collected   \n",
              " 2  AMC-003            Stanford                             69  Not Collected   \n",
              " 3  AMC-004            Stanford                             80  Not Collected   \n",
              " 4  AMC-005            Stanford                             76  Not Collected   \n",
              " \n",
              "    Gender                 Ethnicity Smoking status Pack Years  \\\n",
              " 0    Male  Not Recorded In Database      Nonsmoker        NaN   \n",
              " 1  Female  Not Recorded In Database      Nonsmoker        NaN   \n",
              " 2  Female  Not Recorded In Database      Nonsmoker        NaN   \n",
              " 3  Female  Not Recorded In Database      Nonsmoker        NaN   \n",
              " 4    Male  Not Recorded In Database         Former         30   \n",
              " \n",
              "    Quit Smoking Year           %GG  ... Recurrence Recurrence Location  \\\n",
              " 0                NaN  Not Assessed  ...        yes             distant   \n",
              " 1                NaN  Not Assessed  ...         no                 NaN   \n",
              " 2                NaN  Not Assessed  ...         no                 NaN   \n",
              " 3                NaN  Not Assessed  ...         no                 NaN   \n",
              " 4             1962.0  Not Assessed  ...        yes             distant   \n",
              " \n",
              "   Date of Recurrence Date of Last Known Alive Survival Status Date of Death  \\\n",
              " 0          10/7/1994                 1/7/1997            Dead      1/7/1997   \n",
              " 1                NaN                3/20/1992           Alive           NaN   \n",
              " 2                NaN                6/19/1996           Alive           NaN   \n",
              " 3                NaN               12/13/1996           Alive           NaN   \n",
              " 4           1/4/1996                 1/7/1997           Alive           NaN   \n",
              " \n",
              "   Time to Death (days)     CT Date Days between CT and surgery       PET Date  \n",
              " 0                872.0   8/10/1994                           9  Not Collected  \n",
              " 1                  NaN   2/19/1992                           3  Not Collected  \n",
              " 2                  NaN   2/23/1995                          28  Not Collected  \n",
              " 3                  NaN  12/26/1992                          47  Not Collected  \n",
              " 4                  NaN   7/21/1994                           2  Not Collected  \n",
              " \n",
              " [5 rows x 40 columns],\n",
              " Index(['Case ID', 'Patient affiliation', 'Age at Histological Diagnosis',\n",
              "        'Weight (lbs)', 'Gender', 'Ethnicity', 'Smoking status', 'Pack Years',\n",
              "        'Quit Smoking Year', '%GG', 'Tumor Location (choice=RUL)',\n",
              "        'Tumor Location (choice=RML)', 'Tumor Location (choice=RLL)',\n",
              "        'Tumor Location (choice=LUL)', 'Tumor Location (choice=LLL)',\n",
              "        'Tumor Location (choice=L Lingula)', 'Tumor Location (choice=Unknown)',\n",
              "        'Histology ', 'Pathological T stage', 'Pathological N stage',\n",
              "        'Pathological M stage', 'Histopathological Grade',\n",
              "        'Lymphovascular invasion',\n",
              "        'Pleural invasion (elastic, visceral, or parietal)',\n",
              "        'EGFR mutation status', 'KRAS mutation status',\n",
              "        'ALK translocation status', 'Adjuvant Treatment', 'Chemotherapy',\n",
              "        'Radiation', 'Recurrence', 'Recurrence Location', 'Date of Recurrence',\n",
              "        'Date of Last Known Alive', 'Survival Status', 'Date of Death',\n",
              "        'Time to Death (days)', 'CT Date', 'Days between CT and surgery',\n",
              "        'PET Date'],\n",
              "       dtype='object'))"
            ]
          },
          "metadata": {},
          "execution_count": 29
        }
      ]
    },
    {
      "cell_type": "code",
      "source": [
        "# Extract the relevant columns: \"Case ID\" and \"EGFR mutation status\"\n",
        "egfr_data = data[['Case ID', 'EGFR mutation status']].copy()\n",
        "\n",
        "# Fill missing values with 'N/A'\n",
        "egfr_data['EGFR mutation status'] = egfr_data['EGFR mutation status'].fillna('N/A')\n",
        "\n",
        "import random\n",
        "\n",
        "# Generate unique sentences for each case\n",
        "egfrsentences = []\n",
        "for _, row in egfr_data.iterrows():\n",
        "    case_id = row['Case ID']\n",
        "    egfr = row['EGFR mutation status']\n",
        "    sentnum = random.randint(1, 50)\n",
        "\n",
        "    # Generate sentences based on random numbers\n",
        "    if sentnum >= 1 and sentnum <= 5:\n",
        "        phrase = f\"The EGFR mutation status is reported as {egfr}.\"\n",
        "        egfrsentences.append(phrase)\n",
        "    if sentnum >= 6 and sentnum <= 10:\n",
        "        phrase = f\"The status of the EGFR mutation was found to be {egfr}.\"\n",
        "        egfrsentences.append(phrase)\n",
        "    if sentnum >= 11 and sentnum <= 15:\n",
        "        phrase = f\"It was determined that the EGFR mutation status was {egfr}.\"\n",
        "        egfrsentences.append(phrase)\n",
        "    if sentnum >= 16 and sentnum <= 20:\n",
        "        phrase = f\"The EGFR mutation status was confirmed as {egfr}.\"\n",
        "        egfrsentences.append(phrase)\n",
        "    if sentnum >= 21 and sentnum <= 25:\n",
        "        phrase = f\"Upon evaluation, the EGFR mutation status was {egfr}.\"\n",
        "        egfrsentences.append(phrase)\n",
        "    if sentnum >= 26 and sentnum <= 30:\n",
        "        phrase = f\"The EGFR mutation status showed {egfr}.\"\n",
        "        egfrsentences.append(phrase)\n",
        "    if sentnum >= 31 and sentnum <= 35:\n",
        "        phrase = f\"The result for EGFR mutation status was {egfr}.\"\n",
        "        egfrsentences.append(phrase)\n",
        "    if sentnum >= 36 and sentnum <= 40:\n",
        "        phrase = f\"The EGFR mutation status was identified as {egfr}.\"\n",
        "        egfrsentences.append(phrase)\n",
        "    if sentnum >= 41 and sentnum <= 45:\n",
        "        phrase = f\"Based on testing, the EGFR mutation status was {egfr}.\"\n",
        "        egfrsentences.append(phrase)\n",
        "    if sentnum >= 46 and sentnum <= 50:\n",
        "        phrase = f\"The mutation status for EGFR was determined to be {egfr}.\"\n",
        "        egfrsentences.append(phrase)"
      ],
      "metadata": {
        "id": "CY3jNejXhJIo"
      },
      "execution_count": null,
      "outputs": []
    },
    {
      "cell_type": "code",
      "source": [
        "# Save the full list of sentences to a text file\n",
        "output_file_path = '/content/drive/MyDrive/histodiagnosisdata/histological_diagnosis_egfr.txt'\n",
        "with open(output_file_path, 'w') as file:\n",
        "    file.write('\\n'.join(egfrsentences))"
      ],
      "metadata": {
        "id": "syS_Ox74hJIo"
      },
      "execution_count": null,
      "outputs": []
    },
    {
      "cell_type": "markdown",
      "source": [
        "# **KRAS mutation status**"
      ],
      "metadata": {
        "id": "5lwVPIMlibfx"
      }
    },
    {
      "cell_type": "code",
      "source": [
        "import pandas as pd\n",
        "\n",
        "# Load the uploaded CSV file to examine its structure and content\n",
        "file_path = '/content/drive/MyDrive/NSCLCR01Radiogenomic_DATA_LABELS_2018-05-22_1500-shifted.csv'\n",
        "data = pd.read_csv(file_path)\n",
        "\n",
        "# Display the first few rows of the dataset to understand its structure\n",
        "data.head(), data.columns"
      ],
      "metadata": {
        "colab": {
          "base_uri": "https://localhost:8080/"
        },
        "outputId": "aeb1142a-d37d-43eb-a10a-710ecb673452",
        "id": "bgX7w5a2idsP"
      },
      "execution_count": null,
      "outputs": [
        {
          "output_type": "execute_result",
          "data": {
            "text/plain": [
              "(   Case ID Patient affiliation  Age at Histological Diagnosis   Weight (lbs)  \\\n",
              " 0  AMC-001            Stanford                             34  Not Collected   \n",
              " 1  AMC-002            Stanford                             33  Not Collected   \n",
              " 2  AMC-003            Stanford                             69  Not Collected   \n",
              " 3  AMC-004            Stanford                             80  Not Collected   \n",
              " 4  AMC-005            Stanford                             76  Not Collected   \n",
              " \n",
              "    Gender                 Ethnicity Smoking status Pack Years  \\\n",
              " 0    Male  Not Recorded In Database      Nonsmoker        NaN   \n",
              " 1  Female  Not Recorded In Database      Nonsmoker        NaN   \n",
              " 2  Female  Not Recorded In Database      Nonsmoker        NaN   \n",
              " 3  Female  Not Recorded In Database      Nonsmoker        NaN   \n",
              " 4    Male  Not Recorded In Database         Former         30   \n",
              " \n",
              "    Quit Smoking Year           %GG  ... Recurrence Recurrence Location  \\\n",
              " 0                NaN  Not Assessed  ...        yes             distant   \n",
              " 1                NaN  Not Assessed  ...         no                 NaN   \n",
              " 2                NaN  Not Assessed  ...         no                 NaN   \n",
              " 3                NaN  Not Assessed  ...         no                 NaN   \n",
              " 4             1962.0  Not Assessed  ...        yes             distant   \n",
              " \n",
              "   Date of Recurrence Date of Last Known Alive Survival Status Date of Death  \\\n",
              " 0          10/7/1994                 1/7/1997            Dead      1/7/1997   \n",
              " 1                NaN                3/20/1992           Alive           NaN   \n",
              " 2                NaN                6/19/1996           Alive           NaN   \n",
              " 3                NaN               12/13/1996           Alive           NaN   \n",
              " 4           1/4/1996                 1/7/1997           Alive           NaN   \n",
              " \n",
              "   Time to Death (days)     CT Date Days between CT and surgery       PET Date  \n",
              " 0                872.0   8/10/1994                           9  Not Collected  \n",
              " 1                  NaN   2/19/1992                           3  Not Collected  \n",
              " 2                  NaN   2/23/1995                          28  Not Collected  \n",
              " 3                  NaN  12/26/1992                          47  Not Collected  \n",
              " 4                  NaN   7/21/1994                           2  Not Collected  \n",
              " \n",
              " [5 rows x 40 columns],\n",
              " Index(['Case ID', 'Patient affiliation', 'Age at Histological Diagnosis',\n",
              "        'Weight (lbs)', 'Gender', 'Ethnicity', 'Smoking status', 'Pack Years',\n",
              "        'Quit Smoking Year', '%GG', 'Tumor Location (choice=RUL)',\n",
              "        'Tumor Location (choice=RML)', 'Tumor Location (choice=RLL)',\n",
              "        'Tumor Location (choice=LUL)', 'Tumor Location (choice=LLL)',\n",
              "        'Tumor Location (choice=L Lingula)', 'Tumor Location (choice=Unknown)',\n",
              "        'Histology ', 'Pathological T stage', 'Pathological N stage',\n",
              "        'Pathological M stage', 'Histopathological Grade',\n",
              "        'Lymphovascular invasion',\n",
              "        'Pleural invasion (elastic, visceral, or parietal)',\n",
              "        'EGFR mutation status', 'KRAS mutation status',\n",
              "        'ALK translocation status', 'Adjuvant Treatment', 'Chemotherapy',\n",
              "        'Radiation', 'Recurrence', 'Recurrence Location', 'Date of Recurrence',\n",
              "        'Date of Last Known Alive', 'Survival Status', 'Date of Death',\n",
              "        'Time to Death (days)', 'CT Date', 'Days between CT and surgery',\n",
              "        'PET Date'],\n",
              "       dtype='object'))"
            ]
          },
          "metadata": {},
          "execution_count": 32
        }
      ]
    },
    {
      "cell_type": "code",
      "source": [
        "# Extract the relevant columns: \"Case ID\" and \"KRAS mutation status\"\n",
        "kras_data = data[['Case ID', 'KRAS mutation status']].copy()\n",
        "\n",
        "# Fill missing values with 'N/A'\n",
        "kras_data['KRAS mutation status'] = kras_data['KRAS mutation status'].fillna('N/A')\n",
        "\n",
        "import random\n",
        "\n",
        "# Generate unique sentences for each case\n",
        "kras_sentences = []\n",
        "for _, row in kras_data.iterrows():\n",
        "    case_id = row['Case ID']\n",
        "    kras = row['KRAS mutation status']\n",
        "    sentnum = random.randint(1, 50)\n",
        "\n",
        "    # Generate sentences based on random numbers\n",
        "    if sentnum >= 1 and sentnum <= 5:\n",
        "        phrase = f\"The KRAS mutation status is reported as {kras}.\"\n",
        "        kras_sentences.append(phrase)\n",
        "    if sentnum >= 6 and sentnum <= 10:\n",
        "        phrase = f\"The status of the KRAS mutation was found to be {kras}.\"\n",
        "        kras_sentences.append(phrase)\n",
        "    if sentnum >= 11 and sentnum <= 15:\n",
        "        phrase = f\"It was determined that the KRAS mutation status was {kras}.\"\n",
        "        kras_sentences.append(phrase)\n",
        "    if sentnum >= 16 and sentnum <= 20:\n",
        "        phrase = f\"The KRAS mutation status was confirmed as {kras}.\"\n",
        "        kras_sentences.append(phrase)\n",
        "    if sentnum >= 21 and sentnum <= 25:\n",
        "        phrase = f\"Upon evaluation, the KRAS mutation status was {kras}.\"\n",
        "        kras_sentences.append(phrase)\n",
        "    if sentnum >= 26 and sentnum <= 30:\n",
        "        phrase = f\"The KRAS mutation status showed {kras}.\"\n",
        "        kras_sentences.append(phrase)\n",
        "    if sentnum >= 31 and sentnum <= 35:\n",
        "        phrase = f\"The result for KRAS mutation status was {kras}.\"\n",
        "        kras_sentences.append(phrase)\n",
        "    if sentnum >= 36 and sentnum <= 40:\n",
        "        phrase = f\"The KRAS mutation status was identified as {kras}.\"\n",
        "        kras_sentences.append(phrase)\n",
        "    if sentnum >= 41 and sentnum <= 45:\n",
        "        phrase = f\"Based on testing, the KRAS mutation status was {kras}.\"\n",
        "        kras_sentences.append(phrase)\n",
        "    if sentnum >= 46 and sentnum <= 50:\n",
        "        phrase = f\"The mutation status for KRAS was determined to be {kras}.\"\n",
        "        kras_sentences.append(phrase)"
      ],
      "metadata": {
        "id": "WAfqQu79idsQ"
      },
      "execution_count": null,
      "outputs": []
    },
    {
      "cell_type": "code",
      "source": [
        "# Save the full list of sentences to a text file\n",
        "output_file_path = '/content/drive/MyDrive/histodiagnosisdata/histological_diagnosis_kras.txt'\n",
        "with open(output_file_path, 'w') as file:\n",
        "    file.write('\\n'.join(kras_sentences))"
      ],
      "metadata": {
        "id": "3-nt6QtOidsR"
      },
      "execution_count": null,
      "outputs": []
    },
    {
      "cell_type": "markdown",
      "source": [
        "# **ALK translocation status**"
      ],
      "metadata": {
        "id": "AYlOph-8jTDX"
      }
    },
    {
      "cell_type": "code",
      "source": [
        "import pandas as pd\n",
        "\n",
        "# Load the uploaded CSV file to examine its structure and content\n",
        "file_path = '/content/drive/MyDrive/NSCLCR01Radiogenomic_DATA_LABELS_2018-05-22_1500-shifted.csv'\n",
        "data = pd.read_csv(file_path)\n",
        "\n",
        "# Display the first few rows of the dataset to understand its structure\n",
        "data.head(), data.columns"
      ],
      "metadata": {
        "colab": {
          "base_uri": "https://localhost:8080/"
        },
        "outputId": "7b1fe6d9-2a39-4b47-93ad-0df25d1d41b7",
        "id": "cPifxOCEjWu7"
      },
      "execution_count": null,
      "outputs": [
        {
          "output_type": "execute_result",
          "data": {
            "text/plain": [
              "(   Case ID Patient affiliation  Age at Histological Diagnosis   Weight (lbs)  \\\n",
              " 0  AMC-001            Stanford                             34  Not Collected   \n",
              " 1  AMC-002            Stanford                             33  Not Collected   \n",
              " 2  AMC-003            Stanford                             69  Not Collected   \n",
              " 3  AMC-004            Stanford                             80  Not Collected   \n",
              " 4  AMC-005            Stanford                             76  Not Collected   \n",
              " \n",
              "    Gender                 Ethnicity Smoking status Pack Years  \\\n",
              " 0    Male  Not Recorded In Database      Nonsmoker        NaN   \n",
              " 1  Female  Not Recorded In Database      Nonsmoker        NaN   \n",
              " 2  Female  Not Recorded In Database      Nonsmoker        NaN   \n",
              " 3  Female  Not Recorded In Database      Nonsmoker        NaN   \n",
              " 4    Male  Not Recorded In Database         Former         30   \n",
              " \n",
              "    Quit Smoking Year           %GG  ... Recurrence Recurrence Location  \\\n",
              " 0                NaN  Not Assessed  ...        yes             distant   \n",
              " 1                NaN  Not Assessed  ...         no                 NaN   \n",
              " 2                NaN  Not Assessed  ...         no                 NaN   \n",
              " 3                NaN  Not Assessed  ...         no                 NaN   \n",
              " 4             1962.0  Not Assessed  ...        yes             distant   \n",
              " \n",
              "   Date of Recurrence Date of Last Known Alive Survival Status Date of Death  \\\n",
              " 0          10/7/1994                 1/7/1997            Dead      1/7/1997   \n",
              " 1                NaN                3/20/1992           Alive           NaN   \n",
              " 2                NaN                6/19/1996           Alive           NaN   \n",
              " 3                NaN               12/13/1996           Alive           NaN   \n",
              " 4           1/4/1996                 1/7/1997           Alive           NaN   \n",
              " \n",
              "   Time to Death (days)     CT Date Days between CT and surgery       PET Date  \n",
              " 0                872.0   8/10/1994                           9  Not Collected  \n",
              " 1                  NaN   2/19/1992                           3  Not Collected  \n",
              " 2                  NaN   2/23/1995                          28  Not Collected  \n",
              " 3                  NaN  12/26/1992                          47  Not Collected  \n",
              " 4                  NaN   7/21/1994                           2  Not Collected  \n",
              " \n",
              " [5 rows x 40 columns],\n",
              " Index(['Case ID', 'Patient affiliation', 'Age at Histological Diagnosis',\n",
              "        'Weight (lbs)', 'Gender', 'Ethnicity', 'Smoking status', 'Pack Years',\n",
              "        'Quit Smoking Year', '%GG', 'Tumor Location (choice=RUL)',\n",
              "        'Tumor Location (choice=RML)', 'Tumor Location (choice=RLL)',\n",
              "        'Tumor Location (choice=LUL)', 'Tumor Location (choice=LLL)',\n",
              "        'Tumor Location (choice=L Lingula)', 'Tumor Location (choice=Unknown)',\n",
              "        'Histology ', 'Pathological T stage', 'Pathological N stage',\n",
              "        'Pathological M stage', 'Histopathological Grade',\n",
              "        'Lymphovascular invasion',\n",
              "        'Pleural invasion (elastic, visceral, or parietal)',\n",
              "        'EGFR mutation status', 'KRAS mutation status',\n",
              "        'ALK translocation status', 'Adjuvant Treatment', 'Chemotherapy',\n",
              "        'Radiation', 'Recurrence', 'Recurrence Location', 'Date of Recurrence',\n",
              "        'Date of Last Known Alive', 'Survival Status', 'Date of Death',\n",
              "        'Time to Death (days)', 'CT Date', 'Days between CT and surgery',\n",
              "        'PET Date'],\n",
              "       dtype='object'))"
            ]
          },
          "metadata": {},
          "execution_count": 36
        }
      ]
    },
    {
      "cell_type": "code",
      "source": [
        "# Extract the relevant columns: \"Case ID\" and \"ALK translocation status\"\n",
        "alk_data = data[['Case ID', 'ALK translocation status']].copy()\n",
        "\n",
        "# Fill missing values with 'N/A'\n",
        "alk_data['ALK translocation status'] = alk_data['ALK translocation status'].fillna('N/A')\n",
        "\n",
        "import random\n",
        "\n",
        "# Generate unique sentences for each case\n",
        "alk_sentences = []\n",
        "for _, row in alk_data.iterrows():\n",
        "    case_id = row['Case ID']\n",
        "    alk = row['ALK translocation status']\n",
        "    sentnum = random.randint(1, 50)\n",
        "\n",
        "    # Generate sentences based on random numbers\n",
        "    if sentnum >= 1 and sentnum <= 5:\n",
        "        phrase = f\"The ALK translocation status is reported as {alk}.\"\n",
        "        alk_sentences.append(phrase)\n",
        "    if sentnum >= 6 and sentnum <= 10:\n",
        "        phrase = f\"The status of the ALK translocation was found to be {alk}.\"\n",
        "        alk_sentences.append(phrase)\n",
        "    if sentnum >= 11 and sentnum <= 15:\n",
        "        phrase = f\"It was determined that the ALK translocation status was {alk}.\"\n",
        "        alk_sentences.append(phrase)\n",
        "    if sentnum >= 16 and sentnum <= 20:\n",
        "        phrase = f\"The ALK translocation status was confirmed as {alk}.\"\n",
        "        alk_sentences.append(phrase)\n",
        "    if sentnum >= 21 and sentnum <= 25:\n",
        "        phrase = f\"Upon evaluation, the ALK translocation status was {alk}.\"\n",
        "        alk_sentences.append(phrase)\n",
        "    if sentnum >= 26 and sentnum <= 30:\n",
        "        phrase = f\"The ALK translocation status showed {alk}.\"\n",
        "        alk_sentences.append(phrase)\n",
        "    if sentnum >= 31 and sentnum <= 35:\n",
        "        phrase = f\"The result for ALK translocation status was {alk}.\"\n",
        "        alk_sentences.append(phrase)\n",
        "    if sentnum >= 36 and sentnum <= 40:\n",
        "        phrase = f\"The ALK translocation status was identified as {alk}.\"\n",
        "        alk_sentences.append(phrase)\n",
        "    if sentnum >= 41 and sentnum <= 45:\n",
        "        phrase = f\"Based on testing, the ALK translocation status was {alk}.\"\n",
        "        alk_sentences.append(phrase)\n",
        "    if sentnum >= 46 and sentnum <= 50:\n",
        "        phrase = f\"The translocation status for ALK was determined to be {alk}.\"\n",
        "        alk_sentences.append(phrase)"
      ],
      "metadata": {
        "id": "FfhE7yXsjWu8"
      },
      "execution_count": null,
      "outputs": []
    },
    {
      "cell_type": "code",
      "source": [
        "# Save the full list of sentences to a text file\n",
        "output_file_path = '/content/drive/MyDrive/histodiagnosisdata/histological_diagnosis_alk.txt'\n",
        "with open(output_file_path, 'w') as file:\n",
        "    file.write('\\n'.join(alk_sentences))"
      ],
      "metadata": {
        "id": "6NVyKwCXjWu8"
      },
      "execution_count": null,
      "outputs": []
    },
    {
      "cell_type": "markdown",
      "source": [
        "# **Adjuvant Treatment**"
      ],
      "metadata": {
        "id": "zgDwfKiAkUBI"
      }
    },
    {
      "cell_type": "code",
      "source": [
        "import pandas as pd\n",
        "\n",
        "# Load the uploaded CSV file to examine its structure and content\n",
        "file_path = '/content/drive/MyDrive/NSCLCR01Radiogenomic_DATA_LABELS_2018-05-22_1500-shifted.csv'\n",
        "data = pd.read_csv(file_path)\n",
        "\n",
        "# Display the first few rows of the dataset to understand its structure\n",
        "data.head(), data.columns"
      ],
      "metadata": {
        "colab": {
          "base_uri": "https://localhost:8080/"
        },
        "outputId": "60d29f5d-3de5-4ae8-fae3-b4cf89a4bd86",
        "id": "Fp_8aiDVkVxI"
      },
      "execution_count": null,
      "outputs": [
        {
          "output_type": "execute_result",
          "data": {
            "text/plain": [
              "(   Case ID Patient affiliation  Age at Histological Diagnosis   Weight (lbs)  \\\n",
              " 0  AMC-001            Stanford                             34  Not Collected   \n",
              " 1  AMC-002            Stanford                             33  Not Collected   \n",
              " 2  AMC-003            Stanford                             69  Not Collected   \n",
              " 3  AMC-004            Stanford                             80  Not Collected   \n",
              " 4  AMC-005            Stanford                             76  Not Collected   \n",
              " \n",
              "    Gender                 Ethnicity Smoking status Pack Years  \\\n",
              " 0    Male  Not Recorded In Database      Nonsmoker        NaN   \n",
              " 1  Female  Not Recorded In Database      Nonsmoker        NaN   \n",
              " 2  Female  Not Recorded In Database      Nonsmoker        NaN   \n",
              " 3  Female  Not Recorded In Database      Nonsmoker        NaN   \n",
              " 4    Male  Not Recorded In Database         Former         30   \n",
              " \n",
              "    Quit Smoking Year           %GG  ... Recurrence Recurrence Location  \\\n",
              " 0                NaN  Not Assessed  ...        yes             distant   \n",
              " 1                NaN  Not Assessed  ...         no                 NaN   \n",
              " 2                NaN  Not Assessed  ...         no                 NaN   \n",
              " 3                NaN  Not Assessed  ...         no                 NaN   \n",
              " 4             1962.0  Not Assessed  ...        yes             distant   \n",
              " \n",
              "   Date of Recurrence Date of Last Known Alive Survival Status Date of Death  \\\n",
              " 0          10/7/1994                 1/7/1997            Dead      1/7/1997   \n",
              " 1                NaN                3/20/1992           Alive           NaN   \n",
              " 2                NaN                6/19/1996           Alive           NaN   \n",
              " 3                NaN               12/13/1996           Alive           NaN   \n",
              " 4           1/4/1996                 1/7/1997           Alive           NaN   \n",
              " \n",
              "   Time to Death (days)     CT Date Days between CT and surgery       PET Date  \n",
              " 0                872.0   8/10/1994                           9  Not Collected  \n",
              " 1                  NaN   2/19/1992                           3  Not Collected  \n",
              " 2                  NaN   2/23/1995                          28  Not Collected  \n",
              " 3                  NaN  12/26/1992                          47  Not Collected  \n",
              " 4                  NaN   7/21/1994                           2  Not Collected  \n",
              " \n",
              " [5 rows x 40 columns],\n",
              " Index(['Case ID', 'Patient affiliation', 'Age at Histological Diagnosis',\n",
              "        'Weight (lbs)', 'Gender', 'Ethnicity', 'Smoking status', 'Pack Years',\n",
              "        'Quit Smoking Year', '%GG', 'Tumor Location (choice=RUL)',\n",
              "        'Tumor Location (choice=RML)', 'Tumor Location (choice=RLL)',\n",
              "        'Tumor Location (choice=LUL)', 'Tumor Location (choice=LLL)',\n",
              "        'Tumor Location (choice=L Lingula)', 'Tumor Location (choice=Unknown)',\n",
              "        'Histology ', 'Pathological T stage', 'Pathological N stage',\n",
              "        'Pathological M stage', 'Histopathological Grade',\n",
              "        'Lymphovascular invasion',\n",
              "        'Pleural invasion (elastic, visceral, or parietal)',\n",
              "        'EGFR mutation status', 'KRAS mutation status',\n",
              "        'ALK translocation status', 'Adjuvant Treatment', 'Chemotherapy',\n",
              "        'Radiation', 'Recurrence', 'Recurrence Location', 'Date of Recurrence',\n",
              "        'Date of Last Known Alive', 'Survival Status', 'Date of Death',\n",
              "        'Time to Death (days)', 'CT Date', 'Days between CT and surgery',\n",
              "        'PET Date'],\n",
              "       dtype='object'))"
            ]
          },
          "metadata": {},
          "execution_count": 39
        }
      ]
    },
    {
      "cell_type": "code",
      "source": [
        "# Extract the relevant columns: \"Case ID\" and \"Adjuvant Treatment\"\n",
        "adj_data = data[['Case ID', 'Adjuvant Treatment']].copy()\n",
        "\n",
        "# Fill missing values with 'N/A'\n",
        "adj_data['Adjuvant Treatment'] = adj_data['Adjuvant Treatment'].fillna('N/A')\n",
        "\n",
        "import random\n",
        "\n",
        "# Generate unique sentences for each case\n",
        "adj_sentences = []\n",
        "for _, row in adj_data.iterrows():\n",
        "    case_id = row['Case ID']\n",
        "    adj = row['Adjuvant Treatment']\n",
        "    sentnum = random.randint(1, 50)\n",
        "\n",
        "    # Generate sentences based on random numbers\n",
        "    if sentnum >= 1 and sentnum <= 5:\n",
        "        phrase = f\"The adjuvant treatment status was {adj}.\"\n",
        "        adj_sentences.append(phrase)\n",
        "    if sentnum >= 6 and sentnum <= 10:\n",
        "        phrase = f\"It was determined that the adjuvant treatment status was {adj}.\"\n",
        "        adj_sentences.append(phrase)\n",
        "    if sentnum >= 11 and sentnum <= 15:\n",
        "        phrase = f\"The status regarding adjuvant treatment was {adj}.\"\n",
        "        adj_sentences.append(phrase)\n",
        "    if sentnum >= 16 and sentnum <= 20:\n",
        "        phrase = f\"The adjuvant treatment was reported as {adj}.\"\n",
        "        adj_sentences.append(phrase)\n",
        "    if sentnum >= 21 and sentnum <= 25:\n",
        "        phrase = f\"The status of adjuvant treatment was {adj}.\"\n",
        "        adj_sentences.append(phrase)\n",
        "    if sentnum >= 26 and sentnum <= 30:\n",
        "        phrase = f\"The status of adjuvant treatment was found to be {adj}.\"\n",
        "        adj_sentences.append(phrase)\n",
        "    if sentnum >= 31 and sentnum <= 35:\n",
        "        phrase = f\"It was confirmed that the adjuvant treatment status was {adj}.\"\n",
        "        adj_sentences.append(phrase)\n",
        "    if sentnum >= 36 and sentnum <= 40:\n",
        "        phrase = f\"The result of the adjuvant treatment assessment was {adj}.\"\n",
        "        adj_sentences.append(phrase)\n",
        "    if sentnum >= 41 and sentnum <= 45:\n",
        "        phrase = f\"The adjuvant treatment evaluation indicated a status of {adj}.\"\n",
        "        adj_sentences.append(phrase)\n",
        "    if sentnum >= 46 and sentnum <= 50:\n",
        "        phrase = f\"The adjuvant treatment status was assessed and found to be {adj}.\"\n",
        "        adj_sentences.append(phrase)"
      ],
      "metadata": {
        "id": "n62D3rbokVxI"
      },
      "execution_count": null,
      "outputs": []
    },
    {
      "cell_type": "code",
      "source": [
        "# Save the full list of sentences to a text file\n",
        "output_file_path = '/content/drive/MyDrive/histodiagnosisdata/histological_diagnosis_adj.txt'\n",
        "with open(output_file_path, 'w') as file:\n",
        "    file.write('\\n'.join(adj_sentences))"
      ],
      "metadata": {
        "id": "37l4qNZGkVxJ"
      },
      "execution_count": null,
      "outputs": []
    },
    {
      "cell_type": "markdown",
      "source": [
        "# **Chemotherapy**"
      ],
      "metadata": {
        "id": "so8QU8QjlhZJ"
      }
    },
    {
      "cell_type": "code",
      "source": [
        "import pandas as pd\n",
        "\n",
        "# Load the uploaded CSV file to examine its structure and content\n",
        "file_path = '/content/drive/MyDrive/NSCLCR01Radiogenomic_DATA_LABELS_2018-05-22_1500-shifted.csv'\n",
        "data = pd.read_csv(file_path)\n",
        "\n",
        "# Display the first few rows of the dataset to understand its structure\n",
        "data.head(), data.columns"
      ],
      "metadata": {
        "colab": {
          "base_uri": "https://localhost:8080/"
        },
        "outputId": "37674117-ed9f-4d08-bd02-3e17fa40bd29",
        "id": "t20XgxyDljTs"
      },
      "execution_count": null,
      "outputs": [
        {
          "output_type": "execute_result",
          "data": {
            "text/plain": [
              "(   Case ID Patient affiliation  Age at Histological Diagnosis   Weight (lbs)  \\\n",
              " 0  AMC-001            Stanford                             34  Not Collected   \n",
              " 1  AMC-002            Stanford                             33  Not Collected   \n",
              " 2  AMC-003            Stanford                             69  Not Collected   \n",
              " 3  AMC-004            Stanford                             80  Not Collected   \n",
              " 4  AMC-005            Stanford                             76  Not Collected   \n",
              " \n",
              "    Gender                 Ethnicity Smoking status Pack Years  \\\n",
              " 0    Male  Not Recorded In Database      Nonsmoker        NaN   \n",
              " 1  Female  Not Recorded In Database      Nonsmoker        NaN   \n",
              " 2  Female  Not Recorded In Database      Nonsmoker        NaN   \n",
              " 3  Female  Not Recorded In Database      Nonsmoker        NaN   \n",
              " 4    Male  Not Recorded In Database         Former         30   \n",
              " \n",
              "    Quit Smoking Year           %GG  ... Recurrence Recurrence Location  \\\n",
              " 0                NaN  Not Assessed  ...        yes             distant   \n",
              " 1                NaN  Not Assessed  ...         no                 NaN   \n",
              " 2                NaN  Not Assessed  ...         no                 NaN   \n",
              " 3                NaN  Not Assessed  ...         no                 NaN   \n",
              " 4             1962.0  Not Assessed  ...        yes             distant   \n",
              " \n",
              "   Date of Recurrence Date of Last Known Alive Survival Status Date of Death  \\\n",
              " 0          10/7/1994                 1/7/1997            Dead      1/7/1997   \n",
              " 1                NaN                3/20/1992           Alive           NaN   \n",
              " 2                NaN                6/19/1996           Alive           NaN   \n",
              " 3                NaN               12/13/1996           Alive           NaN   \n",
              " 4           1/4/1996                 1/7/1997           Alive           NaN   \n",
              " \n",
              "   Time to Death (days)     CT Date Days between CT and surgery       PET Date  \n",
              " 0                872.0   8/10/1994                           9  Not Collected  \n",
              " 1                  NaN   2/19/1992                           3  Not Collected  \n",
              " 2                  NaN   2/23/1995                          28  Not Collected  \n",
              " 3                  NaN  12/26/1992                          47  Not Collected  \n",
              " 4                  NaN   7/21/1994                           2  Not Collected  \n",
              " \n",
              " [5 rows x 40 columns],\n",
              " Index(['Case ID', 'Patient affiliation', 'Age at Histological Diagnosis',\n",
              "        'Weight (lbs)', 'Gender', 'Ethnicity', 'Smoking status', 'Pack Years',\n",
              "        'Quit Smoking Year', '%GG', 'Tumor Location (choice=RUL)',\n",
              "        'Tumor Location (choice=RML)', 'Tumor Location (choice=RLL)',\n",
              "        'Tumor Location (choice=LUL)', 'Tumor Location (choice=LLL)',\n",
              "        'Tumor Location (choice=L Lingula)', 'Tumor Location (choice=Unknown)',\n",
              "        'Histology ', 'Pathological T stage', 'Pathological N stage',\n",
              "        'Pathological M stage', 'Histopathological Grade',\n",
              "        'Lymphovascular invasion',\n",
              "        'Pleural invasion (elastic, visceral, or parietal)',\n",
              "        'EGFR mutation status', 'KRAS mutation status',\n",
              "        'ALK translocation status', 'Adjuvant Treatment', 'Chemotherapy',\n",
              "        'Radiation', 'Recurrence', 'Recurrence Location', 'Date of Recurrence',\n",
              "        'Date of Last Known Alive', 'Survival Status', 'Date of Death',\n",
              "        'Time to Death (days)', 'CT Date', 'Days between CT and surgery',\n",
              "        'PET Date'],\n",
              "       dtype='object'))"
            ]
          },
          "metadata": {},
          "execution_count": 42
        }
      ]
    },
    {
      "cell_type": "code",
      "source": [
        "# Extract the relevant columns: \"Case ID\" and \"Chemotherapy\"\n",
        "chemo_data = data[['Case ID', 'Chemotherapy']].copy()\n",
        "\n",
        "# Fill missing values with 'N/A'\n",
        "chemo_data['Chemotherapy'] = chemo_data['Chemotherapy'].fillna('N/A')\n",
        "\n",
        "import random\n",
        "\n",
        "# Generate unique sentences for each case\n",
        "chemo_sentences = []\n",
        "for _, row in chemo_data.iterrows():\n",
        "    case_id = row['Case ID']\n",
        "    chemo = row['Chemotherapy']\n",
        "    sentnum = random.randint(1, 50)\n",
        "\n",
        "    # Generate sentences based on random numbers\n",
        "    if sentnum >= 1 and sentnum <= 5:\n",
        "        phrase = f\"The chemotherapy status was {chemo}.\"\n",
        "        chemo_sentences.append(phrase)\n",
        "    if sentnum >= 6 and sentnum <= 10:\n",
        "        phrase = f\"It was determined that the chemotherapy status was {chemo}.\"\n",
        "        chemo_sentences.append(phrase)\n",
        "    if sentnum >= 11 and sentnum <= 15:\n",
        "        phrase = f\"The status regarding chemotherapy was {chemo}.\"\n",
        "        chemo_sentences.append(phrase)\n",
        "    if sentnum >= 16 and sentnum <= 20:\n",
        "        phrase = f\"The chemotherapy was reported as {chemo}.\"\n",
        "        chemo_sentences.append(phrase)\n",
        "    if sentnum >= 21 and sentnum <= 25:\n",
        "        phrase = f\"The status of chemotherapy was {chemo}.\"\n",
        "        chemo_sentences.append(phrase)\n",
        "    if sentnum >= 26 and sentnum <= 30:\n",
        "        phrase = f\"The status of chemotherapy was found to be {chemo}.\"\n",
        "        chemo_sentences.append(phrase)\n",
        "    if sentnum >= 31 and sentnum <= 35:\n",
        "        phrase = f\"It was confirmed that the chemotherapy status was {chemo}.\"\n",
        "        chemo_sentences.append(phrase)\n",
        "    if sentnum >= 36 and sentnum <= 40:\n",
        "        phrase = f\"The result of the chemotherapy assessment was {chemo}.\"\n",
        "        chemo_sentences.append(phrase)\n",
        "    if sentnum >= 41 and sentnum <= 45:\n",
        "        phrase = f\"The chemotherapy evaluation indicated a status of {chemo}.\"\n",
        "        chemo_sentences.append(phrase)\n",
        "    if sentnum >= 46 and sentnum <= 50:\n",
        "        phrase = f\"The chemotherapy status was assessed and found to be {chemo}.\"\n",
        "        chemo_sentences.append(phrase)"
      ],
      "metadata": {
        "id": "i4kLiWsqljTt"
      },
      "execution_count": null,
      "outputs": []
    },
    {
      "cell_type": "code",
      "source": [
        "# Save the full list of sentences to a text file\n",
        "output_file_path = '/content/drive/MyDrive/histodiagnosisdata/histological_diagnosis_chemo.txt'\n",
        "with open(output_file_path, 'w') as file:\n",
        "    file.write('\\n'.join(chemo_sentences))"
      ],
      "metadata": {
        "id": "5Ve2VuaMljTt"
      },
      "execution_count": null,
      "outputs": []
    },
    {
      "cell_type": "markdown",
      "source": [
        "# **Radiation**"
      ],
      "metadata": {
        "id": "hs_VwHDYmbxS"
      }
    },
    {
      "cell_type": "code",
      "source": [
        "import pandas as pd\n",
        "\n",
        "# Load the uploaded CSV file to examine its structure and content\n",
        "file_path = '/content/drive/MyDrive/NSCLCR01Radiogenomic_DATA_LABELS_2018-05-22_1500-shifted.csv'\n",
        "data = pd.read_csv(file_path)\n",
        "\n",
        "# Display the first few rows of the dataset to understand its structure\n",
        "data.head(), data.columns"
      ],
      "metadata": {
        "colab": {
          "base_uri": "https://localhost:8080/"
        },
        "outputId": "ff566218-6456-431c-905e-d33a6ec962ad",
        "id": "xhNXxJKdmd9t"
      },
      "execution_count": null,
      "outputs": [
        {
          "output_type": "execute_result",
          "data": {
            "text/plain": [
              "(   Case ID Patient affiliation  Age at Histological Diagnosis   Weight (lbs)  \\\n",
              " 0  AMC-001            Stanford                             34  Not Collected   \n",
              " 1  AMC-002            Stanford                             33  Not Collected   \n",
              " 2  AMC-003            Stanford                             69  Not Collected   \n",
              " 3  AMC-004            Stanford                             80  Not Collected   \n",
              " 4  AMC-005            Stanford                             76  Not Collected   \n",
              " \n",
              "    Gender                 Ethnicity Smoking status Pack Years  \\\n",
              " 0    Male  Not Recorded In Database      Nonsmoker        NaN   \n",
              " 1  Female  Not Recorded In Database      Nonsmoker        NaN   \n",
              " 2  Female  Not Recorded In Database      Nonsmoker        NaN   \n",
              " 3  Female  Not Recorded In Database      Nonsmoker        NaN   \n",
              " 4    Male  Not Recorded In Database         Former         30   \n",
              " \n",
              "    Quit Smoking Year           %GG  ... Recurrence Recurrence Location  \\\n",
              " 0                NaN  Not Assessed  ...        yes             distant   \n",
              " 1                NaN  Not Assessed  ...         no                 NaN   \n",
              " 2                NaN  Not Assessed  ...         no                 NaN   \n",
              " 3                NaN  Not Assessed  ...         no                 NaN   \n",
              " 4             1962.0  Not Assessed  ...        yes             distant   \n",
              " \n",
              "   Date of Recurrence Date of Last Known Alive Survival Status Date of Death  \\\n",
              " 0          10/7/1994                 1/7/1997            Dead      1/7/1997   \n",
              " 1                NaN                3/20/1992           Alive           NaN   \n",
              " 2                NaN                6/19/1996           Alive           NaN   \n",
              " 3                NaN               12/13/1996           Alive           NaN   \n",
              " 4           1/4/1996                 1/7/1997           Alive           NaN   \n",
              " \n",
              "   Time to Death (days)     CT Date Days between CT and surgery       PET Date  \n",
              " 0                872.0   8/10/1994                           9  Not Collected  \n",
              " 1                  NaN   2/19/1992                           3  Not Collected  \n",
              " 2                  NaN   2/23/1995                          28  Not Collected  \n",
              " 3                  NaN  12/26/1992                          47  Not Collected  \n",
              " 4                  NaN   7/21/1994                           2  Not Collected  \n",
              " \n",
              " [5 rows x 40 columns],\n",
              " Index(['Case ID', 'Patient affiliation', 'Age at Histological Diagnosis',\n",
              "        'Weight (lbs)', 'Gender', 'Ethnicity', 'Smoking status', 'Pack Years',\n",
              "        'Quit Smoking Year', '%GG', 'Tumor Location (choice=RUL)',\n",
              "        'Tumor Location (choice=RML)', 'Tumor Location (choice=RLL)',\n",
              "        'Tumor Location (choice=LUL)', 'Tumor Location (choice=LLL)',\n",
              "        'Tumor Location (choice=L Lingula)', 'Tumor Location (choice=Unknown)',\n",
              "        'Histology ', 'Pathological T stage', 'Pathological N stage',\n",
              "        'Pathological M stage', 'Histopathological Grade',\n",
              "        'Lymphovascular invasion',\n",
              "        'Pleural invasion (elastic, visceral, or parietal)',\n",
              "        'EGFR mutation status', 'KRAS mutation status',\n",
              "        'ALK translocation status', 'Adjuvant Treatment', 'Chemotherapy',\n",
              "        'Radiation', 'Recurrence', 'Recurrence Location', 'Date of Recurrence',\n",
              "        'Date of Last Known Alive', 'Survival Status', 'Date of Death',\n",
              "        'Time to Death (days)', 'CT Date', 'Days between CT and surgery',\n",
              "        'PET Date'],\n",
              "       dtype='object'))"
            ]
          },
          "metadata": {},
          "execution_count": 45
        }
      ]
    },
    {
      "cell_type": "code",
      "source": [
        "# Extract the relevant columns: \"Case ID\" and \"Radiation\"\n",
        "rad_data = data[['Case ID', 'Radiation']].copy()\n",
        "\n",
        "# Fill missing values with 'N/A'\n",
        "rad_data['Radiation'] = rad_data['Radiation'].fillna('N/A')\n",
        "\n",
        "import random\n",
        "\n",
        "# Generate unique sentences for each case\n",
        "rad_sentences = []\n",
        "for _, row in rad_data.iterrows():\n",
        "    case_id = row['Case ID']\n",
        "    rad = row['Radiation']\n",
        "    sentnum = random.randint(1, 50)\n",
        "\n",
        "    # Generate sentences based on random numbers\n",
        "    if sentnum >= 1 and sentnum <= 5:\n",
        "        phrase = f\"The radiation status was {rad}.\"\n",
        "        rad_sentences.append(phrase)\n",
        "    if sentnum >= 6 and sentnum <= 10:\n",
        "        phrase = f\"It was determined that the radiation status was {rad}.\"\n",
        "        rad_sentences.append(phrase)\n",
        "    if sentnum >= 11 and sentnum <= 15:\n",
        "        phrase = f\"The status regarding radiation was {rad}.\"\n",
        "        rad_sentences.append(phrase)\n",
        "    if sentnum >= 16 and sentnum <= 20:\n",
        "        phrase = f\"The radiation was reported as {rad}.\"\n",
        "        rad_sentences.append(phrase)\n",
        "    if sentnum >= 21 and sentnum <= 25:\n",
        "        phrase = f\"The status of radiation was {rad}.\"\n",
        "        rad_sentences.append(phrase)\n",
        "    if sentnum >= 26 and sentnum <= 30:\n",
        "        phrase = f\"The status of radiation was found to be {rad}.\"\n",
        "        rad_sentences.append(phrase)\n",
        "    if sentnum >= 31 and sentnum <= 35:\n",
        "        phrase = f\"It was confirmed that the radiation status was {rad}.\"\n",
        "        rad_sentences.append(phrase)\n",
        "    if sentnum >= 36 and sentnum <= 40:\n",
        "        phrase = f\"The result of the radiation assessment was {rad}.\"\n",
        "        rad_sentences.append(phrase)\n",
        "    if sentnum >= 41 and sentnum <= 45:\n",
        "        phrase = f\"The radiation evaluation indicated a status of {rad}.\"\n",
        "        rad_sentences.append(phrase)\n",
        "    if sentnum >= 46 and sentnum <= 50:\n",
        "        phrase = f\"The radiation status was assessed and found to be {rad}.\"\n",
        "        rad_sentences.append(phrase)"
      ],
      "metadata": {
        "id": "DQUfRlQVmd9u"
      },
      "execution_count": null,
      "outputs": []
    },
    {
      "cell_type": "code",
      "source": [
        "# Save the full list of sentences to a text file\n",
        "output_file_path = '/content/drive/MyDrive/histodiagnosisdata/histological_diagnosis_rad.txt'\n",
        "with open(output_file_path, 'w') as file:\n",
        "    file.write('\\n'.join(rad_sentences))"
      ],
      "metadata": {
        "id": "XFUMD-LZmd9u"
      },
      "execution_count": null,
      "outputs": []
    },
    {
      "cell_type": "markdown",
      "source": [
        "# **Recurrence**"
      ],
      "metadata": {
        "id": "RCchsggCnZn7"
      }
    },
    {
      "cell_type": "code",
      "source": [
        "import pandas as pd\n",
        "\n",
        "# Load the uploaded CSV file to examine its structure and content\n",
        "file_path = '/content/drive/MyDrive/NSCLCR01Radiogenomic_DATA_LABELS_2018-05-22_1500-shifted.csv'\n",
        "data = pd.read_csv(file_path)\n",
        "\n",
        "# Display the first few rows of the dataset to understand its structure\n",
        "data.head(), data.columns"
      ],
      "metadata": {
        "colab": {
          "base_uri": "https://localhost:8080/"
        },
        "outputId": "973f39ef-671c-4f98-c040-7b4a086c0fc3",
        "id": "3F8-XR-_nf27"
      },
      "execution_count": null,
      "outputs": [
        {
          "output_type": "execute_result",
          "data": {
            "text/plain": [
              "(   Case ID Patient affiliation  Age at Histological Diagnosis   Weight (lbs)  \\\n",
              " 0  AMC-001            Stanford                             34  Not Collected   \n",
              " 1  AMC-002            Stanford                             33  Not Collected   \n",
              " 2  AMC-003            Stanford                             69  Not Collected   \n",
              " 3  AMC-004            Stanford                             80  Not Collected   \n",
              " 4  AMC-005            Stanford                             76  Not Collected   \n",
              " \n",
              "    Gender                 Ethnicity Smoking status Pack Years  \\\n",
              " 0    Male  Not Recorded In Database      Nonsmoker        NaN   \n",
              " 1  Female  Not Recorded In Database      Nonsmoker        NaN   \n",
              " 2  Female  Not Recorded In Database      Nonsmoker        NaN   \n",
              " 3  Female  Not Recorded In Database      Nonsmoker        NaN   \n",
              " 4    Male  Not Recorded In Database         Former         30   \n",
              " \n",
              "    Quit Smoking Year           %GG  ... Recurrence Recurrence Location  \\\n",
              " 0                NaN  Not Assessed  ...        yes             distant   \n",
              " 1                NaN  Not Assessed  ...         no                 NaN   \n",
              " 2                NaN  Not Assessed  ...         no                 NaN   \n",
              " 3                NaN  Not Assessed  ...         no                 NaN   \n",
              " 4             1962.0  Not Assessed  ...        yes             distant   \n",
              " \n",
              "   Date of Recurrence Date of Last Known Alive Survival Status Date of Death  \\\n",
              " 0          10/7/1994                 1/7/1997            Dead      1/7/1997   \n",
              " 1                NaN                3/20/1992           Alive           NaN   \n",
              " 2                NaN                6/19/1996           Alive           NaN   \n",
              " 3                NaN               12/13/1996           Alive           NaN   \n",
              " 4           1/4/1996                 1/7/1997           Alive           NaN   \n",
              " \n",
              "   Time to Death (days)     CT Date Days between CT and surgery       PET Date  \n",
              " 0                872.0   8/10/1994                           9  Not Collected  \n",
              " 1                  NaN   2/19/1992                           3  Not Collected  \n",
              " 2                  NaN   2/23/1995                          28  Not Collected  \n",
              " 3                  NaN  12/26/1992                          47  Not Collected  \n",
              " 4                  NaN   7/21/1994                           2  Not Collected  \n",
              " \n",
              " [5 rows x 40 columns],\n",
              " Index(['Case ID', 'Patient affiliation', 'Age at Histological Diagnosis',\n",
              "        'Weight (lbs)', 'Gender', 'Ethnicity', 'Smoking status', 'Pack Years',\n",
              "        'Quit Smoking Year', '%GG', 'Tumor Location (choice=RUL)',\n",
              "        'Tumor Location (choice=RML)', 'Tumor Location (choice=RLL)',\n",
              "        'Tumor Location (choice=LUL)', 'Tumor Location (choice=LLL)',\n",
              "        'Tumor Location (choice=L Lingula)', 'Tumor Location (choice=Unknown)',\n",
              "        'Histology ', 'Pathological T stage', 'Pathological N stage',\n",
              "        'Pathological M stage', 'Histopathological Grade',\n",
              "        'Lymphovascular invasion',\n",
              "        'Pleural invasion (elastic, visceral, or parietal)',\n",
              "        'EGFR mutation status', 'KRAS mutation status',\n",
              "        'ALK translocation status', 'Adjuvant Treatment', 'Chemotherapy',\n",
              "        'Radiation', 'Recurrence', 'Recurrence Location', 'Date of Recurrence',\n",
              "        'Date of Last Known Alive', 'Survival Status', 'Date of Death',\n",
              "        'Time to Death (days)', 'CT Date', 'Days between CT and surgery',\n",
              "        'PET Date'],\n",
              "       dtype='object'))"
            ]
          },
          "metadata": {},
          "execution_count": 48
        }
      ]
    },
    {
      "cell_type": "code",
      "source": [
        "# Extract the relevant columns: \"Case ID\" and \"Recurrence\"\n",
        "rec_data = data[['Case ID', 'Recurrence']].copy()\n",
        "\n",
        "# Fill missing values with 'N/A'\n",
        "rec_data['Recurrence'] = rec_data['Recurrence'].fillna('N/A')\n",
        "\n",
        "import random\n",
        "\n",
        "# Generate unique sentences for each case\n",
        "rec_sentences = []\n",
        "for _, row in rec_data.iterrows():\n",
        "    case_id = row['Case ID']\n",
        "    rec = row['Recurrence']\n",
        "    sentnum = random.randint(1, 50)\n",
        "\n",
        "    # Generate sentences based on random numbers\n",
        "    if sentnum >= 1 and sentnum <= 5:\n",
        "        phrase = f\"The recurrence status was {rec}.\"\n",
        "        rec_sentences.append(phrase)\n",
        "    if sentnum >= 6 and sentnum <= 10:\n",
        "        phrase = f\"It was determined that the recurrence status was {rec}.\"\n",
        "        rec_sentences.append(phrase)\n",
        "    if sentnum >= 11 and sentnum <= 15:\n",
        "        phrase = f\"The status regarding recurrence was {rec}.\"\n",
        "        rec_sentences.append(phrase)\n",
        "    if sentnum >= 16 and sentnum <= 20:\n",
        "        phrase = f\"The recurrence was reported as {rec}.\"\n",
        "        rec_sentences.append(phrase)\n",
        "    if sentnum >= 21 and sentnum <= 25:\n",
        "        phrase = f\"The status of recurrence was {rec}.\"\n",
        "        rec_sentences.append(phrase)\n",
        "    if sentnum >= 26 and sentnum <= 30:\n",
        "        phrase = f\"The status of recurrence was found to be {rec}.\"\n",
        "        rec_sentences.append(phrase)\n",
        "    if sentnum >= 31 and sentnum <= 35:\n",
        "        phrase = f\"It was confirmed that the recurrence status was {rec}.\"\n",
        "        rec_sentences.append(phrase)\n",
        "    if sentnum >= 36 and sentnum <= 40:\n",
        "        phrase = f\"The result of the recurrence assessment was {rec}.\"\n",
        "        rec_sentences.append(phrase)\n",
        "    if sentnum >= 41 and sentnum <= 45:\n",
        "        phrase = f\"The recurrence evaluation indicated a status of {rec}.\"\n",
        "        rec_sentences.append(phrase)\n",
        "    if sentnum >= 46 and sentnum <= 50:\n",
        "        phrase = f\"The recurrence status was assessed and found to be {rec}.\"\n",
        "        rec_sentences.append(phrase)"
      ],
      "metadata": {
        "id": "C0dC4U-Ynf28"
      },
      "execution_count": null,
      "outputs": []
    },
    {
      "cell_type": "code",
      "source": [
        "# Save the full list of sentences to a text file\n",
        "output_file_path = '/content/drive/MyDrive/histodiagnosisdata/histological_diagnosis_rec.txt'\n",
        "with open(output_file_path, 'w') as file:\n",
        "    file.write('\\n'.join(rec_sentences))"
      ],
      "metadata": {
        "id": "sYngkuRynf28"
      },
      "execution_count": null,
      "outputs": []
    },
    {
      "cell_type": "markdown",
      "source": [
        "# **Recurrence Location**"
      ],
      "metadata": {
        "id": "MlCbbn5yoBYK"
      }
    },
    {
      "cell_type": "code",
      "source": [
        "import pandas as pd\n",
        "\n",
        "# Load the uploaded CSV file to examine its structure and content\n",
        "file_path = '/content/drive/MyDrive/NSCLCR01Radiogenomic_DATA_LABELS_2018-05-22_1500-shifted.csv'\n",
        "data = pd.read_csv(file_path)\n",
        "\n",
        "# Display the first few rows of the dataset to understand its structure\n",
        "data.head(), data.columns"
      ],
      "metadata": {
        "colab": {
          "base_uri": "https://localhost:8080/"
        },
        "outputId": "a3004062-8439-42a5-b2a4-c1b3d061037d",
        "id": "wE4RE3UnoEfx"
      },
      "execution_count": null,
      "outputs": [
        {
          "output_type": "execute_result",
          "data": {
            "text/plain": [
              "(   Case ID Patient affiliation  Age at Histological Diagnosis   Weight (lbs)  \\\n",
              " 0  AMC-001            Stanford                             34  Not Collected   \n",
              " 1  AMC-002            Stanford                             33  Not Collected   \n",
              " 2  AMC-003            Stanford                             69  Not Collected   \n",
              " 3  AMC-004            Stanford                             80  Not Collected   \n",
              " 4  AMC-005            Stanford                             76  Not Collected   \n",
              " \n",
              "    Gender                 Ethnicity Smoking status Pack Years  \\\n",
              " 0    Male  Not Recorded In Database      Nonsmoker        NaN   \n",
              " 1  Female  Not Recorded In Database      Nonsmoker        NaN   \n",
              " 2  Female  Not Recorded In Database      Nonsmoker        NaN   \n",
              " 3  Female  Not Recorded In Database      Nonsmoker        NaN   \n",
              " 4    Male  Not Recorded In Database         Former         30   \n",
              " \n",
              "    Quit Smoking Year           %GG  ... Recurrence Recurrence Location  \\\n",
              " 0                NaN  Not Assessed  ...        yes             distant   \n",
              " 1                NaN  Not Assessed  ...         no                 NaN   \n",
              " 2                NaN  Not Assessed  ...         no                 NaN   \n",
              " 3                NaN  Not Assessed  ...         no                 NaN   \n",
              " 4             1962.0  Not Assessed  ...        yes             distant   \n",
              " \n",
              "   Date of Recurrence Date of Last Known Alive Survival Status Date of Death  \\\n",
              " 0          10/7/1994                 1/7/1997            Dead      1/7/1997   \n",
              " 1                NaN                3/20/1992           Alive           NaN   \n",
              " 2                NaN                6/19/1996           Alive           NaN   \n",
              " 3                NaN               12/13/1996           Alive           NaN   \n",
              " 4           1/4/1996                 1/7/1997           Alive           NaN   \n",
              " \n",
              "   Time to Death (days)     CT Date Days between CT and surgery       PET Date  \n",
              " 0                872.0   8/10/1994                           9  Not Collected  \n",
              " 1                  NaN   2/19/1992                           3  Not Collected  \n",
              " 2                  NaN   2/23/1995                          28  Not Collected  \n",
              " 3                  NaN  12/26/1992                          47  Not Collected  \n",
              " 4                  NaN   7/21/1994                           2  Not Collected  \n",
              " \n",
              " [5 rows x 40 columns],\n",
              " Index(['Case ID', 'Patient affiliation', 'Age at Histological Diagnosis',\n",
              "        'Weight (lbs)', 'Gender', 'Ethnicity', 'Smoking status', 'Pack Years',\n",
              "        'Quit Smoking Year', '%GG', 'Tumor Location (choice=RUL)',\n",
              "        'Tumor Location (choice=RML)', 'Tumor Location (choice=RLL)',\n",
              "        'Tumor Location (choice=LUL)', 'Tumor Location (choice=LLL)',\n",
              "        'Tumor Location (choice=L Lingula)', 'Tumor Location (choice=Unknown)',\n",
              "        'Histology ', 'Pathological T stage', 'Pathological N stage',\n",
              "        'Pathological M stage', 'Histopathological Grade',\n",
              "        'Lymphovascular invasion',\n",
              "        'Pleural invasion (elastic, visceral, or parietal)',\n",
              "        'EGFR mutation status', 'KRAS mutation status',\n",
              "        'ALK translocation status', 'Adjuvant Treatment', 'Chemotherapy',\n",
              "        'Radiation', 'Recurrence', 'Recurrence Location', 'Date of Recurrence',\n",
              "        'Date of Last Known Alive', 'Survival Status', 'Date of Death',\n",
              "        'Time to Death (days)', 'CT Date', 'Days between CT and surgery',\n",
              "        'PET Date'],\n",
              "       dtype='object'))"
            ]
          },
          "metadata": {},
          "execution_count": 54
        }
      ]
    },
    {
      "cell_type": "code",
      "source": [
        "# Extract the relevant columns: \"Case ID\" and \"Recurrence\"\n",
        "loc_data = data[['Case ID', 'Recurrence Location']].copy()\n",
        "\n",
        "# Fill missing values with 'N/A'\n",
        "loc_data['Recurrence Location'] = loc_data['Recurrence Location'].fillna('N/A')\n",
        "\n",
        "import random\n",
        "\n",
        "# Generate unique sentences for each case\n",
        "loc_sentences = []\n",
        "for _, row in loc_data.iterrows():\n",
        "    case_id = row['Case ID']\n",
        "    loc = row['Recurrence Location']\n",
        "    sentnum = random.randint(1, 50)\n",
        "\n",
        "    # Generate sentences based on random numbers\n",
        "    if sentnum >= 1 and sentnum <= 5:\n",
        "        phrase = f\"The location of the recurrence was {loc}.\"\n",
        "        loc_sentences.append(phrase)\n",
        "    if sentnum >= 6 and sentnum <= 10:\n",
        "        phrase = f\"The recurrence location was {loc}.\"\n",
        "        loc_sentences.append(phrase)\n",
        "    if sentnum >= 11 and sentnum <= 15:\n",
        "        phrase = f\"The recurrence site was identified as {loc}.\"\n",
        "        loc_sentences.append(phrase)\n",
        "    if sentnum >= 16 and sentnum <= 20:\n",
        "        phrase = f\"The site of the recurrence was {loc}.\"\n",
        "        loc_sentences.append(phrase)\n",
        "    if sentnum >= 21 and sentnum <= 25:\n",
        "        phrase = f\"The recurrence was located in a {loc} area.\"\n",
        "        loc_sentences.append(phrase)\n",
        "    if sentnum >= 26 and sentnum <= 30:\n",
        "        phrase = f\"The recurrence was detected in a {loc} region.\"\n",
        "        loc_sentences.append(phrase)\n",
        "    if sentnum >= 31 and sentnum <= 35:\n",
        "        phrase = f\"Upon examination, the recurrence location was {loc}.\"\n",
        "        loc_sentences.append(phrase)\n",
        "    if sentnum >= 36 and sentnum <= 40:\n",
        "        phrase = f\"The recurrence took place in a {loc} area.\"\n",
        "        loc_sentences.append(phrase)\n",
        "    if sentnum >= 41 and sentnum <= 45:\n",
        "        phrase = f\"The recurrence site was reported as {loc}.\"\n",
        "        loc_sentences.append(phrase)\n",
        "    if sentnum >= 46 and sentnum <= 50:\n",
        "        phrase = f\"The recurrence was classified as {loc}.\"\n",
        "        loc_sentences.append(phrase)"
      ],
      "metadata": {
        "id": "RU9yGQuzoEfy"
      },
      "execution_count": null,
      "outputs": []
    },
    {
      "cell_type": "code",
      "source": [
        "# Save the full list of sentences to a text file\n",
        "output_file_path = '/content/drive/MyDrive/histodiagnosisdata/histological_diagnosis_loc.txt'\n",
        "with open(output_file_path, 'w') as file:\n",
        "    file.write('\\n'.join(loc_sentences))"
      ],
      "metadata": {
        "id": "DNJz7dFUoEfy"
      },
      "execution_count": null,
      "outputs": []
    }
  ]
}